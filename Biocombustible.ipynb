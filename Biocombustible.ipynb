{
  "nbformat": 4,
  "nbformat_minor": 0,
  "metadata": {
    "colab": {
      "provenance": [],
      "toc_visible": true,
      "include_colab_link": true
    },
    "kernelspec": {
      "name": "python3",
      "display_name": "Python 3"
    },
    "language_info": {
      "name": "python"
    }
  },
  "cells": [
    {
      "cell_type": "markdown",
      "metadata": {
        "id": "view-in-github",
        "colab_type": "text"
      },
      "source": [
        "<a href=\"https://colab.research.google.com/github/SebaSego/AnalisisDatos/blob/main/Biocombustible.ipynb\" target=\"_parent\"><img src=\"https://colab.research.google.com/assets/colab-badge.svg\" alt=\"Open In Colab\"/></a>"
      ]
    },
    {
      "cell_type": "markdown",
      "source": [
        "# Biocombustibles en Argentina\n"
      ],
      "metadata": {
        "id": "ybCjpHwa5BWp"
      }
    },
    {
      "cell_type": "markdown",
      "source": [
        "## Fuente de datos\n",
        "\n",
        "Datos extraidos del portal https://datos.gob.ar\n",
        "\n",
        "Datos sobre producción de soja destinada al biodiesel https://datos.gob.ar/dataset/agroindustria-soja---produccion-aceite-para-biodiesel\n"
      ],
      "metadata": {
        "id": "cIDR250g7nl1"
      }
    },
    {
      "cell_type": "markdown",
      "source": [
        "### (instalar software, etc.)"
      ],
      "metadata": {
        "id": "8Bs55dyn_TYN"
      }
    },
    {
      "cell_type": "code",
      "source": [
        "!pip install --upgrade plotly >/dev/null 2>&1 ;\n",
        ";"
      ],
      "metadata": {
        "colab": {
          "base_uri": "https://localhost:8080/",
          "height": 35
        },
        "id": "MKceMSZxUaUd",
        "outputId": "c27e1eda-1864-4046-bd81-50920ed678c4"
      },
      "execution_count": null,
      "outputs": [
        {
          "output_type": "execute_result",
          "data": {
            "text/plain": [
              "''"
            ],
            "application/vnd.google.colaboratory.intrinsic+json": {
              "type": "string"
            }
          },
          "metadata": {},
          "execution_count": 15
        }
      ]
    },
    {
      "cell_type": "markdown",
      "source": [
        "# Nueva sección"
      ],
      "metadata": {
        "id": "phQ1LuFFv0NS"
      }
    },
    {
      "cell_type": "code",
      "execution_count": null,
      "metadata": {
        "id": "r7BN_GorT_Pt"
      },
      "outputs": [],
      "source": [
        "PrepareForWeb= False\n",
        "PrepareForWeb= True #U: descomentar esta línea antes de guardar en github"
      ]
    },
    {
      "cell_type": "code",
      "source": [
        "import pandas as pd #U: leer y agrupar datos\n",
        "import numpy as np\n",
        "\n",
        "import plotly.graph_objects as go #U: graficar con plotly\n",
        "import plotly.express as px #U: graficar con plotly\n",
        "import plotly #SEE: https://medium.com/@282abhishek/using-plotly-with-nbconvert-in-google-colab-96834c4f2850\n",
        "if PrepareForWeb:\n",
        "  plotly.offline.init_notebook_mode(connected=True)\n",
        "else:\n",
        "  plotly.io.renderers.default = 'colab'"
      ],
      "metadata": {
        "colab": {
          "base_uri": "https://localhost:8080/",
          "height": 17
        },
        "id": "ri-ZOgJ1U7_W",
        "outputId": "c7892230-7400-470b-922c-f688ecba6c25"
      },
      "execution_count": null,
      "outputs": [
        {
          "output_type": "display_data",
          "data": {
            "text/html": [
              "        <script type=\"text/javascript\">\n",
              "        window.PlotlyConfig = {MathJaxConfig: 'local'};\n",
              "        if (window.MathJax && window.MathJax.Hub && window.MathJax.Hub.Config) {window.MathJax.Hub.Config({SVG: {font: \"STIX-Web\"}});}\n",
              "        if (typeof require !== 'undefined') {\n",
              "        require.undef(\"plotly\");\n",
              "        requirejs.config({\n",
              "            paths: {\n",
              "                'plotly': ['https://cdn.plot.ly/plotly-2.27.0.min']\n",
              "            }\n",
              "        });\n",
              "        require(['plotly'], function(Plotly) {\n",
              "            window._Plotly = Plotly;\n",
              "        });\n",
              "        }\n",
              "        </script>\n",
              "        "
            ]
          },
          "metadata": {}
        }
      ]
    },
    {
      "cell_type": "markdown",
      "source": [
        "##Datos de producción y ventas de biocombustibles.\n",
        "Datos extraidos de https://datos.gob.ar/dataset/sspm-produccion-ventas-biocombustibles\n",
        "\n",
        "Unidades medidas en toneladas"
      ],
      "metadata": {
        "id": "EuS3Mq8_UA8Z"
      }
    },
    {
      "cell_type": "code",
      "source": [
        "df_biocombustibles = pd.read_csv('https://infra.datos.gob.ar/catalog/sspm/dataset/368/distribution/368.3/download/produccion-ventas-biocombustibles-anual-mensual.csv')\n",
        "\n",
        "df_biocombustibles.rename(columns={'indice_tiempo':'fecha'}, inplace=True)\n",
        "df_biocombustibles.fecha = pd.to_datetime(df_biocombustibles.fecha, format='%Y-%m-%d')\n",
        "df_biocombustibles['total_ventas'] = df_biocombustibles['biodisel_ventas_al_corte']+ df_biocombustibles['biodisel_otras_ventas_al_mercado_interno']+df_biocombustibles['biodisel_exportaciones']\n",
        "\n",
        "df_biocombustibles.head()"
      ],
      "metadata": {
        "id": "XAC_oKWKUOoN",
        "outputId": "71158ee6-4ce6-4873-85ad-c3fef57ffe75",
        "colab": {
          "base_uri": "https://localhost:8080/",
          "height": 313
        }
      },
      "execution_count": null,
      "outputs": [
        {
          "output_type": "execute_result",
          "data": {
            "text/plain": [
              "       fecha  biodisel_produccion  biodisel_ventas_al_corte  \\\n",
              "0 2008-01-01              47251.0                       0.0   \n",
              "1 2008-02-01              38747.0                       0.0   \n",
              "2 2008-03-01              42095.0                       0.0   \n",
              "3 2008-04-01              43881.0                       0.0   \n",
              "4 2008-05-01              51679.0                       0.0   \n",
              "\n",
              "   biodisel_otras_ventas_al_mercado_interno  biodisel_exportaciones  \\\n",
              "0                                       1.0                 43599.0   \n",
              "1                                       0.0                 25147.0   \n",
              "2                                     264.0                 52150.0   \n",
              "3                                       0.0                 55907.0   \n",
              "4                                       0.0                 42214.0   \n",
              "\n",
              "   bioetanol_total_produccion  bioetanol_total_ventas_corte  \\\n",
              "0                         NaN                           NaN   \n",
              "1                         NaN                           NaN   \n",
              "2                         NaN                           NaN   \n",
              "3                         NaN                           NaN   \n",
              "4                         NaN                           NaN   \n",
              "\n",
              "   bioetanol_en_base_a_maiz_produccion  bioetanol_base_maiz_ventas_corte  \\\n",
              "0                                  NaN                               NaN   \n",
              "1                                  NaN                               NaN   \n",
              "2                                  NaN                               NaN   \n",
              "3                                  NaN                               NaN   \n",
              "4                                  NaN                               NaN   \n",
              "\n",
              "   bioetanol_base_cania_azucar_produccion  \\\n",
              "0                                     NaN   \n",
              "1                                     NaN   \n",
              "2                                     NaN   \n",
              "3                                     NaN   \n",
              "4                                     NaN   \n",
              "\n",
              "   bioetanol_base_cania_azucar_ventas_corte  total_ventas  \n",
              "0                                       NaN       43600.0  \n",
              "1                                       NaN       25147.0  \n",
              "2                                       NaN       52414.0  \n",
              "3                                       NaN       55907.0  \n",
              "4                                       NaN       42214.0  "
            ],
            "text/html": [
              "\n",
              "  <div id=\"df-232e20f4-3dad-4cd3-8321-ac13f1ac11c9\" class=\"colab-df-container\">\n",
              "    <div>\n",
              "<style scoped>\n",
              "    .dataframe tbody tr th:only-of-type {\n",
              "        vertical-align: middle;\n",
              "    }\n",
              "\n",
              "    .dataframe tbody tr th {\n",
              "        vertical-align: top;\n",
              "    }\n",
              "\n",
              "    .dataframe thead th {\n",
              "        text-align: right;\n",
              "    }\n",
              "</style>\n",
              "<table border=\"1\" class=\"dataframe\">\n",
              "  <thead>\n",
              "    <tr style=\"text-align: right;\">\n",
              "      <th></th>\n",
              "      <th>fecha</th>\n",
              "      <th>biodisel_produccion</th>\n",
              "      <th>biodisel_ventas_al_corte</th>\n",
              "      <th>biodisel_otras_ventas_al_mercado_interno</th>\n",
              "      <th>biodisel_exportaciones</th>\n",
              "      <th>bioetanol_total_produccion</th>\n",
              "      <th>bioetanol_total_ventas_corte</th>\n",
              "      <th>bioetanol_en_base_a_maiz_produccion</th>\n",
              "      <th>bioetanol_base_maiz_ventas_corte</th>\n",
              "      <th>bioetanol_base_cania_azucar_produccion</th>\n",
              "      <th>bioetanol_base_cania_azucar_ventas_corte</th>\n",
              "      <th>total_ventas</th>\n",
              "    </tr>\n",
              "  </thead>\n",
              "  <tbody>\n",
              "    <tr>\n",
              "      <th>0</th>\n",
              "      <td>2008-01-01</td>\n",
              "      <td>47251.0</td>\n",
              "      <td>0.0</td>\n",
              "      <td>1.0</td>\n",
              "      <td>43599.0</td>\n",
              "      <td>NaN</td>\n",
              "      <td>NaN</td>\n",
              "      <td>NaN</td>\n",
              "      <td>NaN</td>\n",
              "      <td>NaN</td>\n",
              "      <td>NaN</td>\n",
              "      <td>43600.0</td>\n",
              "    </tr>\n",
              "    <tr>\n",
              "      <th>1</th>\n",
              "      <td>2008-02-01</td>\n",
              "      <td>38747.0</td>\n",
              "      <td>0.0</td>\n",
              "      <td>0.0</td>\n",
              "      <td>25147.0</td>\n",
              "      <td>NaN</td>\n",
              "      <td>NaN</td>\n",
              "      <td>NaN</td>\n",
              "      <td>NaN</td>\n",
              "      <td>NaN</td>\n",
              "      <td>NaN</td>\n",
              "      <td>25147.0</td>\n",
              "    </tr>\n",
              "    <tr>\n",
              "      <th>2</th>\n",
              "      <td>2008-03-01</td>\n",
              "      <td>42095.0</td>\n",
              "      <td>0.0</td>\n",
              "      <td>264.0</td>\n",
              "      <td>52150.0</td>\n",
              "      <td>NaN</td>\n",
              "      <td>NaN</td>\n",
              "      <td>NaN</td>\n",
              "      <td>NaN</td>\n",
              "      <td>NaN</td>\n",
              "      <td>NaN</td>\n",
              "      <td>52414.0</td>\n",
              "    </tr>\n",
              "    <tr>\n",
              "      <th>3</th>\n",
              "      <td>2008-04-01</td>\n",
              "      <td>43881.0</td>\n",
              "      <td>0.0</td>\n",
              "      <td>0.0</td>\n",
              "      <td>55907.0</td>\n",
              "      <td>NaN</td>\n",
              "      <td>NaN</td>\n",
              "      <td>NaN</td>\n",
              "      <td>NaN</td>\n",
              "      <td>NaN</td>\n",
              "      <td>NaN</td>\n",
              "      <td>55907.0</td>\n",
              "    </tr>\n",
              "    <tr>\n",
              "      <th>4</th>\n",
              "      <td>2008-05-01</td>\n",
              "      <td>51679.0</td>\n",
              "      <td>0.0</td>\n",
              "      <td>0.0</td>\n",
              "      <td>42214.0</td>\n",
              "      <td>NaN</td>\n",
              "      <td>NaN</td>\n",
              "      <td>NaN</td>\n",
              "      <td>NaN</td>\n",
              "      <td>NaN</td>\n",
              "      <td>NaN</td>\n",
              "      <td>42214.0</td>\n",
              "    </tr>\n",
              "  </tbody>\n",
              "</table>\n",
              "</div>\n",
              "    <div class=\"colab-df-buttons\">\n",
              "\n",
              "  <div class=\"colab-df-container\">\n",
              "    <button class=\"colab-df-convert\" onclick=\"convertToInteractive('df-232e20f4-3dad-4cd3-8321-ac13f1ac11c9')\"\n",
              "            title=\"Convert this dataframe to an interactive table.\"\n",
              "            style=\"display:none;\">\n",
              "\n",
              "  <svg xmlns=\"http://www.w3.org/2000/svg\" height=\"24px\" viewBox=\"0 -960 960 960\">\n",
              "    <path d=\"M120-120v-720h720v720H120Zm60-500h600v-160H180v160Zm220 220h160v-160H400v160Zm0 220h160v-160H400v160ZM180-400h160v-160H180v160Zm440 0h160v-160H620v160ZM180-180h160v-160H180v160Zm440 0h160v-160H620v160Z\"/>\n",
              "  </svg>\n",
              "    </button>\n",
              "\n",
              "  <style>\n",
              "    .colab-df-container {\n",
              "      display:flex;\n",
              "      gap: 12px;\n",
              "    }\n",
              "\n",
              "    .colab-df-convert {\n",
              "      background-color: #E8F0FE;\n",
              "      border: none;\n",
              "      border-radius: 50%;\n",
              "      cursor: pointer;\n",
              "      display: none;\n",
              "      fill: #1967D2;\n",
              "      height: 32px;\n",
              "      padding: 0 0 0 0;\n",
              "      width: 32px;\n",
              "    }\n",
              "\n",
              "    .colab-df-convert:hover {\n",
              "      background-color: #E2EBFA;\n",
              "      box-shadow: 0px 1px 2px rgba(60, 64, 67, 0.3), 0px 1px 3px 1px rgba(60, 64, 67, 0.15);\n",
              "      fill: #174EA6;\n",
              "    }\n",
              "\n",
              "    .colab-df-buttons div {\n",
              "      margin-bottom: 4px;\n",
              "    }\n",
              "\n",
              "    [theme=dark] .colab-df-convert {\n",
              "      background-color: #3B4455;\n",
              "      fill: #D2E3FC;\n",
              "    }\n",
              "\n",
              "    [theme=dark] .colab-df-convert:hover {\n",
              "      background-color: #434B5C;\n",
              "      box-shadow: 0px 1px 3px 1px rgba(0, 0, 0, 0.15);\n",
              "      filter: drop-shadow(0px 1px 2px rgba(0, 0, 0, 0.3));\n",
              "      fill: #FFFFFF;\n",
              "    }\n",
              "  </style>\n",
              "\n",
              "    <script>\n",
              "      const buttonEl =\n",
              "        document.querySelector('#df-232e20f4-3dad-4cd3-8321-ac13f1ac11c9 button.colab-df-convert');\n",
              "      buttonEl.style.display =\n",
              "        google.colab.kernel.accessAllowed ? 'block' : 'none';\n",
              "\n",
              "      async function convertToInteractive(key) {\n",
              "        const element = document.querySelector('#df-232e20f4-3dad-4cd3-8321-ac13f1ac11c9');\n",
              "        const dataTable =\n",
              "          await google.colab.kernel.invokeFunction('convertToInteractive',\n",
              "                                                    [key], {});\n",
              "        if (!dataTable) return;\n",
              "\n",
              "        const docLinkHtml = 'Like what you see? Visit the ' +\n",
              "          '<a target=\"_blank\" href=https://colab.research.google.com/notebooks/data_table.ipynb>data table notebook</a>'\n",
              "          + ' to learn more about interactive tables.';\n",
              "        element.innerHTML = '';\n",
              "        dataTable['output_type'] = 'display_data';\n",
              "        await google.colab.output.renderOutput(dataTable, element);\n",
              "        const docLink = document.createElement('div');\n",
              "        docLink.innerHTML = docLinkHtml;\n",
              "        element.appendChild(docLink);\n",
              "      }\n",
              "    </script>\n",
              "  </div>\n",
              "\n",
              "\n",
              "<div id=\"df-1db22276-f2ae-4f8e-b295-962d095a39c9\">\n",
              "  <button class=\"colab-df-quickchart\" onclick=\"quickchart('df-1db22276-f2ae-4f8e-b295-962d095a39c9')\"\n",
              "            title=\"Suggest charts\"\n",
              "            style=\"display:none;\">\n",
              "\n",
              "<svg xmlns=\"http://www.w3.org/2000/svg\" height=\"24px\"viewBox=\"0 0 24 24\"\n",
              "     width=\"24px\">\n",
              "    <g>\n",
              "        <path d=\"M19 3H5c-1.1 0-2 .9-2 2v14c0 1.1.9 2 2 2h14c1.1 0 2-.9 2-2V5c0-1.1-.9-2-2-2zM9 17H7v-7h2v7zm4 0h-2V7h2v10zm4 0h-2v-4h2v4z\"/>\n",
              "    </g>\n",
              "</svg>\n",
              "  </button>\n",
              "\n",
              "<style>\n",
              "  .colab-df-quickchart {\n",
              "      --bg-color: #E8F0FE;\n",
              "      --fill-color: #1967D2;\n",
              "      --hover-bg-color: #E2EBFA;\n",
              "      --hover-fill-color: #174EA6;\n",
              "      --disabled-fill-color: #AAA;\n",
              "      --disabled-bg-color: #DDD;\n",
              "  }\n",
              "\n",
              "  [theme=dark] .colab-df-quickchart {\n",
              "      --bg-color: #3B4455;\n",
              "      --fill-color: #D2E3FC;\n",
              "      --hover-bg-color: #434B5C;\n",
              "      --hover-fill-color: #FFFFFF;\n",
              "      --disabled-bg-color: #3B4455;\n",
              "      --disabled-fill-color: #666;\n",
              "  }\n",
              "\n",
              "  .colab-df-quickchart {\n",
              "    background-color: var(--bg-color);\n",
              "    border: none;\n",
              "    border-radius: 50%;\n",
              "    cursor: pointer;\n",
              "    display: none;\n",
              "    fill: var(--fill-color);\n",
              "    height: 32px;\n",
              "    padding: 0;\n",
              "    width: 32px;\n",
              "  }\n",
              "\n",
              "  .colab-df-quickchart:hover {\n",
              "    background-color: var(--hover-bg-color);\n",
              "    box-shadow: 0 1px 2px rgba(60, 64, 67, 0.3), 0 1px 3px 1px rgba(60, 64, 67, 0.15);\n",
              "    fill: var(--button-hover-fill-color);\n",
              "  }\n",
              "\n",
              "  .colab-df-quickchart-complete:disabled,\n",
              "  .colab-df-quickchart-complete:disabled:hover {\n",
              "    background-color: var(--disabled-bg-color);\n",
              "    fill: var(--disabled-fill-color);\n",
              "    box-shadow: none;\n",
              "  }\n",
              "\n",
              "  .colab-df-spinner {\n",
              "    border: 2px solid var(--fill-color);\n",
              "    border-color: transparent;\n",
              "    border-bottom-color: var(--fill-color);\n",
              "    animation:\n",
              "      spin 1s steps(1) infinite;\n",
              "  }\n",
              "\n",
              "  @keyframes spin {\n",
              "    0% {\n",
              "      border-color: transparent;\n",
              "      border-bottom-color: var(--fill-color);\n",
              "      border-left-color: var(--fill-color);\n",
              "    }\n",
              "    20% {\n",
              "      border-color: transparent;\n",
              "      border-left-color: var(--fill-color);\n",
              "      border-top-color: var(--fill-color);\n",
              "    }\n",
              "    30% {\n",
              "      border-color: transparent;\n",
              "      border-left-color: var(--fill-color);\n",
              "      border-top-color: var(--fill-color);\n",
              "      border-right-color: var(--fill-color);\n",
              "    }\n",
              "    40% {\n",
              "      border-color: transparent;\n",
              "      border-right-color: var(--fill-color);\n",
              "      border-top-color: var(--fill-color);\n",
              "    }\n",
              "    60% {\n",
              "      border-color: transparent;\n",
              "      border-right-color: var(--fill-color);\n",
              "    }\n",
              "    80% {\n",
              "      border-color: transparent;\n",
              "      border-right-color: var(--fill-color);\n",
              "      border-bottom-color: var(--fill-color);\n",
              "    }\n",
              "    90% {\n",
              "      border-color: transparent;\n",
              "      border-bottom-color: var(--fill-color);\n",
              "    }\n",
              "  }\n",
              "</style>\n",
              "\n",
              "  <script>\n",
              "    async function quickchart(key) {\n",
              "      const quickchartButtonEl =\n",
              "        document.querySelector('#' + key + ' button');\n",
              "      quickchartButtonEl.disabled = true;  // To prevent multiple clicks.\n",
              "      quickchartButtonEl.classList.add('colab-df-spinner');\n",
              "      try {\n",
              "        const charts = await google.colab.kernel.invokeFunction(\n",
              "            'suggestCharts', [key], {});\n",
              "      } catch (error) {\n",
              "        console.error('Error during call to suggestCharts:', error);\n",
              "      }\n",
              "      quickchartButtonEl.classList.remove('colab-df-spinner');\n",
              "      quickchartButtonEl.classList.add('colab-df-quickchart-complete');\n",
              "    }\n",
              "    (() => {\n",
              "      let quickchartButtonEl =\n",
              "        document.querySelector('#df-1db22276-f2ae-4f8e-b295-962d095a39c9 button');\n",
              "      quickchartButtonEl.style.display =\n",
              "        google.colab.kernel.accessAllowed ? 'block' : 'none';\n",
              "    })();\n",
              "  </script>\n",
              "</div>\n",
              "    </div>\n",
              "  </div>\n"
            ]
          },
          "metadata": {},
          "execution_count": 36
        }
      ]
    },
    {
      "cell_type": "code",
      "source": [
        "fig = px.line(df_biocombustibles, x=\"fecha\", y=[\"biodisel_produccion\",\"total_ventas\"], title='Datos de Producción y Ventas')\n",
        "fig.show()\n",
        "\n"
      ],
      "metadata": {
        "id": "JS-g_POZZQ8n",
        "outputId": "b73951dd-f5c7-4c1e-b6ce-53814e14b8b6",
        "colab": {
          "base_uri": "https://localhost:8080/",
          "height": 542
        }
      },
      "execution_count": null,
      "outputs": [
        {
          "output_type": "display_data",
          "data": {
            "application/vnd.plotly.v1+json": {
              "data": [
                {
                  "hovertemplate": "variable=biodisel_produccion<br>fecha=%{x}<br>value=%{y}<extra></extra>",
                  "legendgroup": "biodisel_produccion",
                  "line": {
                    "color": "#636efa",
                    "dash": "solid"
                  },
                  "marker": {
                    "symbol": "circle"
                  },
                  "mode": "lines",
                  "name": "biodisel_produccion",
                  "orientation": "v",
                  "showlegend": true,
                  "x": [
                    "2008-01-01T00:00:00",
                    "2008-02-01T00:00:00",
                    "2008-03-01T00:00:00",
                    "2008-04-01T00:00:00",
                    "2008-05-01T00:00:00",
                    "2008-06-01T00:00:00",
                    "2008-07-01T00:00:00",
                    "2008-08-01T00:00:00",
                    "2008-09-01T00:00:00",
                    "2008-10-01T00:00:00",
                    "2008-11-01T00:00:00",
                    "2008-12-01T00:00:00",
                    "2009-01-01T00:00:00",
                    "2009-02-01T00:00:00",
                    "2009-03-01T00:00:00",
                    "2009-04-01T00:00:00",
                    "2009-05-01T00:00:00",
                    "2009-06-01T00:00:00",
                    "2009-07-01T00:00:00",
                    "2009-08-01T00:00:00",
                    "2009-09-01T00:00:00",
                    "2009-10-01T00:00:00",
                    "2009-11-01T00:00:00",
                    "2009-12-01T00:00:00",
                    "2010-01-01T00:00:00",
                    "2010-02-01T00:00:00",
                    "2010-03-01T00:00:00",
                    "2010-04-01T00:00:00",
                    "2010-05-01T00:00:00",
                    "2010-06-01T00:00:00",
                    "2010-07-01T00:00:00",
                    "2010-08-01T00:00:00",
                    "2010-09-01T00:00:00",
                    "2010-10-01T00:00:00",
                    "2010-11-01T00:00:00",
                    "2010-12-01T00:00:00",
                    "2011-01-01T00:00:00",
                    "2011-02-01T00:00:00",
                    "2011-03-01T00:00:00",
                    "2011-04-01T00:00:00",
                    "2011-05-01T00:00:00",
                    "2011-06-01T00:00:00",
                    "2011-07-01T00:00:00",
                    "2011-08-01T00:00:00",
                    "2011-09-01T00:00:00",
                    "2011-10-01T00:00:00",
                    "2011-11-01T00:00:00",
                    "2011-12-01T00:00:00",
                    "2012-01-01T00:00:00",
                    "2012-02-01T00:00:00",
                    "2012-03-01T00:00:00",
                    "2012-04-01T00:00:00",
                    "2012-05-01T00:00:00",
                    "2012-06-01T00:00:00",
                    "2012-07-01T00:00:00",
                    "2012-08-01T00:00:00",
                    "2012-09-01T00:00:00",
                    "2012-10-01T00:00:00",
                    "2012-11-01T00:00:00",
                    "2012-12-01T00:00:00",
                    "2013-01-01T00:00:00",
                    "2013-02-01T00:00:00",
                    "2013-03-01T00:00:00",
                    "2013-04-01T00:00:00",
                    "2013-05-01T00:00:00",
                    "2013-06-01T00:00:00",
                    "2013-07-01T00:00:00",
                    "2013-08-01T00:00:00",
                    "2013-09-01T00:00:00",
                    "2013-10-01T00:00:00",
                    "2013-11-01T00:00:00",
                    "2013-12-01T00:00:00",
                    "2014-01-01T00:00:00",
                    "2014-02-01T00:00:00",
                    "2014-03-01T00:00:00",
                    "2014-04-01T00:00:00",
                    "2014-05-01T00:00:00",
                    "2014-06-01T00:00:00",
                    "2014-07-01T00:00:00",
                    "2014-08-01T00:00:00",
                    "2014-09-01T00:00:00",
                    "2014-10-01T00:00:00",
                    "2014-11-01T00:00:00",
                    "2014-12-01T00:00:00",
                    "2015-01-01T00:00:00",
                    "2015-02-01T00:00:00",
                    "2015-03-01T00:00:00",
                    "2015-04-01T00:00:00",
                    "2015-05-01T00:00:00",
                    "2015-06-01T00:00:00",
                    "2015-07-01T00:00:00",
                    "2015-08-01T00:00:00",
                    "2015-09-01T00:00:00",
                    "2015-10-01T00:00:00",
                    "2015-11-01T00:00:00",
                    "2015-12-01T00:00:00",
                    "2016-01-01T00:00:00",
                    "2016-02-01T00:00:00",
                    "2016-03-01T00:00:00",
                    "2016-04-01T00:00:00",
                    "2016-05-01T00:00:00",
                    "2016-06-01T00:00:00",
                    "2016-07-01T00:00:00",
                    "2016-08-01T00:00:00",
                    "2016-09-01T00:00:00",
                    "2016-10-01T00:00:00",
                    "2016-11-01T00:00:00",
                    "2016-12-01T00:00:00",
                    "2017-01-01T00:00:00",
                    "2017-02-01T00:00:00",
                    "2017-03-01T00:00:00",
                    "2017-04-01T00:00:00",
                    "2017-05-01T00:00:00",
                    "2017-06-01T00:00:00",
                    "2017-07-01T00:00:00",
                    "2017-08-01T00:00:00",
                    "2017-09-01T00:00:00",
                    "2017-10-01T00:00:00",
                    "2017-11-01T00:00:00",
                    "2017-12-01T00:00:00",
                    "2018-01-01T00:00:00",
                    "2018-02-01T00:00:00",
                    "2018-03-01T00:00:00",
                    "2018-04-01T00:00:00",
                    "2018-05-01T00:00:00",
                    "2018-06-01T00:00:00",
                    "2018-07-01T00:00:00",
                    "2018-08-01T00:00:00",
                    "2018-09-01T00:00:00",
                    "2018-10-01T00:00:00",
                    "2018-11-01T00:00:00",
                    "2018-12-01T00:00:00",
                    "2019-01-01T00:00:00",
                    "2019-02-01T00:00:00",
                    "2019-03-01T00:00:00",
                    "2019-04-01T00:00:00",
                    "2019-05-01T00:00:00",
                    "2019-06-01T00:00:00",
                    "2019-07-01T00:00:00",
                    "2019-08-01T00:00:00",
                    "2019-09-01T00:00:00",
                    "2019-10-01T00:00:00",
                    "2019-11-01T00:00:00",
                    "2019-12-01T00:00:00",
                    "2020-01-01T00:00:00",
                    "2020-02-01T00:00:00",
                    "2020-03-01T00:00:00",
                    "2020-04-01T00:00:00",
                    "2020-05-01T00:00:00",
                    "2020-06-01T00:00:00",
                    "2020-07-01T00:00:00",
                    "2020-08-01T00:00:00",
                    "2020-09-01T00:00:00",
                    "2020-10-01T00:00:00",
                    "2020-11-01T00:00:00",
                    "2020-12-01T00:00:00",
                    "2021-01-01T00:00:00",
                    "2021-02-01T00:00:00",
                    "2021-03-01T00:00:00",
                    "2021-04-01T00:00:00",
                    "2021-05-01T00:00:00",
                    "2021-06-01T00:00:00",
                    "2021-07-01T00:00:00",
                    "2021-08-01T00:00:00",
                    "2021-09-01T00:00:00",
                    "2021-10-01T00:00:00",
                    "2021-11-01T00:00:00",
                    "2021-12-01T00:00:00",
                    "2022-01-01T00:00:00",
                    "2022-02-01T00:00:00",
                    "2022-03-01T00:00:00",
                    "2022-04-01T00:00:00",
                    "2022-05-01T00:00:00",
                    "2022-06-01T00:00:00",
                    "2022-07-01T00:00:00",
                    "2022-08-01T00:00:00",
                    "2022-09-01T00:00:00",
                    "2022-10-01T00:00:00",
                    "2022-11-01T00:00:00",
                    "2022-12-01T00:00:00",
                    "2023-01-01T00:00:00",
                    "2023-02-01T00:00:00",
                    "2023-03-01T00:00:00",
                    "2023-04-01T00:00:00",
                    "2023-05-01T00:00:00",
                    "2023-06-01T00:00:00",
                    "2023-07-01T00:00:00",
                    "2023-08-01T00:00:00"
                  ],
                  "xaxis": "x",
                  "y": [
                    47251,
                    38747,
                    42095,
                    43881,
                    51679,
                    50726,
                    71888,
                    91595,
                    83924,
                    97429,
                    79530,
                    13119,
                    18355,
                    47673,
                    76655,
                    80577,
                    90288,
                    103000,
                    125872,
                    123928,
                    137501,
                    130614,
                    131458,
                    113182,
                    140247,
                    112508,
                    107929,
                    141733,
                    159105,
                    160019,
                    165098,
                    164382,
                    157835,
                    180593,
                    177578,
                    153358,
                    151848,
                    140363,
                    187813,
                    201369,
                    219703,
                    210080,
                    222315,
                    223808,
                    208434,
                    234989,
                    209900,
                    219342,
                    257933,
                    240003,
                    212499,
                    236400,
                    238838,
                    231039,
                    246371,
                    233859,
                    133081,
                    138008,
                    153248,
                    135299,
                    158499,
                    113745,
                    117664,
                    160321,
                    120693,
                    144813,
                    190969,
                    193324,
                    224570,
                    245438,
                    218046,
                    109727,
                    140472,
                    132589,
                    121194,
                    142470,
                    229302,
                    250044,
                    275067,
                    278323,
                    295401,
                    308897,
                    243455,
                    167076,
                    134435,
                    99065,
                    96673,
                    128439,
                    131226,
                    190445,
                    176765,
                    208493,
                    182871,
                    199680,
                    182761,
                    79804,
                    102682,
                    151101,
                    146050,
                    191408,
                    251535,
                    261774,
                    248648,
                    285386,
                    292540,
                    294168.1,
                    280907.8,
                    153075.55,
                    189763.37,
                    162199.72000000003,
                    172221.30000000005,
                    249430.87,
                    296823.87999999995,
                    282713.99999999994,
                    272984.60000000003,
                    169883.49000000005,
                    213971.21,
                    293096.32,
                    302618.48000000004,
                    265727.76,
                    244128.16,
                    157007.22,
                    177938.87999999995,
                    226424.78,
                    290434.69000000006,
                    265426.92,
                    260050.77,
                    134849.91,
                    174085,
                    132450.22000000003,
                    259636.46000000005,
                    106564.05,
                    83487.41999999998,
                    93137.39999999998,
                    198837.55,
                    274971.94999999995,
                    273161.6,
                    176760.43000000005,
                    135786,
                    203047.58,
                    208479.53000000003,
                    172332.16000000003,
                    163012.43000000005,
                    164256.43000000002,
                    105060.33,
                    189691.69,
                    173827.60000000003,
                    44793.3,
                    78667.62999999998,
                    133137.00999999998,
                    169827.24000000005,
                    106755.03,
                    105941.04,
                    12289.05,
                    28315.76,
                    9058.43,
                    28073.120000000003,
                    164411.47000000006,
                    126450.01,
                    84848.98999999998,
                    188078.56,
                    170383.05000000002,
                    218220.08,
                    182509.21000000008,
                    170614,
                    147626,
                    99923,
                    142528,
                    189216.79,
                    177386.34999999998,
                    173267.24,
                    201273.25,
                    169575.48,
                    186721.60999999996,
                    120064.85000000002,
                    114334.24,
                    113963.35000000002,
                    200355.37,
                    164637.45,
                    98822.42,
                    60607.670000000006,
                    44574.26000000001,
                    100427.19,
                    97986.25,
                    85583.62999999999,
                    63536.78000000001,
                    86327.24,
                    92156.29999999996
                  ],
                  "yaxis": "y",
                  "type": "scatter"
                },
                {
                  "hovertemplate": "variable=total_ventas<br>fecha=%{x}<br>value=%{y}<extra></extra>",
                  "legendgroup": "total_ventas",
                  "line": {
                    "color": "#EF553B",
                    "dash": "solid"
                  },
                  "marker": {
                    "symbol": "circle"
                  },
                  "mode": "lines",
                  "name": "total_ventas",
                  "orientation": "v",
                  "showlegend": true,
                  "x": [
                    "2008-01-01T00:00:00",
                    "2008-02-01T00:00:00",
                    "2008-03-01T00:00:00",
                    "2008-04-01T00:00:00",
                    "2008-05-01T00:00:00",
                    "2008-06-01T00:00:00",
                    "2008-07-01T00:00:00",
                    "2008-08-01T00:00:00",
                    "2008-09-01T00:00:00",
                    "2008-10-01T00:00:00",
                    "2008-11-01T00:00:00",
                    "2008-12-01T00:00:00",
                    "2009-01-01T00:00:00",
                    "2009-02-01T00:00:00",
                    "2009-03-01T00:00:00",
                    "2009-04-01T00:00:00",
                    "2009-05-01T00:00:00",
                    "2009-06-01T00:00:00",
                    "2009-07-01T00:00:00",
                    "2009-08-01T00:00:00",
                    "2009-09-01T00:00:00",
                    "2009-10-01T00:00:00",
                    "2009-11-01T00:00:00",
                    "2009-12-01T00:00:00",
                    "2010-01-01T00:00:00",
                    "2010-02-01T00:00:00",
                    "2010-03-01T00:00:00",
                    "2010-04-01T00:00:00",
                    "2010-05-01T00:00:00",
                    "2010-06-01T00:00:00",
                    "2010-07-01T00:00:00",
                    "2010-08-01T00:00:00",
                    "2010-09-01T00:00:00",
                    "2010-10-01T00:00:00",
                    "2010-11-01T00:00:00",
                    "2010-12-01T00:00:00",
                    "2011-01-01T00:00:00",
                    "2011-02-01T00:00:00",
                    "2011-03-01T00:00:00",
                    "2011-04-01T00:00:00",
                    "2011-05-01T00:00:00",
                    "2011-06-01T00:00:00",
                    "2011-07-01T00:00:00",
                    "2011-08-01T00:00:00",
                    "2011-09-01T00:00:00",
                    "2011-10-01T00:00:00",
                    "2011-11-01T00:00:00",
                    "2011-12-01T00:00:00",
                    "2012-01-01T00:00:00",
                    "2012-02-01T00:00:00",
                    "2012-03-01T00:00:00",
                    "2012-04-01T00:00:00",
                    "2012-05-01T00:00:00",
                    "2012-06-01T00:00:00",
                    "2012-07-01T00:00:00",
                    "2012-08-01T00:00:00",
                    "2012-09-01T00:00:00",
                    "2012-10-01T00:00:00",
                    "2012-11-01T00:00:00",
                    "2012-12-01T00:00:00",
                    "2013-01-01T00:00:00",
                    "2013-02-01T00:00:00",
                    "2013-03-01T00:00:00",
                    "2013-04-01T00:00:00",
                    "2013-05-01T00:00:00",
                    "2013-06-01T00:00:00",
                    "2013-07-01T00:00:00",
                    "2013-08-01T00:00:00",
                    "2013-09-01T00:00:00",
                    "2013-10-01T00:00:00",
                    "2013-11-01T00:00:00",
                    "2013-12-01T00:00:00",
                    "2014-01-01T00:00:00",
                    "2014-02-01T00:00:00",
                    "2014-03-01T00:00:00",
                    "2014-04-01T00:00:00",
                    "2014-05-01T00:00:00",
                    "2014-06-01T00:00:00",
                    "2014-07-01T00:00:00",
                    "2014-08-01T00:00:00",
                    "2014-09-01T00:00:00",
                    "2014-10-01T00:00:00",
                    "2014-11-01T00:00:00",
                    "2014-12-01T00:00:00",
                    "2015-01-01T00:00:00",
                    "2015-02-01T00:00:00",
                    "2015-03-01T00:00:00",
                    "2015-04-01T00:00:00",
                    "2015-05-01T00:00:00",
                    "2015-06-01T00:00:00",
                    "2015-07-01T00:00:00",
                    "2015-08-01T00:00:00",
                    "2015-09-01T00:00:00",
                    "2015-10-01T00:00:00",
                    "2015-11-01T00:00:00",
                    "2015-12-01T00:00:00",
                    "2016-01-01T00:00:00",
                    "2016-02-01T00:00:00",
                    "2016-03-01T00:00:00",
                    "2016-04-01T00:00:00",
                    "2016-05-01T00:00:00",
                    "2016-06-01T00:00:00",
                    "2016-07-01T00:00:00",
                    "2016-08-01T00:00:00",
                    "2016-09-01T00:00:00",
                    "2016-10-01T00:00:00",
                    "2016-11-01T00:00:00",
                    "2016-12-01T00:00:00",
                    "2017-01-01T00:00:00",
                    "2017-02-01T00:00:00",
                    "2017-03-01T00:00:00",
                    "2017-04-01T00:00:00",
                    "2017-05-01T00:00:00",
                    "2017-06-01T00:00:00",
                    "2017-07-01T00:00:00",
                    "2017-08-01T00:00:00",
                    "2017-09-01T00:00:00",
                    "2017-10-01T00:00:00",
                    "2017-11-01T00:00:00",
                    "2017-12-01T00:00:00",
                    "2018-01-01T00:00:00",
                    "2018-02-01T00:00:00",
                    "2018-03-01T00:00:00",
                    "2018-04-01T00:00:00",
                    "2018-05-01T00:00:00",
                    "2018-06-01T00:00:00",
                    "2018-07-01T00:00:00",
                    "2018-08-01T00:00:00",
                    "2018-09-01T00:00:00",
                    "2018-10-01T00:00:00",
                    "2018-11-01T00:00:00",
                    "2018-12-01T00:00:00",
                    "2019-01-01T00:00:00",
                    "2019-02-01T00:00:00",
                    "2019-03-01T00:00:00",
                    "2019-04-01T00:00:00",
                    "2019-05-01T00:00:00",
                    "2019-06-01T00:00:00",
                    "2019-07-01T00:00:00",
                    "2019-08-01T00:00:00",
                    "2019-09-01T00:00:00",
                    "2019-10-01T00:00:00",
                    "2019-11-01T00:00:00",
                    "2019-12-01T00:00:00",
                    "2020-01-01T00:00:00",
                    "2020-02-01T00:00:00",
                    "2020-03-01T00:00:00",
                    "2020-04-01T00:00:00",
                    "2020-05-01T00:00:00",
                    "2020-06-01T00:00:00",
                    "2020-07-01T00:00:00",
                    "2020-08-01T00:00:00",
                    "2020-09-01T00:00:00",
                    "2020-10-01T00:00:00",
                    "2020-11-01T00:00:00",
                    "2020-12-01T00:00:00",
                    "2021-01-01T00:00:00",
                    "2021-02-01T00:00:00",
                    "2021-03-01T00:00:00",
                    "2021-04-01T00:00:00",
                    "2021-05-01T00:00:00",
                    "2021-06-01T00:00:00",
                    "2021-07-01T00:00:00",
                    "2021-08-01T00:00:00",
                    "2021-09-01T00:00:00",
                    "2021-10-01T00:00:00",
                    "2021-11-01T00:00:00",
                    "2021-12-01T00:00:00",
                    "2022-01-01T00:00:00",
                    "2022-02-01T00:00:00",
                    "2022-03-01T00:00:00",
                    "2022-04-01T00:00:00",
                    "2022-05-01T00:00:00",
                    "2022-06-01T00:00:00",
                    "2022-07-01T00:00:00",
                    "2022-08-01T00:00:00",
                    "2022-09-01T00:00:00",
                    "2022-10-01T00:00:00",
                    "2022-11-01T00:00:00",
                    "2022-12-01T00:00:00",
                    "2023-01-01T00:00:00",
                    "2023-02-01T00:00:00",
                    "2023-03-01T00:00:00",
                    "2023-04-01T00:00:00",
                    "2023-05-01T00:00:00",
                    "2023-06-01T00:00:00",
                    "2023-07-01T00:00:00",
                    "2023-08-01T00:00:00"
                  ],
                  "xaxis": "x",
                  "y": [
                    43600,
                    25147,
                    52414,
                    55907,
                    42214,
                    25295,
                    61050,
                    85583,
                    108330,
                    92242,
                    39028,
                    49675,
                    27500,
                    47042,
                    67904,
                    84951,
                    91690,
                    94319,
                    133120,
                    124775,
                    142302,
                    105615,
                    96426,
                    127065,
                    153773,
                    110740,
                    91545,
                    161960,
                    132507,
                    194287,
                    147390,
                    192232,
                    145115,
                    182161,
                    156485,
                    182690,
                    157339,
                    140840,
                    175156,
                    180965,
                    200059,
                    217782,
                    218644,
                    220710,
                    217296,
                    264323,
                    167920,
                    237060,
                    213167,
                    218968,
                    217100,
                    255916,
                    207168,
                    264332,
                    281683,
                    240933,
                    114622,
                    127221,
                    140177,
                    136600,
                    176120,
                    105939,
                    156975,
                    155586,
                    90757,
                    119616,
                    168247,
                    251709,
                    197689,
                    275287,
                    250390,
                    85920,
                    108977,
                    129039,
                    137036,
                    121942,
                    203535,
                    225410,
                    288258,
                    296551,
                    261094,
                    367206,
                    217269,
                    216519,
                    112534,
                    116942,
                    122297,
                    103058,
                    124262,
                    183340,
                    178359,
                    181096,
                    185832,
                    208007,
                    213749,
                    73111,
                    103721,
                    96774,
                    186268,
                    171401,
                    241467,
                    265564,
                    244711,
                    270149,
                    265925,
                    350867.45999999996,
                    273758.52,
                    192055.08000000002,
                    168488.66,
                    158453.65,
                    127047.72999999998,
                    259433.19,
                    318447.87,
                    273906.24,
                    302839.28,
                    207140.82,
                    136095.01,
                    307889.13,
                    287167.83,
                    276742.70999999996,
                    296450.53,
                    123868.48,
                    159227.09,
                    225135.25,
                    273231.98,
                    262378.24000000005,
                    339803.95999999996,
                    137508.67,
                    152342.51,
                    124439.86000000002,
                    240256.68,
                    166565.11000000002,
                    85146.57,
                    78136.06,
                    153994.72,
                    264476.80000000005,
                    286110.2,
                    178409.04,
                    175127,
                    127247.08,
                    277926.03,
                    101022.23000000001,
                    168097.36,
                    256042.4,
                    82009.15699999998,
                    110289.854,
                    253662.86800000002,
                    62603.067,
                    76898.659,
                    86250.73999999998,
                    192247.367,
                    87279.15,
                    141051.97999999998,
                    1562.0600000000002,
                    367.18,
                    1842.0700000000002,
                    81151.09,
                    133887.739649,
                    169887.53,
                    36334.702,
                    156896.41,
                    176713.86,
                    253965.815,
                    185059.446,
                    143967,
                    209713,
                    70878,
                    90530,
                    185725.846,
                    211064.68699999998,
                    145384.367,
                    190823.381,
                    196535.486,
                    207611.212,
                    106116.461,
                    95883.41000000003,
                    76101.811,
                    201898.956,
                    216275.766,
                    117302.65599999999,
                    85156.43900000001,
                    46069.04900000002,
                    52972.664999999986,
                    147534.131,
                    71270.022,
                    63574.10999999999,
                    88515.68699999998,
                    99105.891
                  ],
                  "yaxis": "y",
                  "type": "scatter"
                }
              ],
              "layout": {
                "template": {
                  "data": {
                    "histogram2dcontour": [
                      {
                        "type": "histogram2dcontour",
                        "colorbar": {
                          "outlinewidth": 0,
                          "ticks": ""
                        },
                        "colorscale": [
                          [
                            0,
                            "#0d0887"
                          ],
                          [
                            0.1111111111111111,
                            "#46039f"
                          ],
                          [
                            0.2222222222222222,
                            "#7201a8"
                          ],
                          [
                            0.3333333333333333,
                            "#9c179e"
                          ],
                          [
                            0.4444444444444444,
                            "#bd3786"
                          ],
                          [
                            0.5555555555555556,
                            "#d8576b"
                          ],
                          [
                            0.6666666666666666,
                            "#ed7953"
                          ],
                          [
                            0.7777777777777778,
                            "#fb9f3a"
                          ],
                          [
                            0.8888888888888888,
                            "#fdca26"
                          ],
                          [
                            1,
                            "#f0f921"
                          ]
                        ]
                      }
                    ],
                    "choropleth": [
                      {
                        "type": "choropleth",
                        "colorbar": {
                          "outlinewidth": 0,
                          "ticks": ""
                        }
                      }
                    ],
                    "histogram2d": [
                      {
                        "type": "histogram2d",
                        "colorbar": {
                          "outlinewidth": 0,
                          "ticks": ""
                        },
                        "colorscale": [
                          [
                            0,
                            "#0d0887"
                          ],
                          [
                            0.1111111111111111,
                            "#46039f"
                          ],
                          [
                            0.2222222222222222,
                            "#7201a8"
                          ],
                          [
                            0.3333333333333333,
                            "#9c179e"
                          ],
                          [
                            0.4444444444444444,
                            "#bd3786"
                          ],
                          [
                            0.5555555555555556,
                            "#d8576b"
                          ],
                          [
                            0.6666666666666666,
                            "#ed7953"
                          ],
                          [
                            0.7777777777777778,
                            "#fb9f3a"
                          ],
                          [
                            0.8888888888888888,
                            "#fdca26"
                          ],
                          [
                            1,
                            "#f0f921"
                          ]
                        ]
                      }
                    ],
                    "heatmap": [
                      {
                        "type": "heatmap",
                        "colorbar": {
                          "outlinewidth": 0,
                          "ticks": ""
                        },
                        "colorscale": [
                          [
                            0,
                            "#0d0887"
                          ],
                          [
                            0.1111111111111111,
                            "#46039f"
                          ],
                          [
                            0.2222222222222222,
                            "#7201a8"
                          ],
                          [
                            0.3333333333333333,
                            "#9c179e"
                          ],
                          [
                            0.4444444444444444,
                            "#bd3786"
                          ],
                          [
                            0.5555555555555556,
                            "#d8576b"
                          ],
                          [
                            0.6666666666666666,
                            "#ed7953"
                          ],
                          [
                            0.7777777777777778,
                            "#fb9f3a"
                          ],
                          [
                            0.8888888888888888,
                            "#fdca26"
                          ],
                          [
                            1,
                            "#f0f921"
                          ]
                        ]
                      }
                    ],
                    "heatmapgl": [
                      {
                        "type": "heatmapgl",
                        "colorbar": {
                          "outlinewidth": 0,
                          "ticks": ""
                        },
                        "colorscale": [
                          [
                            0,
                            "#0d0887"
                          ],
                          [
                            0.1111111111111111,
                            "#46039f"
                          ],
                          [
                            0.2222222222222222,
                            "#7201a8"
                          ],
                          [
                            0.3333333333333333,
                            "#9c179e"
                          ],
                          [
                            0.4444444444444444,
                            "#bd3786"
                          ],
                          [
                            0.5555555555555556,
                            "#d8576b"
                          ],
                          [
                            0.6666666666666666,
                            "#ed7953"
                          ],
                          [
                            0.7777777777777778,
                            "#fb9f3a"
                          ],
                          [
                            0.8888888888888888,
                            "#fdca26"
                          ],
                          [
                            1,
                            "#f0f921"
                          ]
                        ]
                      }
                    ],
                    "contourcarpet": [
                      {
                        "type": "contourcarpet",
                        "colorbar": {
                          "outlinewidth": 0,
                          "ticks": ""
                        }
                      }
                    ],
                    "contour": [
                      {
                        "type": "contour",
                        "colorbar": {
                          "outlinewidth": 0,
                          "ticks": ""
                        },
                        "colorscale": [
                          [
                            0,
                            "#0d0887"
                          ],
                          [
                            0.1111111111111111,
                            "#46039f"
                          ],
                          [
                            0.2222222222222222,
                            "#7201a8"
                          ],
                          [
                            0.3333333333333333,
                            "#9c179e"
                          ],
                          [
                            0.4444444444444444,
                            "#bd3786"
                          ],
                          [
                            0.5555555555555556,
                            "#d8576b"
                          ],
                          [
                            0.6666666666666666,
                            "#ed7953"
                          ],
                          [
                            0.7777777777777778,
                            "#fb9f3a"
                          ],
                          [
                            0.8888888888888888,
                            "#fdca26"
                          ],
                          [
                            1,
                            "#f0f921"
                          ]
                        ]
                      }
                    ],
                    "surface": [
                      {
                        "type": "surface",
                        "colorbar": {
                          "outlinewidth": 0,
                          "ticks": ""
                        },
                        "colorscale": [
                          [
                            0,
                            "#0d0887"
                          ],
                          [
                            0.1111111111111111,
                            "#46039f"
                          ],
                          [
                            0.2222222222222222,
                            "#7201a8"
                          ],
                          [
                            0.3333333333333333,
                            "#9c179e"
                          ],
                          [
                            0.4444444444444444,
                            "#bd3786"
                          ],
                          [
                            0.5555555555555556,
                            "#d8576b"
                          ],
                          [
                            0.6666666666666666,
                            "#ed7953"
                          ],
                          [
                            0.7777777777777778,
                            "#fb9f3a"
                          ],
                          [
                            0.8888888888888888,
                            "#fdca26"
                          ],
                          [
                            1,
                            "#f0f921"
                          ]
                        ]
                      }
                    ],
                    "mesh3d": [
                      {
                        "type": "mesh3d",
                        "colorbar": {
                          "outlinewidth": 0,
                          "ticks": ""
                        }
                      }
                    ],
                    "scatter": [
                      {
                        "fillpattern": {
                          "fillmode": "overlay",
                          "size": 10,
                          "solidity": 0.2
                        },
                        "type": "scatter"
                      }
                    ],
                    "parcoords": [
                      {
                        "type": "parcoords",
                        "line": {
                          "colorbar": {
                            "outlinewidth": 0,
                            "ticks": ""
                          }
                        }
                      }
                    ],
                    "scatterpolargl": [
                      {
                        "type": "scatterpolargl",
                        "marker": {
                          "colorbar": {
                            "outlinewidth": 0,
                            "ticks": ""
                          }
                        }
                      }
                    ],
                    "bar": [
                      {
                        "error_x": {
                          "color": "#2a3f5f"
                        },
                        "error_y": {
                          "color": "#2a3f5f"
                        },
                        "marker": {
                          "line": {
                            "color": "#E5ECF6",
                            "width": 0.5
                          },
                          "pattern": {
                            "fillmode": "overlay",
                            "size": 10,
                            "solidity": 0.2
                          }
                        },
                        "type": "bar"
                      }
                    ],
                    "scattergeo": [
                      {
                        "type": "scattergeo",
                        "marker": {
                          "colorbar": {
                            "outlinewidth": 0,
                            "ticks": ""
                          }
                        }
                      }
                    ],
                    "scatterpolar": [
                      {
                        "type": "scatterpolar",
                        "marker": {
                          "colorbar": {
                            "outlinewidth": 0,
                            "ticks": ""
                          }
                        }
                      }
                    ],
                    "histogram": [
                      {
                        "marker": {
                          "pattern": {
                            "fillmode": "overlay",
                            "size": 10,
                            "solidity": 0.2
                          }
                        },
                        "type": "histogram"
                      }
                    ],
                    "scattergl": [
                      {
                        "type": "scattergl",
                        "marker": {
                          "colorbar": {
                            "outlinewidth": 0,
                            "ticks": ""
                          }
                        }
                      }
                    ],
                    "scatter3d": [
                      {
                        "type": "scatter3d",
                        "line": {
                          "colorbar": {
                            "outlinewidth": 0,
                            "ticks": ""
                          }
                        },
                        "marker": {
                          "colorbar": {
                            "outlinewidth": 0,
                            "ticks": ""
                          }
                        }
                      }
                    ],
                    "scattermapbox": [
                      {
                        "type": "scattermapbox",
                        "marker": {
                          "colorbar": {
                            "outlinewidth": 0,
                            "ticks": ""
                          }
                        }
                      }
                    ],
                    "scatterternary": [
                      {
                        "type": "scatterternary",
                        "marker": {
                          "colorbar": {
                            "outlinewidth": 0,
                            "ticks": ""
                          }
                        }
                      }
                    ],
                    "scattercarpet": [
                      {
                        "type": "scattercarpet",
                        "marker": {
                          "colorbar": {
                            "outlinewidth": 0,
                            "ticks": ""
                          }
                        }
                      }
                    ],
                    "carpet": [
                      {
                        "aaxis": {
                          "endlinecolor": "#2a3f5f",
                          "gridcolor": "white",
                          "linecolor": "white",
                          "minorgridcolor": "white",
                          "startlinecolor": "#2a3f5f"
                        },
                        "baxis": {
                          "endlinecolor": "#2a3f5f",
                          "gridcolor": "white",
                          "linecolor": "white",
                          "minorgridcolor": "white",
                          "startlinecolor": "#2a3f5f"
                        },
                        "type": "carpet"
                      }
                    ],
                    "table": [
                      {
                        "cells": {
                          "fill": {
                            "color": "#EBF0F8"
                          },
                          "line": {
                            "color": "white"
                          }
                        },
                        "header": {
                          "fill": {
                            "color": "#C8D4E3"
                          },
                          "line": {
                            "color": "white"
                          }
                        },
                        "type": "table"
                      }
                    ],
                    "barpolar": [
                      {
                        "marker": {
                          "line": {
                            "color": "#E5ECF6",
                            "width": 0.5
                          },
                          "pattern": {
                            "fillmode": "overlay",
                            "size": 10,
                            "solidity": 0.2
                          }
                        },
                        "type": "barpolar"
                      }
                    ],
                    "pie": [
                      {
                        "automargin": true,
                        "type": "pie"
                      }
                    ]
                  },
                  "layout": {
                    "autotypenumbers": "strict",
                    "colorway": [
                      "#636efa",
                      "#EF553B",
                      "#00cc96",
                      "#ab63fa",
                      "#FFA15A",
                      "#19d3f3",
                      "#FF6692",
                      "#B6E880",
                      "#FF97FF",
                      "#FECB52"
                    ],
                    "font": {
                      "color": "#2a3f5f"
                    },
                    "hovermode": "closest",
                    "hoverlabel": {
                      "align": "left"
                    },
                    "paper_bgcolor": "white",
                    "plot_bgcolor": "#E5ECF6",
                    "polar": {
                      "bgcolor": "#E5ECF6",
                      "angularaxis": {
                        "gridcolor": "white",
                        "linecolor": "white",
                        "ticks": ""
                      },
                      "radialaxis": {
                        "gridcolor": "white",
                        "linecolor": "white",
                        "ticks": ""
                      }
                    },
                    "ternary": {
                      "bgcolor": "#E5ECF6",
                      "aaxis": {
                        "gridcolor": "white",
                        "linecolor": "white",
                        "ticks": ""
                      },
                      "baxis": {
                        "gridcolor": "white",
                        "linecolor": "white",
                        "ticks": ""
                      },
                      "caxis": {
                        "gridcolor": "white",
                        "linecolor": "white",
                        "ticks": ""
                      }
                    },
                    "coloraxis": {
                      "colorbar": {
                        "outlinewidth": 0,
                        "ticks": ""
                      }
                    },
                    "colorscale": {
                      "sequential": [
                        [
                          0,
                          "#0d0887"
                        ],
                        [
                          0.1111111111111111,
                          "#46039f"
                        ],
                        [
                          0.2222222222222222,
                          "#7201a8"
                        ],
                        [
                          0.3333333333333333,
                          "#9c179e"
                        ],
                        [
                          0.4444444444444444,
                          "#bd3786"
                        ],
                        [
                          0.5555555555555556,
                          "#d8576b"
                        ],
                        [
                          0.6666666666666666,
                          "#ed7953"
                        ],
                        [
                          0.7777777777777778,
                          "#fb9f3a"
                        ],
                        [
                          0.8888888888888888,
                          "#fdca26"
                        ],
                        [
                          1,
                          "#f0f921"
                        ]
                      ],
                      "sequentialminus": [
                        [
                          0,
                          "#0d0887"
                        ],
                        [
                          0.1111111111111111,
                          "#46039f"
                        ],
                        [
                          0.2222222222222222,
                          "#7201a8"
                        ],
                        [
                          0.3333333333333333,
                          "#9c179e"
                        ],
                        [
                          0.4444444444444444,
                          "#bd3786"
                        ],
                        [
                          0.5555555555555556,
                          "#d8576b"
                        ],
                        [
                          0.6666666666666666,
                          "#ed7953"
                        ],
                        [
                          0.7777777777777778,
                          "#fb9f3a"
                        ],
                        [
                          0.8888888888888888,
                          "#fdca26"
                        ],
                        [
                          1,
                          "#f0f921"
                        ]
                      ],
                      "diverging": [
                        [
                          0,
                          "#8e0152"
                        ],
                        [
                          0.1,
                          "#c51b7d"
                        ],
                        [
                          0.2,
                          "#de77ae"
                        ],
                        [
                          0.3,
                          "#f1b6da"
                        ],
                        [
                          0.4,
                          "#fde0ef"
                        ],
                        [
                          0.5,
                          "#f7f7f7"
                        ],
                        [
                          0.6,
                          "#e6f5d0"
                        ],
                        [
                          0.7,
                          "#b8e186"
                        ],
                        [
                          0.8,
                          "#7fbc41"
                        ],
                        [
                          0.9,
                          "#4d9221"
                        ],
                        [
                          1,
                          "#276419"
                        ]
                      ]
                    },
                    "xaxis": {
                      "gridcolor": "white",
                      "linecolor": "white",
                      "ticks": "",
                      "title": {
                        "standoff": 15
                      },
                      "zerolinecolor": "white",
                      "automargin": true,
                      "zerolinewidth": 2
                    },
                    "yaxis": {
                      "gridcolor": "white",
                      "linecolor": "white",
                      "ticks": "",
                      "title": {
                        "standoff": 15
                      },
                      "zerolinecolor": "white",
                      "automargin": true,
                      "zerolinewidth": 2
                    },
                    "scene": {
                      "xaxis": {
                        "backgroundcolor": "#E5ECF6",
                        "gridcolor": "white",
                        "linecolor": "white",
                        "showbackground": true,
                        "ticks": "",
                        "zerolinecolor": "white",
                        "gridwidth": 2
                      },
                      "yaxis": {
                        "backgroundcolor": "#E5ECF6",
                        "gridcolor": "white",
                        "linecolor": "white",
                        "showbackground": true,
                        "ticks": "",
                        "zerolinecolor": "white",
                        "gridwidth": 2
                      },
                      "zaxis": {
                        "backgroundcolor": "#E5ECF6",
                        "gridcolor": "white",
                        "linecolor": "white",
                        "showbackground": true,
                        "ticks": "",
                        "zerolinecolor": "white",
                        "gridwidth": 2
                      }
                    },
                    "shapedefaults": {
                      "line": {
                        "color": "#2a3f5f"
                      }
                    },
                    "annotationdefaults": {
                      "arrowcolor": "#2a3f5f",
                      "arrowhead": 0,
                      "arrowwidth": 1
                    },
                    "geo": {
                      "bgcolor": "white",
                      "landcolor": "#E5ECF6",
                      "subunitcolor": "white",
                      "showland": true,
                      "showlakes": true,
                      "lakecolor": "white"
                    },
                    "title": {
                      "x": 0.05
                    },
                    "mapbox": {
                      "style": "light"
                    }
                  }
                },
                "xaxis": {
                  "anchor": "y",
                  "domain": [
                    0,
                    1
                  ],
                  "title": {
                    "text": "fecha"
                  }
                },
                "yaxis": {
                  "anchor": "x",
                  "domain": [
                    0,
                    1
                  ],
                  "title": {
                    "text": "value"
                  }
                },
                "legend": {
                  "title": {
                    "text": "variable"
                  },
                  "tracegroupgap": 0
                },
                "title": {
                  "text": "Datos de Producción y Ventas"
                }
              },
              "config": {
                "plotlyServerURL": "https://plot.ly"
              }
            },
            "text/html": [
              "<div>                            <div id=\"db37d2af-6014-4fdc-a3a8-f2e25f81e3c0\" class=\"plotly-graph-div\" style=\"height:525px; width:100%;\"></div>            <script type=\"text/javascript\">                require([\"plotly\"], function(Plotly) {                    window.PLOTLYENV=window.PLOTLYENV || {};                                    if (document.getElementById(\"db37d2af-6014-4fdc-a3a8-f2e25f81e3c0\")) {                    Plotly.newPlot(                        \"db37d2af-6014-4fdc-a3a8-f2e25f81e3c0\",                        [{\"hovertemplate\":\"variable=biodisel_produccion\\u003cbr\\u003efecha=%{x}\\u003cbr\\u003evalue=%{y}\\u003cextra\\u003e\\u003c\\u002fextra\\u003e\",\"legendgroup\":\"biodisel_produccion\",\"line\":{\"color\":\"#636efa\",\"dash\":\"solid\"},\"marker\":{\"symbol\":\"circle\"},\"mode\":\"lines\",\"name\":\"biodisel_produccion\",\"orientation\":\"v\",\"showlegend\":true,\"x\":[\"2008-01-01T00:00:00\",\"2008-02-01T00:00:00\",\"2008-03-01T00:00:00\",\"2008-04-01T00:00:00\",\"2008-05-01T00:00:00\",\"2008-06-01T00:00:00\",\"2008-07-01T00:00:00\",\"2008-08-01T00:00:00\",\"2008-09-01T00:00:00\",\"2008-10-01T00:00:00\",\"2008-11-01T00:00:00\",\"2008-12-01T00:00:00\",\"2009-01-01T00:00:00\",\"2009-02-01T00:00:00\",\"2009-03-01T00:00:00\",\"2009-04-01T00:00:00\",\"2009-05-01T00:00:00\",\"2009-06-01T00:00:00\",\"2009-07-01T00:00:00\",\"2009-08-01T00:00:00\",\"2009-09-01T00:00:00\",\"2009-10-01T00:00:00\",\"2009-11-01T00:00:00\",\"2009-12-01T00:00:00\",\"2010-01-01T00:00:00\",\"2010-02-01T00:00:00\",\"2010-03-01T00:00:00\",\"2010-04-01T00:00:00\",\"2010-05-01T00:00:00\",\"2010-06-01T00:00:00\",\"2010-07-01T00:00:00\",\"2010-08-01T00:00:00\",\"2010-09-01T00:00:00\",\"2010-10-01T00:00:00\",\"2010-11-01T00:00:00\",\"2010-12-01T00:00:00\",\"2011-01-01T00:00:00\",\"2011-02-01T00:00:00\",\"2011-03-01T00:00:00\",\"2011-04-01T00:00:00\",\"2011-05-01T00:00:00\",\"2011-06-01T00:00:00\",\"2011-07-01T00:00:00\",\"2011-08-01T00:00:00\",\"2011-09-01T00:00:00\",\"2011-10-01T00:00:00\",\"2011-11-01T00:00:00\",\"2011-12-01T00:00:00\",\"2012-01-01T00:00:00\",\"2012-02-01T00:00:00\",\"2012-03-01T00:00:00\",\"2012-04-01T00:00:00\",\"2012-05-01T00:00:00\",\"2012-06-01T00:00:00\",\"2012-07-01T00:00:00\",\"2012-08-01T00:00:00\",\"2012-09-01T00:00:00\",\"2012-10-01T00:00:00\",\"2012-11-01T00:00:00\",\"2012-12-01T00:00:00\",\"2013-01-01T00:00:00\",\"2013-02-01T00:00:00\",\"2013-03-01T00:00:00\",\"2013-04-01T00:00:00\",\"2013-05-01T00:00:00\",\"2013-06-01T00:00:00\",\"2013-07-01T00:00:00\",\"2013-08-01T00:00:00\",\"2013-09-01T00:00:00\",\"2013-10-01T00:00:00\",\"2013-11-01T00:00:00\",\"2013-12-01T00:00:00\",\"2014-01-01T00:00:00\",\"2014-02-01T00:00:00\",\"2014-03-01T00:00:00\",\"2014-04-01T00:00:00\",\"2014-05-01T00:00:00\",\"2014-06-01T00:00:00\",\"2014-07-01T00:00:00\",\"2014-08-01T00:00:00\",\"2014-09-01T00:00:00\",\"2014-10-01T00:00:00\",\"2014-11-01T00:00:00\",\"2014-12-01T00:00:00\",\"2015-01-01T00:00:00\",\"2015-02-01T00:00:00\",\"2015-03-01T00:00:00\",\"2015-04-01T00:00:00\",\"2015-05-01T00:00:00\",\"2015-06-01T00:00:00\",\"2015-07-01T00:00:00\",\"2015-08-01T00:00:00\",\"2015-09-01T00:00:00\",\"2015-10-01T00:00:00\",\"2015-11-01T00:00:00\",\"2015-12-01T00:00:00\",\"2016-01-01T00:00:00\",\"2016-02-01T00:00:00\",\"2016-03-01T00:00:00\",\"2016-04-01T00:00:00\",\"2016-05-01T00:00:00\",\"2016-06-01T00:00:00\",\"2016-07-01T00:00:00\",\"2016-08-01T00:00:00\",\"2016-09-01T00:00:00\",\"2016-10-01T00:00:00\",\"2016-11-01T00:00:00\",\"2016-12-01T00:00:00\",\"2017-01-01T00:00:00\",\"2017-02-01T00:00:00\",\"2017-03-01T00:00:00\",\"2017-04-01T00:00:00\",\"2017-05-01T00:00:00\",\"2017-06-01T00:00:00\",\"2017-07-01T00:00:00\",\"2017-08-01T00:00:00\",\"2017-09-01T00:00:00\",\"2017-10-01T00:00:00\",\"2017-11-01T00:00:00\",\"2017-12-01T00:00:00\",\"2018-01-01T00:00:00\",\"2018-02-01T00:00:00\",\"2018-03-01T00:00:00\",\"2018-04-01T00:00:00\",\"2018-05-01T00:00:00\",\"2018-06-01T00:00:00\",\"2018-07-01T00:00:00\",\"2018-08-01T00:00:00\",\"2018-09-01T00:00:00\",\"2018-10-01T00:00:00\",\"2018-11-01T00:00:00\",\"2018-12-01T00:00:00\",\"2019-01-01T00:00:00\",\"2019-02-01T00:00:00\",\"2019-03-01T00:00:00\",\"2019-04-01T00:00:00\",\"2019-05-01T00:00:00\",\"2019-06-01T00:00:00\",\"2019-07-01T00:00:00\",\"2019-08-01T00:00:00\",\"2019-09-01T00:00:00\",\"2019-10-01T00:00:00\",\"2019-11-01T00:00:00\",\"2019-12-01T00:00:00\",\"2020-01-01T00:00:00\",\"2020-02-01T00:00:00\",\"2020-03-01T00:00:00\",\"2020-04-01T00:00:00\",\"2020-05-01T00:00:00\",\"2020-06-01T00:00:00\",\"2020-07-01T00:00:00\",\"2020-08-01T00:00:00\",\"2020-09-01T00:00:00\",\"2020-10-01T00:00:00\",\"2020-11-01T00:00:00\",\"2020-12-01T00:00:00\",\"2021-01-01T00:00:00\",\"2021-02-01T00:00:00\",\"2021-03-01T00:00:00\",\"2021-04-01T00:00:00\",\"2021-05-01T00:00:00\",\"2021-06-01T00:00:00\",\"2021-07-01T00:00:00\",\"2021-08-01T00:00:00\",\"2021-09-01T00:00:00\",\"2021-10-01T00:00:00\",\"2021-11-01T00:00:00\",\"2021-12-01T00:00:00\",\"2022-01-01T00:00:00\",\"2022-02-01T00:00:00\",\"2022-03-01T00:00:00\",\"2022-04-01T00:00:00\",\"2022-05-01T00:00:00\",\"2022-06-01T00:00:00\",\"2022-07-01T00:00:00\",\"2022-08-01T00:00:00\",\"2022-09-01T00:00:00\",\"2022-10-01T00:00:00\",\"2022-11-01T00:00:00\",\"2022-12-01T00:00:00\",\"2023-01-01T00:00:00\",\"2023-02-01T00:00:00\",\"2023-03-01T00:00:00\",\"2023-04-01T00:00:00\",\"2023-05-01T00:00:00\",\"2023-06-01T00:00:00\",\"2023-07-01T00:00:00\",\"2023-08-01T00:00:00\"],\"xaxis\":\"x\",\"y\":[47251.0,38747.0,42095.0,43881.0,51679.0,50726.0,71888.0,91595.0,83924.0,97429.0,79530.0,13119.0,18355.0,47673.0,76655.0,80577.0,90288.0,103000.0,125872.0,123928.0,137501.0,130614.0,131458.0,113182.0,140247.0,112508.0,107929.0,141733.0,159105.0,160019.0,165098.0,164382.0,157835.0,180593.0,177578.0,153358.0,151848.0,140363.0,187813.0,201369.0,219703.0,210080.0,222315.0,223808.0,208434.0,234989.0,209900.0,219342.0,257933.0,240003.0,212499.0,236400.0,238838.0,231039.0,246371.0,233859.0,133081.0,138008.0,153248.0,135299.0,158499.0,113745.0,117664.0,160321.0,120693.0,144813.0,190969.0,193324.0,224570.0,245438.0,218046.0,109727.0,140472.0,132589.0,121194.0,142470.0,229302.0,250044.0,275067.0,278323.0,295401.0,308897.0,243455.0,167076.0,134435.0,99065.0,96673.0,128439.0,131226.0,190445.0,176765.0,208493.0,182871.0,199680.0,182761.0,79804.0,102682.0,151101.0,146050.0,191408.0,251535.0,261774.0,248648.0,285386.0,292540.0,294168.1,280907.8,153075.55,189763.37,162199.72000000003,172221.30000000005,249430.87,296823.87999999995,282713.99999999994,272984.60000000003,169883.49000000005,213971.21,293096.32,302618.48000000004,265727.76,244128.16,157007.22,177938.87999999995,226424.78,290434.69000000006,265426.92,260050.77,134849.91,174085.0,132450.22000000003,259636.46000000005,106564.05,83487.41999999998,93137.39999999998,198837.55,274971.94999999995,273161.6,176760.43000000005,135786.0,203047.58,208479.53000000003,172332.16000000003,163012.43000000005,164256.43000000002,105060.33,189691.69,173827.60000000003,44793.3,78667.62999999998,133137.00999999998,169827.24000000005,106755.03,105941.04,12289.05,28315.76,9058.43,28073.120000000003,164411.47000000006,126450.01,84848.98999999998,188078.56,170383.05000000002,218220.08,182509.21000000008,170614.0,147626.0,99923.0,142528.0,189216.79,177386.34999999998,173267.24,201273.25,169575.48,186721.60999999996,120064.85000000002,114334.24,113963.35000000002,200355.37,164637.45,98822.42,60607.670000000006,44574.26000000001,100427.19,97986.25,85583.62999999999,63536.78000000001,86327.24,92156.29999999996],\"yaxis\":\"y\",\"type\":\"scatter\"},{\"hovertemplate\":\"variable=total_ventas\\u003cbr\\u003efecha=%{x}\\u003cbr\\u003evalue=%{y}\\u003cextra\\u003e\\u003c\\u002fextra\\u003e\",\"legendgroup\":\"total_ventas\",\"line\":{\"color\":\"#EF553B\",\"dash\":\"solid\"},\"marker\":{\"symbol\":\"circle\"},\"mode\":\"lines\",\"name\":\"total_ventas\",\"orientation\":\"v\",\"showlegend\":true,\"x\":[\"2008-01-01T00:00:00\",\"2008-02-01T00:00:00\",\"2008-03-01T00:00:00\",\"2008-04-01T00:00:00\",\"2008-05-01T00:00:00\",\"2008-06-01T00:00:00\",\"2008-07-01T00:00:00\",\"2008-08-01T00:00:00\",\"2008-09-01T00:00:00\",\"2008-10-01T00:00:00\",\"2008-11-01T00:00:00\",\"2008-12-01T00:00:00\",\"2009-01-01T00:00:00\",\"2009-02-01T00:00:00\",\"2009-03-01T00:00:00\",\"2009-04-01T00:00:00\",\"2009-05-01T00:00:00\",\"2009-06-01T00:00:00\",\"2009-07-01T00:00:00\",\"2009-08-01T00:00:00\",\"2009-09-01T00:00:00\",\"2009-10-01T00:00:00\",\"2009-11-01T00:00:00\",\"2009-12-01T00:00:00\",\"2010-01-01T00:00:00\",\"2010-02-01T00:00:00\",\"2010-03-01T00:00:00\",\"2010-04-01T00:00:00\",\"2010-05-01T00:00:00\",\"2010-06-01T00:00:00\",\"2010-07-01T00:00:00\",\"2010-08-01T00:00:00\",\"2010-09-01T00:00:00\",\"2010-10-01T00:00:00\",\"2010-11-01T00:00:00\",\"2010-12-01T00:00:00\",\"2011-01-01T00:00:00\",\"2011-02-01T00:00:00\",\"2011-03-01T00:00:00\",\"2011-04-01T00:00:00\",\"2011-05-01T00:00:00\",\"2011-06-01T00:00:00\",\"2011-07-01T00:00:00\",\"2011-08-01T00:00:00\",\"2011-09-01T00:00:00\",\"2011-10-01T00:00:00\",\"2011-11-01T00:00:00\",\"2011-12-01T00:00:00\",\"2012-01-01T00:00:00\",\"2012-02-01T00:00:00\",\"2012-03-01T00:00:00\",\"2012-04-01T00:00:00\",\"2012-05-01T00:00:00\",\"2012-06-01T00:00:00\",\"2012-07-01T00:00:00\",\"2012-08-01T00:00:00\",\"2012-09-01T00:00:00\",\"2012-10-01T00:00:00\",\"2012-11-01T00:00:00\",\"2012-12-01T00:00:00\",\"2013-01-01T00:00:00\",\"2013-02-01T00:00:00\",\"2013-03-01T00:00:00\",\"2013-04-01T00:00:00\",\"2013-05-01T00:00:00\",\"2013-06-01T00:00:00\",\"2013-07-01T00:00:00\",\"2013-08-01T00:00:00\",\"2013-09-01T00:00:00\",\"2013-10-01T00:00:00\",\"2013-11-01T00:00:00\",\"2013-12-01T00:00:00\",\"2014-01-01T00:00:00\",\"2014-02-01T00:00:00\",\"2014-03-01T00:00:00\",\"2014-04-01T00:00:00\",\"2014-05-01T00:00:00\",\"2014-06-01T00:00:00\",\"2014-07-01T00:00:00\",\"2014-08-01T00:00:00\",\"2014-09-01T00:00:00\",\"2014-10-01T00:00:00\",\"2014-11-01T00:00:00\",\"2014-12-01T00:00:00\",\"2015-01-01T00:00:00\",\"2015-02-01T00:00:00\",\"2015-03-01T00:00:00\",\"2015-04-01T00:00:00\",\"2015-05-01T00:00:00\",\"2015-06-01T00:00:00\",\"2015-07-01T00:00:00\",\"2015-08-01T00:00:00\",\"2015-09-01T00:00:00\",\"2015-10-01T00:00:00\",\"2015-11-01T00:00:00\",\"2015-12-01T00:00:00\",\"2016-01-01T00:00:00\",\"2016-02-01T00:00:00\",\"2016-03-01T00:00:00\",\"2016-04-01T00:00:00\",\"2016-05-01T00:00:00\",\"2016-06-01T00:00:00\",\"2016-07-01T00:00:00\",\"2016-08-01T00:00:00\",\"2016-09-01T00:00:00\",\"2016-10-01T00:00:00\",\"2016-11-01T00:00:00\",\"2016-12-01T00:00:00\",\"2017-01-01T00:00:00\",\"2017-02-01T00:00:00\",\"2017-03-01T00:00:00\",\"2017-04-01T00:00:00\",\"2017-05-01T00:00:00\",\"2017-06-01T00:00:00\",\"2017-07-01T00:00:00\",\"2017-08-01T00:00:00\",\"2017-09-01T00:00:00\",\"2017-10-01T00:00:00\",\"2017-11-01T00:00:00\",\"2017-12-01T00:00:00\",\"2018-01-01T00:00:00\",\"2018-02-01T00:00:00\",\"2018-03-01T00:00:00\",\"2018-04-01T00:00:00\",\"2018-05-01T00:00:00\",\"2018-06-01T00:00:00\",\"2018-07-01T00:00:00\",\"2018-08-01T00:00:00\",\"2018-09-01T00:00:00\",\"2018-10-01T00:00:00\",\"2018-11-01T00:00:00\",\"2018-12-01T00:00:00\",\"2019-01-01T00:00:00\",\"2019-02-01T00:00:00\",\"2019-03-01T00:00:00\",\"2019-04-01T00:00:00\",\"2019-05-01T00:00:00\",\"2019-06-01T00:00:00\",\"2019-07-01T00:00:00\",\"2019-08-01T00:00:00\",\"2019-09-01T00:00:00\",\"2019-10-01T00:00:00\",\"2019-11-01T00:00:00\",\"2019-12-01T00:00:00\",\"2020-01-01T00:00:00\",\"2020-02-01T00:00:00\",\"2020-03-01T00:00:00\",\"2020-04-01T00:00:00\",\"2020-05-01T00:00:00\",\"2020-06-01T00:00:00\",\"2020-07-01T00:00:00\",\"2020-08-01T00:00:00\",\"2020-09-01T00:00:00\",\"2020-10-01T00:00:00\",\"2020-11-01T00:00:00\",\"2020-12-01T00:00:00\",\"2021-01-01T00:00:00\",\"2021-02-01T00:00:00\",\"2021-03-01T00:00:00\",\"2021-04-01T00:00:00\",\"2021-05-01T00:00:00\",\"2021-06-01T00:00:00\",\"2021-07-01T00:00:00\",\"2021-08-01T00:00:00\",\"2021-09-01T00:00:00\",\"2021-10-01T00:00:00\",\"2021-11-01T00:00:00\",\"2021-12-01T00:00:00\",\"2022-01-01T00:00:00\",\"2022-02-01T00:00:00\",\"2022-03-01T00:00:00\",\"2022-04-01T00:00:00\",\"2022-05-01T00:00:00\",\"2022-06-01T00:00:00\",\"2022-07-01T00:00:00\",\"2022-08-01T00:00:00\",\"2022-09-01T00:00:00\",\"2022-10-01T00:00:00\",\"2022-11-01T00:00:00\",\"2022-12-01T00:00:00\",\"2023-01-01T00:00:00\",\"2023-02-01T00:00:00\",\"2023-03-01T00:00:00\",\"2023-04-01T00:00:00\",\"2023-05-01T00:00:00\",\"2023-06-01T00:00:00\",\"2023-07-01T00:00:00\",\"2023-08-01T00:00:00\"],\"xaxis\":\"x\",\"y\":[43600.0,25147.0,52414.0,55907.0,42214.0,25295.0,61050.0,85583.0,108330.0,92242.0,39028.0,49675.0,27500.0,47042.0,67904.0,84951.0,91690.0,94319.0,133120.0,124775.0,142302.0,105615.0,96426.0,127065.0,153773.0,110740.0,91545.0,161960.0,132507.0,194287.0,147390.0,192232.0,145115.0,182161.0,156485.0,182690.0,157339.0,140840.0,175156.0,180965.0,200059.0,217782.0,218644.0,220710.0,217296.0,264323.0,167920.0,237060.0,213167.0,218968.0,217100.0,255916.0,207168.0,264332.0,281683.0,240933.0,114622.0,127221.0,140177.0,136600.0,176120.0,105939.0,156975.0,155586.0,90757.0,119616.0,168247.0,251709.0,197689.0,275287.0,250390.0,85920.0,108977.0,129039.0,137036.0,121942.0,203535.0,225410.0,288258.0,296551.0,261094.0,367206.0,217269.0,216519.0,112534.0,116942.0,122297.0,103058.0,124262.0,183340.0,178359.0,181096.0,185832.0,208007.0,213749.0,73111.0,103721.0,96774.0,186268.0,171401.0,241467.0,265564.0,244711.0,270149.0,265925.0,350867.45999999996,273758.52,192055.08000000002,168488.66,158453.65,127047.72999999998,259433.19,318447.87,273906.24,302839.28,207140.82,136095.01,307889.13,287167.83,276742.70999999996,296450.53,123868.48,159227.09,225135.25,273231.98,262378.24000000005,339803.95999999996,137508.67,152342.51,124439.86000000002,240256.68,166565.11000000002,85146.57,78136.06,153994.72,264476.80000000005,286110.2,178409.04,175127.0,127247.08,277926.03,101022.23000000001,168097.36,256042.4,82009.15699999998,110289.854,253662.86800000002,62603.067,76898.659,86250.73999999998,192247.367,87279.15,141051.97999999998,1562.0600000000002,367.18,1842.0700000000002,81151.09,133887.739649,169887.53,36334.702,156896.41,176713.86,253965.815,185059.446,143967.0,209713.0,70878.0,90530.0,185725.846,211064.68699999998,145384.367,190823.381,196535.486,207611.212,106116.461,95883.41000000003,76101.811,201898.956,216275.766,117302.65599999999,85156.43900000001,46069.04900000002,52972.664999999986,147534.131,71270.022,63574.10999999999,88515.68699999998,99105.891],\"yaxis\":\"y\",\"type\":\"scatter\"}],                        {\"template\":{\"data\":{\"histogram2dcontour\":[{\"type\":\"histogram2dcontour\",\"colorbar\":{\"outlinewidth\":0,\"ticks\":\"\"},\"colorscale\":[[0.0,\"#0d0887\"],[0.1111111111111111,\"#46039f\"],[0.2222222222222222,\"#7201a8\"],[0.3333333333333333,\"#9c179e\"],[0.4444444444444444,\"#bd3786\"],[0.5555555555555556,\"#d8576b\"],[0.6666666666666666,\"#ed7953\"],[0.7777777777777778,\"#fb9f3a\"],[0.8888888888888888,\"#fdca26\"],[1.0,\"#f0f921\"]]}],\"choropleth\":[{\"type\":\"choropleth\",\"colorbar\":{\"outlinewidth\":0,\"ticks\":\"\"}}],\"histogram2d\":[{\"type\":\"histogram2d\",\"colorbar\":{\"outlinewidth\":0,\"ticks\":\"\"},\"colorscale\":[[0.0,\"#0d0887\"],[0.1111111111111111,\"#46039f\"],[0.2222222222222222,\"#7201a8\"],[0.3333333333333333,\"#9c179e\"],[0.4444444444444444,\"#bd3786\"],[0.5555555555555556,\"#d8576b\"],[0.6666666666666666,\"#ed7953\"],[0.7777777777777778,\"#fb9f3a\"],[0.8888888888888888,\"#fdca26\"],[1.0,\"#f0f921\"]]}],\"heatmap\":[{\"type\":\"heatmap\",\"colorbar\":{\"outlinewidth\":0,\"ticks\":\"\"},\"colorscale\":[[0.0,\"#0d0887\"],[0.1111111111111111,\"#46039f\"],[0.2222222222222222,\"#7201a8\"],[0.3333333333333333,\"#9c179e\"],[0.4444444444444444,\"#bd3786\"],[0.5555555555555556,\"#d8576b\"],[0.6666666666666666,\"#ed7953\"],[0.7777777777777778,\"#fb9f3a\"],[0.8888888888888888,\"#fdca26\"],[1.0,\"#f0f921\"]]}],\"heatmapgl\":[{\"type\":\"heatmapgl\",\"colorbar\":{\"outlinewidth\":0,\"ticks\":\"\"},\"colorscale\":[[0.0,\"#0d0887\"],[0.1111111111111111,\"#46039f\"],[0.2222222222222222,\"#7201a8\"],[0.3333333333333333,\"#9c179e\"],[0.4444444444444444,\"#bd3786\"],[0.5555555555555556,\"#d8576b\"],[0.6666666666666666,\"#ed7953\"],[0.7777777777777778,\"#fb9f3a\"],[0.8888888888888888,\"#fdca26\"],[1.0,\"#f0f921\"]]}],\"contourcarpet\":[{\"type\":\"contourcarpet\",\"colorbar\":{\"outlinewidth\":0,\"ticks\":\"\"}}],\"contour\":[{\"type\":\"contour\",\"colorbar\":{\"outlinewidth\":0,\"ticks\":\"\"},\"colorscale\":[[0.0,\"#0d0887\"],[0.1111111111111111,\"#46039f\"],[0.2222222222222222,\"#7201a8\"],[0.3333333333333333,\"#9c179e\"],[0.4444444444444444,\"#bd3786\"],[0.5555555555555556,\"#d8576b\"],[0.6666666666666666,\"#ed7953\"],[0.7777777777777778,\"#fb9f3a\"],[0.8888888888888888,\"#fdca26\"],[1.0,\"#f0f921\"]]}],\"surface\":[{\"type\":\"surface\",\"colorbar\":{\"outlinewidth\":0,\"ticks\":\"\"},\"colorscale\":[[0.0,\"#0d0887\"],[0.1111111111111111,\"#46039f\"],[0.2222222222222222,\"#7201a8\"],[0.3333333333333333,\"#9c179e\"],[0.4444444444444444,\"#bd3786\"],[0.5555555555555556,\"#d8576b\"],[0.6666666666666666,\"#ed7953\"],[0.7777777777777778,\"#fb9f3a\"],[0.8888888888888888,\"#fdca26\"],[1.0,\"#f0f921\"]]}],\"mesh3d\":[{\"type\":\"mesh3d\",\"colorbar\":{\"outlinewidth\":0,\"ticks\":\"\"}}],\"scatter\":[{\"fillpattern\":{\"fillmode\":\"overlay\",\"size\":10,\"solidity\":0.2},\"type\":\"scatter\"}],\"parcoords\":[{\"type\":\"parcoords\",\"line\":{\"colorbar\":{\"outlinewidth\":0,\"ticks\":\"\"}}}],\"scatterpolargl\":[{\"type\":\"scatterpolargl\",\"marker\":{\"colorbar\":{\"outlinewidth\":0,\"ticks\":\"\"}}}],\"bar\":[{\"error_x\":{\"color\":\"#2a3f5f\"},\"error_y\":{\"color\":\"#2a3f5f\"},\"marker\":{\"line\":{\"color\":\"#E5ECF6\",\"width\":0.5},\"pattern\":{\"fillmode\":\"overlay\",\"size\":10,\"solidity\":0.2}},\"type\":\"bar\"}],\"scattergeo\":[{\"type\":\"scattergeo\",\"marker\":{\"colorbar\":{\"outlinewidth\":0,\"ticks\":\"\"}}}],\"scatterpolar\":[{\"type\":\"scatterpolar\",\"marker\":{\"colorbar\":{\"outlinewidth\":0,\"ticks\":\"\"}}}],\"histogram\":[{\"marker\":{\"pattern\":{\"fillmode\":\"overlay\",\"size\":10,\"solidity\":0.2}},\"type\":\"histogram\"}],\"scattergl\":[{\"type\":\"scattergl\",\"marker\":{\"colorbar\":{\"outlinewidth\":0,\"ticks\":\"\"}}}],\"scatter3d\":[{\"type\":\"scatter3d\",\"line\":{\"colorbar\":{\"outlinewidth\":0,\"ticks\":\"\"}},\"marker\":{\"colorbar\":{\"outlinewidth\":0,\"ticks\":\"\"}}}],\"scattermapbox\":[{\"type\":\"scattermapbox\",\"marker\":{\"colorbar\":{\"outlinewidth\":0,\"ticks\":\"\"}}}],\"scatterternary\":[{\"type\":\"scatterternary\",\"marker\":{\"colorbar\":{\"outlinewidth\":0,\"ticks\":\"\"}}}],\"scattercarpet\":[{\"type\":\"scattercarpet\",\"marker\":{\"colorbar\":{\"outlinewidth\":0,\"ticks\":\"\"}}}],\"carpet\":[{\"aaxis\":{\"endlinecolor\":\"#2a3f5f\",\"gridcolor\":\"white\",\"linecolor\":\"white\",\"minorgridcolor\":\"white\",\"startlinecolor\":\"#2a3f5f\"},\"baxis\":{\"endlinecolor\":\"#2a3f5f\",\"gridcolor\":\"white\",\"linecolor\":\"white\",\"minorgridcolor\":\"white\",\"startlinecolor\":\"#2a3f5f\"},\"type\":\"carpet\"}],\"table\":[{\"cells\":{\"fill\":{\"color\":\"#EBF0F8\"},\"line\":{\"color\":\"white\"}},\"header\":{\"fill\":{\"color\":\"#C8D4E3\"},\"line\":{\"color\":\"white\"}},\"type\":\"table\"}],\"barpolar\":[{\"marker\":{\"line\":{\"color\":\"#E5ECF6\",\"width\":0.5},\"pattern\":{\"fillmode\":\"overlay\",\"size\":10,\"solidity\":0.2}},\"type\":\"barpolar\"}],\"pie\":[{\"automargin\":true,\"type\":\"pie\"}]},\"layout\":{\"autotypenumbers\":\"strict\",\"colorway\":[\"#636efa\",\"#EF553B\",\"#00cc96\",\"#ab63fa\",\"#FFA15A\",\"#19d3f3\",\"#FF6692\",\"#B6E880\",\"#FF97FF\",\"#FECB52\"],\"font\":{\"color\":\"#2a3f5f\"},\"hovermode\":\"closest\",\"hoverlabel\":{\"align\":\"left\"},\"paper_bgcolor\":\"white\",\"plot_bgcolor\":\"#E5ECF6\",\"polar\":{\"bgcolor\":\"#E5ECF6\",\"angularaxis\":{\"gridcolor\":\"white\",\"linecolor\":\"white\",\"ticks\":\"\"},\"radialaxis\":{\"gridcolor\":\"white\",\"linecolor\":\"white\",\"ticks\":\"\"}},\"ternary\":{\"bgcolor\":\"#E5ECF6\",\"aaxis\":{\"gridcolor\":\"white\",\"linecolor\":\"white\",\"ticks\":\"\"},\"baxis\":{\"gridcolor\":\"white\",\"linecolor\":\"white\",\"ticks\":\"\"},\"caxis\":{\"gridcolor\":\"white\",\"linecolor\":\"white\",\"ticks\":\"\"}},\"coloraxis\":{\"colorbar\":{\"outlinewidth\":0,\"ticks\":\"\"}},\"colorscale\":{\"sequential\":[[0.0,\"#0d0887\"],[0.1111111111111111,\"#46039f\"],[0.2222222222222222,\"#7201a8\"],[0.3333333333333333,\"#9c179e\"],[0.4444444444444444,\"#bd3786\"],[0.5555555555555556,\"#d8576b\"],[0.6666666666666666,\"#ed7953\"],[0.7777777777777778,\"#fb9f3a\"],[0.8888888888888888,\"#fdca26\"],[1.0,\"#f0f921\"]],\"sequentialminus\":[[0.0,\"#0d0887\"],[0.1111111111111111,\"#46039f\"],[0.2222222222222222,\"#7201a8\"],[0.3333333333333333,\"#9c179e\"],[0.4444444444444444,\"#bd3786\"],[0.5555555555555556,\"#d8576b\"],[0.6666666666666666,\"#ed7953\"],[0.7777777777777778,\"#fb9f3a\"],[0.8888888888888888,\"#fdca26\"],[1.0,\"#f0f921\"]],\"diverging\":[[0,\"#8e0152\"],[0.1,\"#c51b7d\"],[0.2,\"#de77ae\"],[0.3,\"#f1b6da\"],[0.4,\"#fde0ef\"],[0.5,\"#f7f7f7\"],[0.6,\"#e6f5d0\"],[0.7,\"#b8e186\"],[0.8,\"#7fbc41\"],[0.9,\"#4d9221\"],[1,\"#276419\"]]},\"xaxis\":{\"gridcolor\":\"white\",\"linecolor\":\"white\",\"ticks\":\"\",\"title\":{\"standoff\":15},\"zerolinecolor\":\"white\",\"automargin\":true,\"zerolinewidth\":2},\"yaxis\":{\"gridcolor\":\"white\",\"linecolor\":\"white\",\"ticks\":\"\",\"title\":{\"standoff\":15},\"zerolinecolor\":\"white\",\"automargin\":true,\"zerolinewidth\":2},\"scene\":{\"xaxis\":{\"backgroundcolor\":\"#E5ECF6\",\"gridcolor\":\"white\",\"linecolor\":\"white\",\"showbackground\":true,\"ticks\":\"\",\"zerolinecolor\":\"white\",\"gridwidth\":2},\"yaxis\":{\"backgroundcolor\":\"#E5ECF6\",\"gridcolor\":\"white\",\"linecolor\":\"white\",\"showbackground\":true,\"ticks\":\"\",\"zerolinecolor\":\"white\",\"gridwidth\":2},\"zaxis\":{\"backgroundcolor\":\"#E5ECF6\",\"gridcolor\":\"white\",\"linecolor\":\"white\",\"showbackground\":true,\"ticks\":\"\",\"zerolinecolor\":\"white\",\"gridwidth\":2}},\"shapedefaults\":{\"line\":{\"color\":\"#2a3f5f\"}},\"annotationdefaults\":{\"arrowcolor\":\"#2a3f5f\",\"arrowhead\":0,\"arrowwidth\":1},\"geo\":{\"bgcolor\":\"white\",\"landcolor\":\"#E5ECF6\",\"subunitcolor\":\"white\",\"showland\":true,\"showlakes\":true,\"lakecolor\":\"white\"},\"title\":{\"x\":0.05},\"mapbox\":{\"style\":\"light\"}}},\"xaxis\":{\"anchor\":\"y\",\"domain\":[0.0,1.0],\"title\":{\"text\":\"fecha\"}},\"yaxis\":{\"anchor\":\"x\",\"domain\":[0.0,1.0],\"title\":{\"text\":\"value\"}},\"legend\":{\"title\":{\"text\":\"variable\"},\"tracegroupgap\":0},\"title\":{\"text\":\"Datos de Producci\\u00f3n y Ventas\"}},                        {\"responsive\": true}                    ).then(function(){\n",
              "                            \n",
              "var gd = document.getElementById('db37d2af-6014-4fdc-a3a8-f2e25f81e3c0');\n",
              "var x = new MutationObserver(function (mutations, observer) {{\n",
              "        var display = window.getComputedStyle(gd).display;\n",
              "        if (!display || display === 'none') {{\n",
              "            console.log([gd, 'removed!']);\n",
              "            Plotly.purge(gd);\n",
              "            observer.disconnect();\n",
              "        }}\n",
              "}});\n",
              "\n",
              "// Listen for the removal of the full notebook cells\n",
              "var notebookContainer = gd.closest('#notebook-container');\n",
              "if (notebookContainer) {{\n",
              "    x.observe(notebookContainer, {childList: true});\n",
              "}}\n",
              "\n",
              "// Listen for the clearing of the current output cell\n",
              "var outputEl = gd.closest('.output');\n",
              "if (outputEl) {{\n",
              "    x.observe(outputEl, {childList: true});\n",
              "}}\n",
              "\n",
              "                        })                };                });            </script>        </div>"
            ]
          },
          "metadata": {}
        }
      ]
    },
    {
      "cell_type": "markdown",
      "source": [
        "##Soja - Producción de aceite para biodiesel\n",
        "Dirección de Bioenergía, Secretaria de Alimentos y Bioeconomía\n",
        "\n",
        "Datos estimados de la producción de aceite de soja destinado a la elaboración de biodiesel. Datos expresados en toneladas, poseen información desde el año 2014 hasta la actualidad.\n",
        "\n",
        "Fecha de actualización\n",
        "24 de octubre de 2019 (dato extraido de la página)"
      ],
      "metadata": {
        "id": "fLkDf0XgzG8i"
      }
    },
    {
      "cell_type": "code",
      "source": [
        "soja_df= pd.read_csv(r'https://datos.magyp.gob.ar/dataset/f0f27bbd-d54a-4633-93ff-79dbf52ac62a/resource/02648480-3c6f-4331-93ff-d4fe9daa9e99/download/estimacion-del-aceite-de-soja-destinado-a-la-elaboracion-de-biodiesel-.csv')\n",
        "\n",
        "soja_df.head()"
      ],
      "metadata": {
        "colab": {
          "base_uri": "https://localhost:8080/",
          "height": 206
        },
        "id": "FfMU_qAGukoV",
        "outputId": "1a224069-9368-454e-aab6-1c3aaf543221"
      },
      "execution_count": null,
      "outputs": [
        {
          "output_type": "execute_result",
          "data": {
            "text/plain": [
              "   cod_pais   nom_pais   año      mes          insumo    destino cod_uni_med  \\\n",
              "0        32  Argentina  2014    Enero  aceite de soja  biodiesel           t   \n",
              "1        32  Argentina  2014  Febrero  aceite de soja  biodiesel           t   \n",
              "2        32  Argentina  2014    Marzo  aceite de soja  biodiesel           t   \n",
              "3        32  Argentina  2014    Abril  aceite de soja  biodiesel           t   \n",
              "4        32  Argentina  2014     Mayo  aceite de soja  biodiesel           t   \n",
              "\n",
              "  nom_uni_med  cantidad  \n",
              "0   toneladas    145809  \n",
              "1   toneladas    136940  \n",
              "2   toneladas    125415  \n",
              "3   toneladas    147477  \n",
              "4   toneladas    237136  "
            ],
            "text/html": [
              "\n",
              "  <div id=\"df-8275661c-374d-476e-8a57-aec1d5c26eb9\" class=\"colab-df-container\">\n",
              "    <div>\n",
              "<style scoped>\n",
              "    .dataframe tbody tr th:only-of-type {\n",
              "        vertical-align: middle;\n",
              "    }\n",
              "\n",
              "    .dataframe tbody tr th {\n",
              "        vertical-align: top;\n",
              "    }\n",
              "\n",
              "    .dataframe thead th {\n",
              "        text-align: right;\n",
              "    }\n",
              "</style>\n",
              "<table border=\"1\" class=\"dataframe\">\n",
              "  <thead>\n",
              "    <tr style=\"text-align: right;\">\n",
              "      <th></th>\n",
              "      <th>cod_pais</th>\n",
              "      <th>nom_pais</th>\n",
              "      <th>año</th>\n",
              "      <th>mes</th>\n",
              "      <th>insumo</th>\n",
              "      <th>destino</th>\n",
              "      <th>cod_uni_med</th>\n",
              "      <th>nom_uni_med</th>\n",
              "      <th>cantidad</th>\n",
              "    </tr>\n",
              "  </thead>\n",
              "  <tbody>\n",
              "    <tr>\n",
              "      <th>0</th>\n",
              "      <td>32</td>\n",
              "      <td>Argentina</td>\n",
              "      <td>2014</td>\n",
              "      <td>Enero</td>\n",
              "      <td>aceite de soja</td>\n",
              "      <td>biodiesel</td>\n",
              "      <td>t</td>\n",
              "      <td>toneladas</td>\n",
              "      <td>145809</td>\n",
              "    </tr>\n",
              "    <tr>\n",
              "      <th>1</th>\n",
              "      <td>32</td>\n",
              "      <td>Argentina</td>\n",
              "      <td>2014</td>\n",
              "      <td>Febrero</td>\n",
              "      <td>aceite de soja</td>\n",
              "      <td>biodiesel</td>\n",
              "      <td>t</td>\n",
              "      <td>toneladas</td>\n",
              "      <td>136940</td>\n",
              "    </tr>\n",
              "    <tr>\n",
              "      <th>2</th>\n",
              "      <td>32</td>\n",
              "      <td>Argentina</td>\n",
              "      <td>2014</td>\n",
              "      <td>Marzo</td>\n",
              "      <td>aceite de soja</td>\n",
              "      <td>biodiesel</td>\n",
              "      <td>t</td>\n",
              "      <td>toneladas</td>\n",
              "      <td>125415</td>\n",
              "    </tr>\n",
              "    <tr>\n",
              "      <th>3</th>\n",
              "      <td>32</td>\n",
              "      <td>Argentina</td>\n",
              "      <td>2014</td>\n",
              "      <td>Abril</td>\n",
              "      <td>aceite de soja</td>\n",
              "      <td>biodiesel</td>\n",
              "      <td>t</td>\n",
              "      <td>toneladas</td>\n",
              "      <td>147477</td>\n",
              "    </tr>\n",
              "    <tr>\n",
              "      <th>4</th>\n",
              "      <td>32</td>\n",
              "      <td>Argentina</td>\n",
              "      <td>2014</td>\n",
              "      <td>Mayo</td>\n",
              "      <td>aceite de soja</td>\n",
              "      <td>biodiesel</td>\n",
              "      <td>t</td>\n",
              "      <td>toneladas</td>\n",
              "      <td>237136</td>\n",
              "    </tr>\n",
              "  </tbody>\n",
              "</table>\n",
              "</div>\n",
              "    <div class=\"colab-df-buttons\">\n",
              "\n",
              "  <div class=\"colab-df-container\">\n",
              "    <button class=\"colab-df-convert\" onclick=\"convertToInteractive('df-8275661c-374d-476e-8a57-aec1d5c26eb9')\"\n",
              "            title=\"Convert this dataframe to an interactive table.\"\n",
              "            style=\"display:none;\">\n",
              "\n",
              "  <svg xmlns=\"http://www.w3.org/2000/svg\" height=\"24px\" viewBox=\"0 -960 960 960\">\n",
              "    <path d=\"M120-120v-720h720v720H120Zm60-500h600v-160H180v160Zm220 220h160v-160H400v160Zm0 220h160v-160H400v160ZM180-400h160v-160H180v160Zm440 0h160v-160H620v160ZM180-180h160v-160H180v160Zm440 0h160v-160H620v160Z\"/>\n",
              "  </svg>\n",
              "    </button>\n",
              "\n",
              "  <style>\n",
              "    .colab-df-container {\n",
              "      display:flex;\n",
              "      gap: 12px;\n",
              "    }\n",
              "\n",
              "    .colab-df-convert {\n",
              "      background-color: #E8F0FE;\n",
              "      border: none;\n",
              "      border-radius: 50%;\n",
              "      cursor: pointer;\n",
              "      display: none;\n",
              "      fill: #1967D2;\n",
              "      height: 32px;\n",
              "      padding: 0 0 0 0;\n",
              "      width: 32px;\n",
              "    }\n",
              "\n",
              "    .colab-df-convert:hover {\n",
              "      background-color: #E2EBFA;\n",
              "      box-shadow: 0px 1px 2px rgba(60, 64, 67, 0.3), 0px 1px 3px 1px rgba(60, 64, 67, 0.15);\n",
              "      fill: #174EA6;\n",
              "    }\n",
              "\n",
              "    .colab-df-buttons div {\n",
              "      margin-bottom: 4px;\n",
              "    }\n",
              "\n",
              "    [theme=dark] .colab-df-convert {\n",
              "      background-color: #3B4455;\n",
              "      fill: #D2E3FC;\n",
              "    }\n",
              "\n",
              "    [theme=dark] .colab-df-convert:hover {\n",
              "      background-color: #434B5C;\n",
              "      box-shadow: 0px 1px 3px 1px rgba(0, 0, 0, 0.15);\n",
              "      filter: drop-shadow(0px 1px 2px rgba(0, 0, 0, 0.3));\n",
              "      fill: #FFFFFF;\n",
              "    }\n",
              "  </style>\n",
              "\n",
              "    <script>\n",
              "      const buttonEl =\n",
              "        document.querySelector('#df-8275661c-374d-476e-8a57-aec1d5c26eb9 button.colab-df-convert');\n",
              "      buttonEl.style.display =\n",
              "        google.colab.kernel.accessAllowed ? 'block' : 'none';\n",
              "\n",
              "      async function convertToInteractive(key) {\n",
              "        const element = document.querySelector('#df-8275661c-374d-476e-8a57-aec1d5c26eb9');\n",
              "        const dataTable =\n",
              "          await google.colab.kernel.invokeFunction('convertToInteractive',\n",
              "                                                    [key], {});\n",
              "        if (!dataTable) return;\n",
              "\n",
              "        const docLinkHtml = 'Like what you see? Visit the ' +\n",
              "          '<a target=\"_blank\" href=https://colab.research.google.com/notebooks/data_table.ipynb>data table notebook</a>'\n",
              "          + ' to learn more about interactive tables.';\n",
              "        element.innerHTML = '';\n",
              "        dataTable['output_type'] = 'display_data';\n",
              "        await google.colab.output.renderOutput(dataTable, element);\n",
              "        const docLink = document.createElement('div');\n",
              "        docLink.innerHTML = docLinkHtml;\n",
              "        element.appendChild(docLink);\n",
              "      }\n",
              "    </script>\n",
              "  </div>\n",
              "\n",
              "\n",
              "<div id=\"df-49310425-bb17-48d6-a00d-c145427ea933\">\n",
              "  <button class=\"colab-df-quickchart\" onclick=\"quickchart('df-49310425-bb17-48d6-a00d-c145427ea933')\"\n",
              "            title=\"Suggest charts\"\n",
              "            style=\"display:none;\">\n",
              "\n",
              "<svg xmlns=\"http://www.w3.org/2000/svg\" height=\"24px\"viewBox=\"0 0 24 24\"\n",
              "     width=\"24px\">\n",
              "    <g>\n",
              "        <path d=\"M19 3H5c-1.1 0-2 .9-2 2v14c0 1.1.9 2 2 2h14c1.1 0 2-.9 2-2V5c0-1.1-.9-2-2-2zM9 17H7v-7h2v7zm4 0h-2V7h2v10zm4 0h-2v-4h2v4z\"/>\n",
              "    </g>\n",
              "</svg>\n",
              "  </button>\n",
              "\n",
              "<style>\n",
              "  .colab-df-quickchart {\n",
              "      --bg-color: #E8F0FE;\n",
              "      --fill-color: #1967D2;\n",
              "      --hover-bg-color: #E2EBFA;\n",
              "      --hover-fill-color: #174EA6;\n",
              "      --disabled-fill-color: #AAA;\n",
              "      --disabled-bg-color: #DDD;\n",
              "  }\n",
              "\n",
              "  [theme=dark] .colab-df-quickchart {\n",
              "      --bg-color: #3B4455;\n",
              "      --fill-color: #D2E3FC;\n",
              "      --hover-bg-color: #434B5C;\n",
              "      --hover-fill-color: #FFFFFF;\n",
              "      --disabled-bg-color: #3B4455;\n",
              "      --disabled-fill-color: #666;\n",
              "  }\n",
              "\n",
              "  .colab-df-quickchart {\n",
              "    background-color: var(--bg-color);\n",
              "    border: none;\n",
              "    border-radius: 50%;\n",
              "    cursor: pointer;\n",
              "    display: none;\n",
              "    fill: var(--fill-color);\n",
              "    height: 32px;\n",
              "    padding: 0;\n",
              "    width: 32px;\n",
              "  }\n",
              "\n",
              "  .colab-df-quickchart:hover {\n",
              "    background-color: var(--hover-bg-color);\n",
              "    box-shadow: 0 1px 2px rgba(60, 64, 67, 0.3), 0 1px 3px 1px rgba(60, 64, 67, 0.15);\n",
              "    fill: var(--button-hover-fill-color);\n",
              "  }\n",
              "\n",
              "  .colab-df-quickchart-complete:disabled,\n",
              "  .colab-df-quickchart-complete:disabled:hover {\n",
              "    background-color: var(--disabled-bg-color);\n",
              "    fill: var(--disabled-fill-color);\n",
              "    box-shadow: none;\n",
              "  }\n",
              "\n",
              "  .colab-df-spinner {\n",
              "    border: 2px solid var(--fill-color);\n",
              "    border-color: transparent;\n",
              "    border-bottom-color: var(--fill-color);\n",
              "    animation:\n",
              "      spin 1s steps(1) infinite;\n",
              "  }\n",
              "\n",
              "  @keyframes spin {\n",
              "    0% {\n",
              "      border-color: transparent;\n",
              "      border-bottom-color: var(--fill-color);\n",
              "      border-left-color: var(--fill-color);\n",
              "    }\n",
              "    20% {\n",
              "      border-color: transparent;\n",
              "      border-left-color: var(--fill-color);\n",
              "      border-top-color: var(--fill-color);\n",
              "    }\n",
              "    30% {\n",
              "      border-color: transparent;\n",
              "      border-left-color: var(--fill-color);\n",
              "      border-top-color: var(--fill-color);\n",
              "      border-right-color: var(--fill-color);\n",
              "    }\n",
              "    40% {\n",
              "      border-color: transparent;\n",
              "      border-right-color: var(--fill-color);\n",
              "      border-top-color: var(--fill-color);\n",
              "    }\n",
              "    60% {\n",
              "      border-color: transparent;\n",
              "      border-right-color: var(--fill-color);\n",
              "    }\n",
              "    80% {\n",
              "      border-color: transparent;\n",
              "      border-right-color: var(--fill-color);\n",
              "      border-bottom-color: var(--fill-color);\n",
              "    }\n",
              "    90% {\n",
              "      border-color: transparent;\n",
              "      border-bottom-color: var(--fill-color);\n",
              "    }\n",
              "  }\n",
              "</style>\n",
              "\n",
              "  <script>\n",
              "    async function quickchart(key) {\n",
              "      const quickchartButtonEl =\n",
              "        document.querySelector('#' + key + ' button');\n",
              "      quickchartButtonEl.disabled = true;  // To prevent multiple clicks.\n",
              "      quickchartButtonEl.classList.add('colab-df-spinner');\n",
              "      try {\n",
              "        const charts = await google.colab.kernel.invokeFunction(\n",
              "            'suggestCharts', [key], {});\n",
              "      } catch (error) {\n",
              "        console.error('Error during call to suggestCharts:', error);\n",
              "      }\n",
              "      quickchartButtonEl.classList.remove('colab-df-spinner');\n",
              "      quickchartButtonEl.classList.add('colab-df-quickchart-complete');\n",
              "    }\n",
              "    (() => {\n",
              "      let quickchartButtonEl =\n",
              "        document.querySelector('#df-49310425-bb17-48d6-a00d-c145427ea933 button');\n",
              "      quickchartButtonEl.style.display =\n",
              "        google.colab.kernel.accessAllowed ? 'block' : 'none';\n",
              "    })();\n",
              "  </script>\n",
              "</div>\n",
              "    </div>\n",
              "  </div>\n"
            ]
          },
          "metadata": {},
          "execution_count": 18
        }
      ]
    },
    {
      "cell_type": "markdown",
      "source": [
        "##Estableciendo DataFrame con datos a utilizar\n",
        "\n",
        "Solo utilizo año, mes y cantidad. Se renombra \"cantidad\" en \"Toneladas\""
      ],
      "metadata": {
        "id": "LTW2SNq8KnMN"
      }
    },
    {
      "cell_type": "code",
      "source": [
        "filtro=soja_df.columns.isin(['año', 'mes', 'cantidad'])\n",
        "selectedCols =soja_df.columns[filtro]\n",
        "df = soja_df[selectedCols]\n",
        "df.rename(columns={'cantidad':'Toneladas'}, inplace=True)\n",
        "df[0:12]"
      ],
      "metadata": {
        "id": "OJZmNF4Z497b",
        "outputId": "0309387b-44a2-4efd-dfe6-45f5b9821da0",
        "colab": {
          "base_uri": "https://localhost:8080/",
          "height": 567
        }
      },
      "execution_count": null,
      "outputs": [
        {
          "output_type": "stream",
          "name": "stderr",
          "text": [
            "<ipython-input-28-07e4d672c12d>:4: SettingWithCopyWarning:\n",
            "\n",
            "\n",
            "A value is trying to be set on a copy of a slice from a DataFrame\n",
            "\n",
            "See the caveats in the documentation: https://pandas.pydata.org/pandas-docs/stable/user_guide/indexing.html#returning-a-view-versus-a-copy\n",
            "\n"
          ]
        },
        {
          "output_type": "execute_result",
          "data": {
            "text/plain": [
              "     año         mes  Toneladas\n",
              "0   2014       Enero     145809\n",
              "1   2014     Febrero     136940\n",
              "2   2014       Marzo     125415\n",
              "3   2014       Abril     147477\n",
              "4   2014        Mayo     237136\n",
              "5   2014       Junio     258457\n",
              "6   2014       Julio     284321\n",
              "7   2014      Agosto     287682\n",
              "8   2014  Septiembre     305381\n",
              "9   2014     Octubre     319244\n",
              "10  2014   Noviembre     251800\n",
              "11  2014   Diciembre     173087"
            ],
            "text/html": [
              "\n",
              "  <div id=\"df-7b836ec8-a881-42aa-9cdf-ec6b7eef9876\" class=\"colab-df-container\">\n",
              "    <div>\n",
              "<style scoped>\n",
              "    .dataframe tbody tr th:only-of-type {\n",
              "        vertical-align: middle;\n",
              "    }\n",
              "\n",
              "    .dataframe tbody tr th {\n",
              "        vertical-align: top;\n",
              "    }\n",
              "\n",
              "    .dataframe thead th {\n",
              "        text-align: right;\n",
              "    }\n",
              "</style>\n",
              "<table border=\"1\" class=\"dataframe\">\n",
              "  <thead>\n",
              "    <tr style=\"text-align: right;\">\n",
              "      <th></th>\n",
              "      <th>año</th>\n",
              "      <th>mes</th>\n",
              "      <th>Toneladas</th>\n",
              "    </tr>\n",
              "  </thead>\n",
              "  <tbody>\n",
              "    <tr>\n",
              "      <th>0</th>\n",
              "      <td>2014</td>\n",
              "      <td>Enero</td>\n",
              "      <td>145809</td>\n",
              "    </tr>\n",
              "    <tr>\n",
              "      <th>1</th>\n",
              "      <td>2014</td>\n",
              "      <td>Febrero</td>\n",
              "      <td>136940</td>\n",
              "    </tr>\n",
              "    <tr>\n",
              "      <th>2</th>\n",
              "      <td>2014</td>\n",
              "      <td>Marzo</td>\n",
              "      <td>125415</td>\n",
              "    </tr>\n",
              "    <tr>\n",
              "      <th>3</th>\n",
              "      <td>2014</td>\n",
              "      <td>Abril</td>\n",
              "      <td>147477</td>\n",
              "    </tr>\n",
              "    <tr>\n",
              "      <th>4</th>\n",
              "      <td>2014</td>\n",
              "      <td>Mayo</td>\n",
              "      <td>237136</td>\n",
              "    </tr>\n",
              "    <tr>\n",
              "      <th>5</th>\n",
              "      <td>2014</td>\n",
              "      <td>Junio</td>\n",
              "      <td>258457</td>\n",
              "    </tr>\n",
              "    <tr>\n",
              "      <th>6</th>\n",
              "      <td>2014</td>\n",
              "      <td>Julio</td>\n",
              "      <td>284321</td>\n",
              "    </tr>\n",
              "    <tr>\n",
              "      <th>7</th>\n",
              "      <td>2014</td>\n",
              "      <td>Agosto</td>\n",
              "      <td>287682</td>\n",
              "    </tr>\n",
              "    <tr>\n",
              "      <th>8</th>\n",
              "      <td>2014</td>\n",
              "      <td>Septiembre</td>\n",
              "      <td>305381</td>\n",
              "    </tr>\n",
              "    <tr>\n",
              "      <th>9</th>\n",
              "      <td>2014</td>\n",
              "      <td>Octubre</td>\n",
              "      <td>319244</td>\n",
              "    </tr>\n",
              "    <tr>\n",
              "      <th>10</th>\n",
              "      <td>2014</td>\n",
              "      <td>Noviembre</td>\n",
              "      <td>251800</td>\n",
              "    </tr>\n",
              "    <tr>\n",
              "      <th>11</th>\n",
              "      <td>2014</td>\n",
              "      <td>Diciembre</td>\n",
              "      <td>173087</td>\n",
              "    </tr>\n",
              "  </tbody>\n",
              "</table>\n",
              "</div>\n",
              "    <div class=\"colab-df-buttons\">\n",
              "\n",
              "  <div class=\"colab-df-container\">\n",
              "    <button class=\"colab-df-convert\" onclick=\"convertToInteractive('df-7b836ec8-a881-42aa-9cdf-ec6b7eef9876')\"\n",
              "            title=\"Convert this dataframe to an interactive table.\"\n",
              "            style=\"display:none;\">\n",
              "\n",
              "  <svg xmlns=\"http://www.w3.org/2000/svg\" height=\"24px\" viewBox=\"0 -960 960 960\">\n",
              "    <path d=\"M120-120v-720h720v720H120Zm60-500h600v-160H180v160Zm220 220h160v-160H400v160Zm0 220h160v-160H400v160ZM180-400h160v-160H180v160Zm440 0h160v-160H620v160ZM180-180h160v-160H180v160Zm440 0h160v-160H620v160Z\"/>\n",
              "  </svg>\n",
              "    </button>\n",
              "\n",
              "  <style>\n",
              "    .colab-df-container {\n",
              "      display:flex;\n",
              "      gap: 12px;\n",
              "    }\n",
              "\n",
              "    .colab-df-convert {\n",
              "      background-color: #E8F0FE;\n",
              "      border: none;\n",
              "      border-radius: 50%;\n",
              "      cursor: pointer;\n",
              "      display: none;\n",
              "      fill: #1967D2;\n",
              "      height: 32px;\n",
              "      padding: 0 0 0 0;\n",
              "      width: 32px;\n",
              "    }\n",
              "\n",
              "    .colab-df-convert:hover {\n",
              "      background-color: #E2EBFA;\n",
              "      box-shadow: 0px 1px 2px rgba(60, 64, 67, 0.3), 0px 1px 3px 1px rgba(60, 64, 67, 0.15);\n",
              "      fill: #174EA6;\n",
              "    }\n",
              "\n",
              "    .colab-df-buttons div {\n",
              "      margin-bottom: 4px;\n",
              "    }\n",
              "\n",
              "    [theme=dark] .colab-df-convert {\n",
              "      background-color: #3B4455;\n",
              "      fill: #D2E3FC;\n",
              "    }\n",
              "\n",
              "    [theme=dark] .colab-df-convert:hover {\n",
              "      background-color: #434B5C;\n",
              "      box-shadow: 0px 1px 3px 1px rgba(0, 0, 0, 0.15);\n",
              "      filter: drop-shadow(0px 1px 2px rgba(0, 0, 0, 0.3));\n",
              "      fill: #FFFFFF;\n",
              "    }\n",
              "  </style>\n",
              "\n",
              "    <script>\n",
              "      const buttonEl =\n",
              "        document.querySelector('#df-7b836ec8-a881-42aa-9cdf-ec6b7eef9876 button.colab-df-convert');\n",
              "      buttonEl.style.display =\n",
              "        google.colab.kernel.accessAllowed ? 'block' : 'none';\n",
              "\n",
              "      async function convertToInteractive(key) {\n",
              "        const element = document.querySelector('#df-7b836ec8-a881-42aa-9cdf-ec6b7eef9876');\n",
              "        const dataTable =\n",
              "          await google.colab.kernel.invokeFunction('convertToInteractive',\n",
              "                                                    [key], {});\n",
              "        if (!dataTable) return;\n",
              "\n",
              "        const docLinkHtml = 'Like what you see? Visit the ' +\n",
              "          '<a target=\"_blank\" href=https://colab.research.google.com/notebooks/data_table.ipynb>data table notebook</a>'\n",
              "          + ' to learn more about interactive tables.';\n",
              "        element.innerHTML = '';\n",
              "        dataTable['output_type'] = 'display_data';\n",
              "        await google.colab.output.renderOutput(dataTable, element);\n",
              "        const docLink = document.createElement('div');\n",
              "        docLink.innerHTML = docLinkHtml;\n",
              "        element.appendChild(docLink);\n",
              "      }\n",
              "    </script>\n",
              "  </div>\n",
              "\n",
              "\n",
              "<div id=\"df-9edf7a07-2d45-46a7-a890-1d1dd074bedd\">\n",
              "  <button class=\"colab-df-quickchart\" onclick=\"quickchart('df-9edf7a07-2d45-46a7-a890-1d1dd074bedd')\"\n",
              "            title=\"Suggest charts\"\n",
              "            style=\"display:none;\">\n",
              "\n",
              "<svg xmlns=\"http://www.w3.org/2000/svg\" height=\"24px\"viewBox=\"0 0 24 24\"\n",
              "     width=\"24px\">\n",
              "    <g>\n",
              "        <path d=\"M19 3H5c-1.1 0-2 .9-2 2v14c0 1.1.9 2 2 2h14c1.1 0 2-.9 2-2V5c0-1.1-.9-2-2-2zM9 17H7v-7h2v7zm4 0h-2V7h2v10zm4 0h-2v-4h2v4z\"/>\n",
              "    </g>\n",
              "</svg>\n",
              "  </button>\n",
              "\n",
              "<style>\n",
              "  .colab-df-quickchart {\n",
              "      --bg-color: #E8F0FE;\n",
              "      --fill-color: #1967D2;\n",
              "      --hover-bg-color: #E2EBFA;\n",
              "      --hover-fill-color: #174EA6;\n",
              "      --disabled-fill-color: #AAA;\n",
              "      --disabled-bg-color: #DDD;\n",
              "  }\n",
              "\n",
              "  [theme=dark] .colab-df-quickchart {\n",
              "      --bg-color: #3B4455;\n",
              "      --fill-color: #D2E3FC;\n",
              "      --hover-bg-color: #434B5C;\n",
              "      --hover-fill-color: #FFFFFF;\n",
              "      --disabled-bg-color: #3B4455;\n",
              "      --disabled-fill-color: #666;\n",
              "  }\n",
              "\n",
              "  .colab-df-quickchart {\n",
              "    background-color: var(--bg-color);\n",
              "    border: none;\n",
              "    border-radius: 50%;\n",
              "    cursor: pointer;\n",
              "    display: none;\n",
              "    fill: var(--fill-color);\n",
              "    height: 32px;\n",
              "    padding: 0;\n",
              "    width: 32px;\n",
              "  }\n",
              "\n",
              "  .colab-df-quickchart:hover {\n",
              "    background-color: var(--hover-bg-color);\n",
              "    box-shadow: 0 1px 2px rgba(60, 64, 67, 0.3), 0 1px 3px 1px rgba(60, 64, 67, 0.15);\n",
              "    fill: var(--button-hover-fill-color);\n",
              "  }\n",
              "\n",
              "  .colab-df-quickchart-complete:disabled,\n",
              "  .colab-df-quickchart-complete:disabled:hover {\n",
              "    background-color: var(--disabled-bg-color);\n",
              "    fill: var(--disabled-fill-color);\n",
              "    box-shadow: none;\n",
              "  }\n",
              "\n",
              "  .colab-df-spinner {\n",
              "    border: 2px solid var(--fill-color);\n",
              "    border-color: transparent;\n",
              "    border-bottom-color: var(--fill-color);\n",
              "    animation:\n",
              "      spin 1s steps(1) infinite;\n",
              "  }\n",
              "\n",
              "  @keyframes spin {\n",
              "    0% {\n",
              "      border-color: transparent;\n",
              "      border-bottom-color: var(--fill-color);\n",
              "      border-left-color: var(--fill-color);\n",
              "    }\n",
              "    20% {\n",
              "      border-color: transparent;\n",
              "      border-left-color: var(--fill-color);\n",
              "      border-top-color: var(--fill-color);\n",
              "    }\n",
              "    30% {\n",
              "      border-color: transparent;\n",
              "      border-left-color: var(--fill-color);\n",
              "      border-top-color: var(--fill-color);\n",
              "      border-right-color: var(--fill-color);\n",
              "    }\n",
              "    40% {\n",
              "      border-color: transparent;\n",
              "      border-right-color: var(--fill-color);\n",
              "      border-top-color: var(--fill-color);\n",
              "    }\n",
              "    60% {\n",
              "      border-color: transparent;\n",
              "      border-right-color: var(--fill-color);\n",
              "    }\n",
              "    80% {\n",
              "      border-color: transparent;\n",
              "      border-right-color: var(--fill-color);\n",
              "      border-bottom-color: var(--fill-color);\n",
              "    }\n",
              "    90% {\n",
              "      border-color: transparent;\n",
              "      border-bottom-color: var(--fill-color);\n",
              "    }\n",
              "  }\n",
              "</style>\n",
              "\n",
              "  <script>\n",
              "    async function quickchart(key) {\n",
              "      const quickchartButtonEl =\n",
              "        document.querySelector('#' + key + ' button');\n",
              "      quickchartButtonEl.disabled = true;  // To prevent multiple clicks.\n",
              "      quickchartButtonEl.classList.add('colab-df-spinner');\n",
              "      try {\n",
              "        const charts = await google.colab.kernel.invokeFunction(\n",
              "            'suggestCharts', [key], {});\n",
              "      } catch (error) {\n",
              "        console.error('Error during call to suggestCharts:', error);\n",
              "      }\n",
              "      quickchartButtonEl.classList.remove('colab-df-spinner');\n",
              "      quickchartButtonEl.classList.add('colab-df-quickchart-complete');\n",
              "    }\n",
              "    (() => {\n",
              "      let quickchartButtonEl =\n",
              "        document.querySelector('#df-9edf7a07-2d45-46a7-a890-1d1dd074bedd button');\n",
              "      quickchartButtonEl.style.display =\n",
              "        google.colab.kernel.accessAllowed ? 'block' : 'none';\n",
              "    })();\n",
              "  </script>\n",
              "</div>\n",
              "    </div>\n",
              "  </div>\n"
            ]
          },
          "metadata": {},
          "execution_count": 28
        }
      ]
    },
    {
      "cell_type": "markdown",
      "source": [
        "##Cambiando dato string de meses a numérico"
      ],
      "metadata": {
        "id": "e5diZ3OuLold"
      }
    },
    {
      "cell_type": "code",
      "source": [
        "df[\"mes\"] = df[\"mes\"].replace({\"Enero\": 1, \"Febrero\": 2, \"Marzo\": 3, \"Abril\": 4, \"Mayo\": 5, \"Junio\": 6, \"Julio\": 7, \"Agosto\": 8, \"Septiembre\": 9, \"Octubre\": 10, \"Noviembre\": 11, \"Diciembre\": 12})\n",
        "df.head()\n",
        "\n"
      ],
      "metadata": {
        "id": "36k3r4aI-KOY"
      },
      "execution_count": null,
      "outputs": []
    },
    {
      "cell_type": "markdown",
      "source": [
        "### Backtesting y simulación en finanzas"
      ],
      "metadata": {
        "id": "uWrWufRXITcc"
      }
    },
    {
      "cell_type": "markdown",
      "source": [
        "#### Dólar vs Inflación en Argentina"
      ],
      "metadata": {
        "id": "g0EMGSMRMYNy"
      }
    },
    {
      "cell_type": "code",
      "source": [
        "uva_df_tables= pd.read_html('http://data.podemosaprender.org/finanzas/UVA_BCRA_2022.html')\n",
        "uva_df= uva_df_tables[0] #A: sabemos que hay una sola!\n",
        "uva_df.rename(columns={'Valor':'UVA', 'Fecha': 'fecha'}, inplace=True)\n",
        "uva_df.fecha= pd.to_datetime( uva_df.fecha, format='%Y-%m-%d')\n",
        "\n",
        "usd_blue_df= pd.read_csv(\"https://data.podemosaprender.org/finanzas/USD_BLUE_2022.csv\", sep=\"\\t\")\n",
        "usd_blue_df.fecha= pd.to_datetime( usd_blue_df.fecha, format='%Y/%m/%d')\n",
        "\n",
        "uva_usd_df= pd.merge(uva_df, usd_blue_df, on=\"fecha\")\n",
        "\n",
        "uva_usd_df.head()"
      ],
      "metadata": {
        "colab": {
          "base_uri": "https://localhost:8080/",
          "height": 206
        },
        "id": "J6WdE35ly5CN",
        "outputId": "9042bd72-3263-47b8-92f2-90e468a776c4"
      },
      "execution_count": null,
      "outputs": [
        {
          "output_type": "execute_result",
          "data": {
            "text/plain": [
              "       fecha    UVA  compra  venta\n",
              "0 2022-01-03  97.58   202.0  202.0\n",
              "1 2022-01-04  97.82   202.5  202.5\n",
              "2 2022-01-05  97.89   203.5  203.5\n",
              "3 2022-01-06  97.97   204.5  204.5\n",
              "4 2022-01-07  98.05   204.0  204.0"
            ],
            "text/html": [
              "\n",
              "  <div id=\"df-2c7c58e2-9e40-4141-9052-478f1ef5e7ef\" class=\"colab-df-container\">\n",
              "    <div>\n",
              "<style scoped>\n",
              "    .dataframe tbody tr th:only-of-type {\n",
              "        vertical-align: middle;\n",
              "    }\n",
              "\n",
              "    .dataframe tbody tr th {\n",
              "        vertical-align: top;\n",
              "    }\n",
              "\n",
              "    .dataframe thead th {\n",
              "        text-align: right;\n",
              "    }\n",
              "</style>\n",
              "<table border=\"1\" class=\"dataframe\">\n",
              "  <thead>\n",
              "    <tr style=\"text-align: right;\">\n",
              "      <th></th>\n",
              "      <th>fecha</th>\n",
              "      <th>UVA</th>\n",
              "      <th>compra</th>\n",
              "      <th>venta</th>\n",
              "    </tr>\n",
              "  </thead>\n",
              "  <tbody>\n",
              "    <tr>\n",
              "      <th>0</th>\n",
              "      <td>2022-01-03</td>\n",
              "      <td>97.58</td>\n",
              "      <td>202.0</td>\n",
              "      <td>202.0</td>\n",
              "    </tr>\n",
              "    <tr>\n",
              "      <th>1</th>\n",
              "      <td>2022-01-04</td>\n",
              "      <td>97.82</td>\n",
              "      <td>202.5</td>\n",
              "      <td>202.5</td>\n",
              "    </tr>\n",
              "    <tr>\n",
              "      <th>2</th>\n",
              "      <td>2022-01-05</td>\n",
              "      <td>97.89</td>\n",
              "      <td>203.5</td>\n",
              "      <td>203.5</td>\n",
              "    </tr>\n",
              "    <tr>\n",
              "      <th>3</th>\n",
              "      <td>2022-01-06</td>\n",
              "      <td>97.97</td>\n",
              "      <td>204.5</td>\n",
              "      <td>204.5</td>\n",
              "    </tr>\n",
              "    <tr>\n",
              "      <th>4</th>\n",
              "      <td>2022-01-07</td>\n",
              "      <td>98.05</td>\n",
              "      <td>204.0</td>\n",
              "      <td>204.0</td>\n",
              "    </tr>\n",
              "  </tbody>\n",
              "</table>\n",
              "</div>\n",
              "    <div class=\"colab-df-buttons\">\n",
              "\n",
              "  <div class=\"colab-df-container\">\n",
              "    <button class=\"colab-df-convert\" onclick=\"convertToInteractive('df-2c7c58e2-9e40-4141-9052-478f1ef5e7ef')\"\n",
              "            title=\"Convert this dataframe to an interactive table.\"\n",
              "            style=\"display:none;\">\n",
              "\n",
              "  <svg xmlns=\"http://www.w3.org/2000/svg\" height=\"24px\" viewBox=\"0 -960 960 960\">\n",
              "    <path d=\"M120-120v-720h720v720H120Zm60-500h600v-160H180v160Zm220 220h160v-160H400v160Zm0 220h160v-160H400v160ZM180-400h160v-160H180v160Zm440 0h160v-160H620v160ZM180-180h160v-160H180v160Zm440 0h160v-160H620v160Z\"/>\n",
              "  </svg>\n",
              "    </button>\n",
              "\n",
              "  <style>\n",
              "    .colab-df-container {\n",
              "      display:flex;\n",
              "      gap: 12px;\n",
              "    }\n",
              "\n",
              "    .colab-df-convert {\n",
              "      background-color: #E8F0FE;\n",
              "      border: none;\n",
              "      border-radius: 50%;\n",
              "      cursor: pointer;\n",
              "      display: none;\n",
              "      fill: #1967D2;\n",
              "      height: 32px;\n",
              "      padding: 0 0 0 0;\n",
              "      width: 32px;\n",
              "    }\n",
              "\n",
              "    .colab-df-convert:hover {\n",
              "      background-color: #E2EBFA;\n",
              "      box-shadow: 0px 1px 2px rgba(60, 64, 67, 0.3), 0px 1px 3px 1px rgba(60, 64, 67, 0.15);\n",
              "      fill: #174EA6;\n",
              "    }\n",
              "\n",
              "    .colab-df-buttons div {\n",
              "      margin-bottom: 4px;\n",
              "    }\n",
              "\n",
              "    [theme=dark] .colab-df-convert {\n",
              "      background-color: #3B4455;\n",
              "      fill: #D2E3FC;\n",
              "    }\n",
              "\n",
              "    [theme=dark] .colab-df-convert:hover {\n",
              "      background-color: #434B5C;\n",
              "      box-shadow: 0px 1px 3px 1px rgba(0, 0, 0, 0.15);\n",
              "      filter: drop-shadow(0px 1px 2px rgba(0, 0, 0, 0.3));\n",
              "      fill: #FFFFFF;\n",
              "    }\n",
              "  </style>\n",
              "\n",
              "    <script>\n",
              "      const buttonEl =\n",
              "        document.querySelector('#df-2c7c58e2-9e40-4141-9052-478f1ef5e7ef button.colab-df-convert');\n",
              "      buttonEl.style.display =\n",
              "        google.colab.kernel.accessAllowed ? 'block' : 'none';\n",
              "\n",
              "      async function convertToInteractive(key) {\n",
              "        const element = document.querySelector('#df-2c7c58e2-9e40-4141-9052-478f1ef5e7ef');\n",
              "        const dataTable =\n",
              "          await google.colab.kernel.invokeFunction('convertToInteractive',\n",
              "                                                    [key], {});\n",
              "        if (!dataTable) return;\n",
              "\n",
              "        const docLinkHtml = 'Like what you see? Visit the ' +\n",
              "          '<a target=\"_blank\" href=https://colab.research.google.com/notebooks/data_table.ipynb>data table notebook</a>'\n",
              "          + ' to learn more about interactive tables.';\n",
              "        element.innerHTML = '';\n",
              "        dataTable['output_type'] = 'display_data';\n",
              "        await google.colab.output.renderOutput(dataTable, element);\n",
              "        const docLink = document.createElement('div');\n",
              "        docLink.innerHTML = docLinkHtml;\n",
              "        element.appendChild(docLink);\n",
              "      }\n",
              "    </script>\n",
              "  </div>\n",
              "\n",
              "\n",
              "<div id=\"df-cb2100fc-7195-4b4b-9a92-9a519ce442a9\">\n",
              "  <button class=\"colab-df-quickchart\" onclick=\"quickchart('df-cb2100fc-7195-4b4b-9a92-9a519ce442a9')\"\n",
              "            title=\"Suggest charts\"\n",
              "            style=\"display:none;\">\n",
              "\n",
              "<svg xmlns=\"http://www.w3.org/2000/svg\" height=\"24px\"viewBox=\"0 0 24 24\"\n",
              "     width=\"24px\">\n",
              "    <g>\n",
              "        <path d=\"M19 3H5c-1.1 0-2 .9-2 2v14c0 1.1.9 2 2 2h14c1.1 0 2-.9 2-2V5c0-1.1-.9-2-2-2zM9 17H7v-7h2v7zm4 0h-2V7h2v10zm4 0h-2v-4h2v4z\"/>\n",
              "    </g>\n",
              "</svg>\n",
              "  </button>\n",
              "\n",
              "<style>\n",
              "  .colab-df-quickchart {\n",
              "      --bg-color: #E8F0FE;\n",
              "      --fill-color: #1967D2;\n",
              "      --hover-bg-color: #E2EBFA;\n",
              "      --hover-fill-color: #174EA6;\n",
              "      --disabled-fill-color: #AAA;\n",
              "      --disabled-bg-color: #DDD;\n",
              "  }\n",
              "\n",
              "  [theme=dark] .colab-df-quickchart {\n",
              "      --bg-color: #3B4455;\n",
              "      --fill-color: #D2E3FC;\n",
              "      --hover-bg-color: #434B5C;\n",
              "      --hover-fill-color: #FFFFFF;\n",
              "      --disabled-bg-color: #3B4455;\n",
              "      --disabled-fill-color: #666;\n",
              "  }\n",
              "\n",
              "  .colab-df-quickchart {\n",
              "    background-color: var(--bg-color);\n",
              "    border: none;\n",
              "    border-radius: 50%;\n",
              "    cursor: pointer;\n",
              "    display: none;\n",
              "    fill: var(--fill-color);\n",
              "    height: 32px;\n",
              "    padding: 0;\n",
              "    width: 32px;\n",
              "  }\n",
              "\n",
              "  .colab-df-quickchart:hover {\n",
              "    background-color: var(--hover-bg-color);\n",
              "    box-shadow: 0 1px 2px rgba(60, 64, 67, 0.3), 0 1px 3px 1px rgba(60, 64, 67, 0.15);\n",
              "    fill: var(--button-hover-fill-color);\n",
              "  }\n",
              "\n",
              "  .colab-df-quickchart-complete:disabled,\n",
              "  .colab-df-quickchart-complete:disabled:hover {\n",
              "    background-color: var(--disabled-bg-color);\n",
              "    fill: var(--disabled-fill-color);\n",
              "    box-shadow: none;\n",
              "  }\n",
              "\n",
              "  .colab-df-spinner {\n",
              "    border: 2px solid var(--fill-color);\n",
              "    border-color: transparent;\n",
              "    border-bottom-color: var(--fill-color);\n",
              "    animation:\n",
              "      spin 1s steps(1) infinite;\n",
              "  }\n",
              "\n",
              "  @keyframes spin {\n",
              "    0% {\n",
              "      border-color: transparent;\n",
              "      border-bottom-color: var(--fill-color);\n",
              "      border-left-color: var(--fill-color);\n",
              "    }\n",
              "    20% {\n",
              "      border-color: transparent;\n",
              "      border-left-color: var(--fill-color);\n",
              "      border-top-color: var(--fill-color);\n",
              "    }\n",
              "    30% {\n",
              "      border-color: transparent;\n",
              "      border-left-color: var(--fill-color);\n",
              "      border-top-color: var(--fill-color);\n",
              "      border-right-color: var(--fill-color);\n",
              "    }\n",
              "    40% {\n",
              "      border-color: transparent;\n",
              "      border-right-color: var(--fill-color);\n",
              "      border-top-color: var(--fill-color);\n",
              "    }\n",
              "    60% {\n",
              "      border-color: transparent;\n",
              "      border-right-color: var(--fill-color);\n",
              "    }\n",
              "    80% {\n",
              "      border-color: transparent;\n",
              "      border-right-color: var(--fill-color);\n",
              "      border-bottom-color: var(--fill-color);\n",
              "    }\n",
              "    90% {\n",
              "      border-color: transparent;\n",
              "      border-bottom-color: var(--fill-color);\n",
              "    }\n",
              "  }\n",
              "</style>\n",
              "\n",
              "  <script>\n",
              "    async function quickchart(key) {\n",
              "      const quickchartButtonEl =\n",
              "        document.querySelector('#' + key + ' button');\n",
              "      quickchartButtonEl.disabled = true;  // To prevent multiple clicks.\n",
              "      quickchartButtonEl.classList.add('colab-df-spinner');\n",
              "      try {\n",
              "        const charts = await google.colab.kernel.invokeFunction(\n",
              "            'suggestCharts', [key], {});\n",
              "      } catch (error) {\n",
              "        console.error('Error during call to suggestCharts:', error);\n",
              "      }\n",
              "      quickchartButtonEl.classList.remove('colab-df-spinner');\n",
              "      quickchartButtonEl.classList.add('colab-df-quickchart-complete');\n",
              "    }\n",
              "    (() => {\n",
              "      let quickchartButtonEl =\n",
              "        document.querySelector('#df-cb2100fc-7195-4b4b-9a92-9a519ce442a9 button');\n",
              "      quickchartButtonEl.style.display =\n",
              "        google.colab.kernel.accessAllowed ? 'block' : 'none';\n",
              "    })();\n",
              "  </script>\n",
              "</div>\n",
              "    </div>\n",
              "  </div>\n"
            ]
          },
          "metadata": {},
          "execution_count": 39
        }
      ]
    },
    {
      "cell_type": "code",
      "source": [
        "fig = px.line(uva_usd_df, x=\"fecha\", y=[\"UVA\",\"venta\"], title='Dólar vs Inflación')\n",
        "fig.show()"
      ],
      "metadata": {
        "colab": {
          "base_uri": "https://localhost:8080/",
          "height": 542
        },
        "id": "92urKL5OM4rP",
        "outputId": "c8ec5fc8-cf0d-46a9-f11e-75c588c4669d"
      },
      "execution_count": null,
      "outputs": [
        {
          "output_type": "display_data",
          "data": {
            "application/vnd.plotly.v1+json": {
              "data": [
                {
                  "hovertemplate": "variable=UVA<br>fecha=%{x}<br>value=%{y}<extra></extra>",
                  "legendgroup": "UVA",
                  "line": {
                    "color": "#636efa",
                    "dash": "solid"
                  },
                  "marker": {
                    "symbol": "circle"
                  },
                  "mode": "lines",
                  "name": "UVA",
                  "orientation": "v",
                  "showlegend": true,
                  "x": [
                    "2022-01-03T00:00:00",
                    "2022-01-04T00:00:00",
                    "2022-01-05T00:00:00",
                    "2022-01-06T00:00:00",
                    "2022-01-07T00:00:00",
                    "2022-01-10T00:00:00",
                    "2022-01-11T00:00:00",
                    "2022-01-12T00:00:00",
                    "2022-01-13T00:00:00",
                    "2022-01-14T00:00:00",
                    "2022-01-17T00:00:00",
                    "2022-01-18T00:00:00",
                    "2022-01-19T00:00:00",
                    "2022-01-20T00:00:00",
                    "2022-01-21T00:00:00",
                    "2022-01-24T00:00:00",
                    "2022-01-25T00:00:00",
                    "2022-01-26T00:00:00",
                    "2022-01-27T00:00:00",
                    "2022-01-28T00:00:00",
                    "2022-01-31T00:00:00",
                    "2022-02-01T00:00:00",
                    "2022-02-02T00:00:00",
                    "2022-02-03T00:00:00",
                    "2022-02-04T00:00:00",
                    "2022-02-07T00:00:00",
                    "2022-02-08T00:00:00",
                    "2022-02-09T00:00:00",
                    "2022-02-10T00:00:00",
                    "2022-02-11T00:00:00",
                    "2022-02-14T00:00:00",
                    "2022-02-15T00:00:00",
                    "2022-02-16T00:00:00",
                    "2022-02-17T00:00:00",
                    "2022-02-18T00:00:00",
                    "2022-02-21T00:00:00",
                    "2022-02-22T00:00:00",
                    "2022-02-23T00:00:00",
                    "2022-02-24T00:00:00",
                    "2022-02-25T00:00:00",
                    "2022-03-02T00:00:00",
                    "2022-03-03T00:00:00",
                    "2022-03-04T00:00:00",
                    "2022-03-07T00:00:00",
                    "2022-03-07T00:00:00",
                    "2022-03-07T00:00:00",
                    "2022-03-07T00:00:00",
                    "2022-03-08T00:00:00",
                    "2022-03-09T00:00:00",
                    "2022-03-10T00:00:00",
                    "2022-03-11T00:00:00",
                    "2022-03-14T00:00:00",
                    "2022-03-15T00:00:00",
                    "2022-03-16T00:00:00",
                    "2022-03-17T00:00:00",
                    "2022-03-18T00:00:00",
                    "2022-03-21T00:00:00",
                    "2022-03-22T00:00:00",
                    "2022-03-23T00:00:00",
                    "2022-03-25T00:00:00",
                    "2022-03-28T00:00:00",
                    "2022-03-29T00:00:00",
                    "2022-03-30T00:00:00",
                    "2022-03-31T00:00:00",
                    "2022-04-01T00:00:00",
                    "2022-04-04T00:00:00",
                    "2022-04-05T00:00:00",
                    "2022-04-06T00:00:00",
                    "2022-04-07T00:00:00",
                    "2022-04-08T00:00:00",
                    "2022-04-11T00:00:00",
                    "2022-04-12T00:00:00",
                    "2022-04-13T00:00:00",
                    "2022-04-18T00:00:00",
                    "2022-04-19T00:00:00",
                    "2022-04-20T00:00:00",
                    "2022-04-21T00:00:00",
                    "2022-04-22T00:00:00",
                    "2022-04-25T00:00:00",
                    "2022-04-26T00:00:00",
                    "2022-04-27T00:00:00",
                    "2022-04-28T00:00:00",
                    "2022-04-29T00:00:00",
                    "2022-05-02T00:00:00",
                    "2022-05-03T00:00:00",
                    "2022-05-04T00:00:00",
                    "2022-05-05T00:00:00",
                    "2022-05-06T00:00:00",
                    "2022-05-09T00:00:00",
                    "2022-05-10T00:00:00",
                    "2022-05-11T00:00:00",
                    "2022-05-12T00:00:00",
                    "2022-05-13T00:00:00",
                    "2022-05-16T00:00:00",
                    "2022-05-17T00:00:00",
                    "2022-05-19T00:00:00",
                    "2022-05-20T00:00:00",
                    "2022-05-23T00:00:00",
                    "2022-05-24T00:00:00",
                    "2022-05-26T00:00:00",
                    "2022-05-27T00:00:00",
                    "2022-05-30T00:00:00",
                    "2022-05-31T00:00:00",
                    "2022-06-01T00:00:00",
                    "2022-06-02T00:00:00",
                    "2022-06-03T00:00:00",
                    "2022-06-06T00:00:00",
                    "2022-06-07T00:00:00",
                    "2022-06-08T00:00:00",
                    "2022-06-09T00:00:00",
                    "2022-06-10T00:00:00",
                    "2022-06-13T00:00:00",
                    "2022-06-14T00:00:00",
                    "2022-06-15T00:00:00",
                    "2022-06-16T00:00:00",
                    "2022-06-21T00:00:00",
                    "2022-06-22T00:00:00",
                    "2022-06-23T00:00:00",
                    "2022-06-24T00:00:00",
                    "2022-06-27T00:00:00",
                    "2022-06-28T00:00:00",
                    "2022-06-29T00:00:00",
                    "2022-06-30T00:00:00",
                    "2022-07-01T00:00:00",
                    "2022-07-04T00:00:00",
                    "2022-07-05T00:00:00",
                    "2022-07-06T00:00:00",
                    "2022-07-07T00:00:00",
                    "2022-07-08T00:00:00",
                    "2022-07-11T00:00:00",
                    "2022-07-12T00:00:00",
                    "2022-07-13T00:00:00",
                    "2022-07-14T00:00:00",
                    "2022-07-15T00:00:00",
                    "2022-07-18T00:00:00",
                    "2022-07-19T00:00:00",
                    "2022-07-20T00:00:00",
                    "2022-07-21T00:00:00",
                    "2022-07-22T00:00:00",
                    "2022-07-25T00:00:00",
                    "2022-07-26T00:00:00",
                    "2022-07-27T00:00:00",
                    "2022-07-28T00:00:00",
                    "2022-07-29T00:00:00",
                    "2022-08-01T00:00:00",
                    "2022-08-02T00:00:00",
                    "2022-08-03T00:00:00",
                    "2022-08-04T00:00:00",
                    "2022-08-05T00:00:00",
                    "2022-08-08T00:00:00",
                    "2022-08-09T00:00:00",
                    "2022-08-10T00:00:00",
                    "2022-08-11T00:00:00",
                    "2022-08-12T00:00:00",
                    "2022-08-16T00:00:00",
                    "2022-08-17T00:00:00",
                    "2022-08-18T00:00:00",
                    "2022-08-19T00:00:00",
                    "2022-08-22T00:00:00",
                    "2022-08-23T00:00:00",
                    "2022-08-24T00:00:00",
                    "2022-08-25T00:00:00",
                    "2022-08-26T00:00:00",
                    "2022-08-29T00:00:00",
                    "2022-08-30T00:00:00",
                    "2022-08-31T00:00:00",
                    "2022-09-01T00:00:00",
                    "2022-09-02T00:00:00",
                    "2022-09-05T00:00:00",
                    "2022-09-06T00:00:00",
                    "2022-09-07T00:00:00",
                    "2022-09-08T00:00:00",
                    "2022-09-09T00:00:00",
                    "2022-09-12T00:00:00",
                    "2022-09-13T00:00:00",
                    "2022-09-14T00:00:00",
                    "2022-09-15T00:00:00",
                    "2022-09-16T00:00:00",
                    "2022-09-19T00:00:00",
                    "2022-09-20T00:00:00",
                    "2022-09-21T00:00:00",
                    "2022-09-22T00:00:00",
                    "2022-09-22T00:00:00",
                    "2022-09-23T00:00:00",
                    "2022-09-26T00:00:00",
                    "2022-09-27T00:00:00",
                    "2022-09-28T00:00:00",
                    "2022-09-29T00:00:00",
                    "2022-09-30T00:00:00",
                    "2022-10-03T00:00:00",
                    "2022-10-04T00:00:00",
                    "2022-10-05T00:00:00",
                    "2022-10-06T00:00:00",
                    "2022-10-11T00:00:00",
                    "2022-10-12T00:00:00",
                    "2022-10-13T00:00:00",
                    "2022-10-14T00:00:00",
                    "2022-10-17T00:00:00",
                    "2022-10-18T00:00:00",
                    "2022-10-19T00:00:00",
                    "2022-10-20T00:00:00",
                    "2022-10-21T00:00:00",
                    "2022-10-24T00:00:00",
                    "2022-10-25T00:00:00",
                    "2022-10-26T00:00:00",
                    "2022-10-27T00:00:00",
                    "2022-10-28T00:00:00",
                    "2022-10-31T00:00:00",
                    "2022-11-01T00:00:00",
                    "2022-11-02T00:00:00",
                    "2022-11-03T00:00:00",
                    "2022-11-04T00:00:00",
                    "2022-11-07T00:00:00",
                    "2022-11-08T00:00:00",
                    "2022-11-09T00:00:00",
                    "2022-11-10T00:00:00",
                    "2022-11-11T00:00:00",
                    "2022-11-14T00:00:00",
                    "2022-11-15T00:00:00",
                    "2022-11-16T00:00:00",
                    "2022-11-17T00:00:00",
                    "2022-11-18T00:00:00",
                    "2022-11-18T00:00:00",
                    "2022-11-18T00:00:00",
                    "2022-11-22T00:00:00",
                    "2022-11-23T00:00:00",
                    "2022-11-24T00:00:00",
                    "2022-11-25T00:00:00",
                    "2022-11-28T00:00:00",
                    "2022-11-29T00:00:00",
                    "2022-11-30T00:00:00",
                    "2022-12-01T00:00:00",
                    "2022-12-02T00:00:00",
                    "2022-12-05T00:00:00",
                    "2022-12-06T00:00:00",
                    "2022-12-07T00:00:00",
                    "2022-12-12T00:00:00",
                    "2022-12-13T00:00:00",
                    "2022-12-14T00:00:00",
                    "2022-12-15T00:00:00",
                    "2022-12-16T00:00:00",
                    "2022-12-19T00:00:00",
                    "2022-12-20T00:00:00",
                    "2022-12-21T00:00:00",
                    "2022-12-22T00:00:00",
                    "2022-12-23T00:00:00",
                    "2022-12-26T00:00:00",
                    "2022-12-27T00:00:00",
                    "2022-12-28T00:00:00",
                    "2022-12-29T00:00:00",
                    "2022-12-30T00:00:00"
                  ],
                  "xaxis": "x",
                  "y": [
                    97.58,
                    97.82,
                    97.89,
                    97.97,
                    98.05,
                    98.13,
                    98.36,
                    98.44,
                    98.52,
                    98.6,
                    98.68,
                    98.99,
                    99.11,
                    99.23,
                    99.35,
                    99.47,
                    99.83,
                    99.95,
                    100.07,
                    100.19,
                    100.31,
                    100.68,
                    100.8,
                    100.92,
                    101.04,
                    101.16,
                    101.53,
                    101.65,
                    101.77,
                    101.89,
                    102.02,
                    102.39,
                    102.51,
                    102.65,
                    102.79,
                    102.93,
                    103.35,
                    103.49,
                    103.64,
                    103.78,
                    103.92,
                    104.63,
                    104.77,
                    104.92,
                    104.92,
                    104.92,
                    104.92,
                    105.35,
                    105.49,
                    105.64,
                    105.78,
                    105.93,
                    106.36,
                    106.51,
                    106.66,
                    106.82,
                    106.98,
                    107.46,
                    107.62,
                    107.78,
                    108.1,
                    108.58,
                    108.74,
                    108.9,
                    109.06,
                    109.22,
                    109.71,
                    109.87,
                    110.04,
                    110.2,
                    110.36,
                    110.85,
                    111.02,
                    111.18,
                    112.24,
                    112.48,
                    112.72,
                    112.97,
                    113.21,
                    113.95,
                    114.2,
                    114.44,
                    114.69,
                    114.94,
                    115.69,
                    115.94,
                    116.19,
                    116.44,
                    116.69,
                    117.45,
                    117.7,
                    117.96,
                    118.21,
                    118.47,
                    119.21,
                    119.43,
                    119.88,
                    120.11,
                    120.79,
                    121.01,
                    121.47,
                    121.7,
                    122.39,
                    122.62,
                    122.85,
                    123.08,
                    123.31,
                    124.01,
                    124.24,
                    124.47,
                    124.71,
                    124.94,
                    125.65,
                    125.89,
                    126.12,
                    126.33,
                    127.38,
                    127.6,
                    127.81,
                    128.02,
                    128.66,
                    128.87,
                    129.08,
                    129.3,
                    129.51,
                    130.16,
                    130.38,
                    130.59,
                    130.81,
                    131.03,
                    131.68,
                    131.9,
                    132.12,
                    132.34,
                    132.56,
                    133.22,
                    133.44,
                    133.66,
                    133.89,
                    134.11,
                    134.78,
                    135.01,
                    135.23,
                    135.46,
                    135.68,
                    136.36,
                    136.59,
                    136.82,
                    137.05,
                    137.27,
                    137.96,
                    138.19,
                    138.42,
                    138.65,
                    138.88,
                    139.9,
                    140.23,
                    140.55,
                    140.87,
                    141.85,
                    142.18,
                    142.5,
                    142.83,
                    143.16,
                    144.15,
                    144.49,
                    144.82,
                    145.15,
                    145.49,
                    146.5,
                    146.83,
                    147.17,
                    147.51,
                    147.85,
                    148.88,
                    149.22,
                    149.56,
                    149.91,
                    150.25,
                    151.27,
                    151.61,
                    151.95,
                    151.95,
                    152.3,
                    152.64,
                    153.68,
                    154.02,
                    154.37,
                    154.72,
                    155.07,
                    156.12,
                    156.47,
                    156.83,
                    157.18,
                    158.96,
                    159.32,
                    159.68,
                    160.04,
                    161.03,
                    161.34,
                    161.65,
                    161.97,
                    162.28,
                    163.23,
                    163.55,
                    163.86,
                    164.18,
                    164.5,
                    165.46,
                    165.78,
                    166.1,
                    166.43,
                    166.75,
                    167.72,
                    168.05,
                    168.38,
                    168.7,
                    169.03,
                    170.02,
                    170.35,
                    170.7,
                    171.04,
                    171.04,
                    171.04,
                    171.39,
                    172.79,
                    173.15,
                    173.5,
                    173.85,
                    174.92,
                    175.28,
                    175.63,
                    175.99,
                    176.35,
                    177.43,
                    177.79,
                    178.15,
                    179.98,
                    180.34,
                    180.71,
                    181.08,
                    181.36,
                    182.2,
                    182.48,
                    182.76,
                    183.05,
                    183.33,
                    184.18,
                    184.46,
                    184.75,
                    185.03
                  ],
                  "yaxis": "y",
                  "type": "scatter"
                },
                {
                  "hovertemplate": "variable=venta<br>fecha=%{x}<br>value=%{y}<extra></extra>",
                  "legendgroup": "venta",
                  "line": {
                    "color": "#EF553B",
                    "dash": "solid"
                  },
                  "marker": {
                    "symbol": "circle"
                  },
                  "mode": "lines",
                  "name": "venta",
                  "orientation": "v",
                  "showlegend": true,
                  "x": [
                    "2022-01-03T00:00:00",
                    "2022-01-04T00:00:00",
                    "2022-01-05T00:00:00",
                    "2022-01-06T00:00:00",
                    "2022-01-07T00:00:00",
                    "2022-01-10T00:00:00",
                    "2022-01-11T00:00:00",
                    "2022-01-12T00:00:00",
                    "2022-01-13T00:00:00",
                    "2022-01-14T00:00:00",
                    "2022-01-17T00:00:00",
                    "2022-01-18T00:00:00",
                    "2022-01-19T00:00:00",
                    "2022-01-20T00:00:00",
                    "2022-01-21T00:00:00",
                    "2022-01-24T00:00:00",
                    "2022-01-25T00:00:00",
                    "2022-01-26T00:00:00",
                    "2022-01-27T00:00:00",
                    "2022-01-28T00:00:00",
                    "2022-01-31T00:00:00",
                    "2022-02-01T00:00:00",
                    "2022-02-02T00:00:00",
                    "2022-02-03T00:00:00",
                    "2022-02-04T00:00:00",
                    "2022-02-07T00:00:00",
                    "2022-02-08T00:00:00",
                    "2022-02-09T00:00:00",
                    "2022-02-10T00:00:00",
                    "2022-02-11T00:00:00",
                    "2022-02-14T00:00:00",
                    "2022-02-15T00:00:00",
                    "2022-02-16T00:00:00",
                    "2022-02-17T00:00:00",
                    "2022-02-18T00:00:00",
                    "2022-02-21T00:00:00",
                    "2022-02-22T00:00:00",
                    "2022-02-23T00:00:00",
                    "2022-02-24T00:00:00",
                    "2022-02-25T00:00:00",
                    "2022-03-02T00:00:00",
                    "2022-03-03T00:00:00",
                    "2022-03-04T00:00:00",
                    "2022-03-07T00:00:00",
                    "2022-03-07T00:00:00",
                    "2022-03-07T00:00:00",
                    "2022-03-07T00:00:00",
                    "2022-03-08T00:00:00",
                    "2022-03-09T00:00:00",
                    "2022-03-10T00:00:00",
                    "2022-03-11T00:00:00",
                    "2022-03-14T00:00:00",
                    "2022-03-15T00:00:00",
                    "2022-03-16T00:00:00",
                    "2022-03-17T00:00:00",
                    "2022-03-18T00:00:00",
                    "2022-03-21T00:00:00",
                    "2022-03-22T00:00:00",
                    "2022-03-23T00:00:00",
                    "2022-03-25T00:00:00",
                    "2022-03-28T00:00:00",
                    "2022-03-29T00:00:00",
                    "2022-03-30T00:00:00",
                    "2022-03-31T00:00:00",
                    "2022-04-01T00:00:00",
                    "2022-04-04T00:00:00",
                    "2022-04-05T00:00:00",
                    "2022-04-06T00:00:00",
                    "2022-04-07T00:00:00",
                    "2022-04-08T00:00:00",
                    "2022-04-11T00:00:00",
                    "2022-04-12T00:00:00",
                    "2022-04-13T00:00:00",
                    "2022-04-18T00:00:00",
                    "2022-04-19T00:00:00",
                    "2022-04-20T00:00:00",
                    "2022-04-21T00:00:00",
                    "2022-04-22T00:00:00",
                    "2022-04-25T00:00:00",
                    "2022-04-26T00:00:00",
                    "2022-04-27T00:00:00",
                    "2022-04-28T00:00:00",
                    "2022-04-29T00:00:00",
                    "2022-05-02T00:00:00",
                    "2022-05-03T00:00:00",
                    "2022-05-04T00:00:00",
                    "2022-05-05T00:00:00",
                    "2022-05-06T00:00:00",
                    "2022-05-09T00:00:00",
                    "2022-05-10T00:00:00",
                    "2022-05-11T00:00:00",
                    "2022-05-12T00:00:00",
                    "2022-05-13T00:00:00",
                    "2022-05-16T00:00:00",
                    "2022-05-17T00:00:00",
                    "2022-05-19T00:00:00",
                    "2022-05-20T00:00:00",
                    "2022-05-23T00:00:00",
                    "2022-05-24T00:00:00",
                    "2022-05-26T00:00:00",
                    "2022-05-27T00:00:00",
                    "2022-05-30T00:00:00",
                    "2022-05-31T00:00:00",
                    "2022-06-01T00:00:00",
                    "2022-06-02T00:00:00",
                    "2022-06-03T00:00:00",
                    "2022-06-06T00:00:00",
                    "2022-06-07T00:00:00",
                    "2022-06-08T00:00:00",
                    "2022-06-09T00:00:00",
                    "2022-06-10T00:00:00",
                    "2022-06-13T00:00:00",
                    "2022-06-14T00:00:00",
                    "2022-06-15T00:00:00",
                    "2022-06-16T00:00:00",
                    "2022-06-21T00:00:00",
                    "2022-06-22T00:00:00",
                    "2022-06-23T00:00:00",
                    "2022-06-24T00:00:00",
                    "2022-06-27T00:00:00",
                    "2022-06-28T00:00:00",
                    "2022-06-29T00:00:00",
                    "2022-06-30T00:00:00",
                    "2022-07-01T00:00:00",
                    "2022-07-04T00:00:00",
                    "2022-07-05T00:00:00",
                    "2022-07-06T00:00:00",
                    "2022-07-07T00:00:00",
                    "2022-07-08T00:00:00",
                    "2022-07-11T00:00:00",
                    "2022-07-12T00:00:00",
                    "2022-07-13T00:00:00",
                    "2022-07-14T00:00:00",
                    "2022-07-15T00:00:00",
                    "2022-07-18T00:00:00",
                    "2022-07-19T00:00:00",
                    "2022-07-20T00:00:00",
                    "2022-07-21T00:00:00",
                    "2022-07-22T00:00:00",
                    "2022-07-25T00:00:00",
                    "2022-07-26T00:00:00",
                    "2022-07-27T00:00:00",
                    "2022-07-28T00:00:00",
                    "2022-07-29T00:00:00",
                    "2022-08-01T00:00:00",
                    "2022-08-02T00:00:00",
                    "2022-08-03T00:00:00",
                    "2022-08-04T00:00:00",
                    "2022-08-05T00:00:00",
                    "2022-08-08T00:00:00",
                    "2022-08-09T00:00:00",
                    "2022-08-10T00:00:00",
                    "2022-08-11T00:00:00",
                    "2022-08-12T00:00:00",
                    "2022-08-16T00:00:00",
                    "2022-08-17T00:00:00",
                    "2022-08-18T00:00:00",
                    "2022-08-19T00:00:00",
                    "2022-08-22T00:00:00",
                    "2022-08-23T00:00:00",
                    "2022-08-24T00:00:00",
                    "2022-08-25T00:00:00",
                    "2022-08-26T00:00:00",
                    "2022-08-29T00:00:00",
                    "2022-08-30T00:00:00",
                    "2022-08-31T00:00:00",
                    "2022-09-01T00:00:00",
                    "2022-09-02T00:00:00",
                    "2022-09-05T00:00:00",
                    "2022-09-06T00:00:00",
                    "2022-09-07T00:00:00",
                    "2022-09-08T00:00:00",
                    "2022-09-09T00:00:00",
                    "2022-09-12T00:00:00",
                    "2022-09-13T00:00:00",
                    "2022-09-14T00:00:00",
                    "2022-09-15T00:00:00",
                    "2022-09-16T00:00:00",
                    "2022-09-19T00:00:00",
                    "2022-09-20T00:00:00",
                    "2022-09-21T00:00:00",
                    "2022-09-22T00:00:00",
                    "2022-09-22T00:00:00",
                    "2022-09-23T00:00:00",
                    "2022-09-26T00:00:00",
                    "2022-09-27T00:00:00",
                    "2022-09-28T00:00:00",
                    "2022-09-29T00:00:00",
                    "2022-09-30T00:00:00",
                    "2022-10-03T00:00:00",
                    "2022-10-04T00:00:00",
                    "2022-10-05T00:00:00",
                    "2022-10-06T00:00:00",
                    "2022-10-11T00:00:00",
                    "2022-10-12T00:00:00",
                    "2022-10-13T00:00:00",
                    "2022-10-14T00:00:00",
                    "2022-10-17T00:00:00",
                    "2022-10-18T00:00:00",
                    "2022-10-19T00:00:00",
                    "2022-10-20T00:00:00",
                    "2022-10-21T00:00:00",
                    "2022-10-24T00:00:00",
                    "2022-10-25T00:00:00",
                    "2022-10-26T00:00:00",
                    "2022-10-27T00:00:00",
                    "2022-10-28T00:00:00",
                    "2022-10-31T00:00:00",
                    "2022-11-01T00:00:00",
                    "2022-11-02T00:00:00",
                    "2022-11-03T00:00:00",
                    "2022-11-04T00:00:00",
                    "2022-11-07T00:00:00",
                    "2022-11-08T00:00:00",
                    "2022-11-09T00:00:00",
                    "2022-11-10T00:00:00",
                    "2022-11-11T00:00:00",
                    "2022-11-14T00:00:00",
                    "2022-11-15T00:00:00",
                    "2022-11-16T00:00:00",
                    "2022-11-17T00:00:00",
                    "2022-11-18T00:00:00",
                    "2022-11-18T00:00:00",
                    "2022-11-18T00:00:00",
                    "2022-11-22T00:00:00",
                    "2022-11-23T00:00:00",
                    "2022-11-24T00:00:00",
                    "2022-11-25T00:00:00",
                    "2022-11-28T00:00:00",
                    "2022-11-29T00:00:00",
                    "2022-11-30T00:00:00",
                    "2022-12-01T00:00:00",
                    "2022-12-02T00:00:00",
                    "2022-12-05T00:00:00",
                    "2022-12-06T00:00:00",
                    "2022-12-07T00:00:00",
                    "2022-12-12T00:00:00",
                    "2022-12-13T00:00:00",
                    "2022-12-14T00:00:00",
                    "2022-12-15T00:00:00",
                    "2022-12-16T00:00:00",
                    "2022-12-19T00:00:00",
                    "2022-12-20T00:00:00",
                    "2022-12-21T00:00:00",
                    "2022-12-22T00:00:00",
                    "2022-12-23T00:00:00",
                    "2022-12-26T00:00:00",
                    "2022-12-27T00:00:00",
                    "2022-12-28T00:00:00",
                    "2022-12-29T00:00:00",
                    "2022-12-30T00:00:00"
                  ],
                  "xaxis": "x",
                  "y": [
                    202,
                    202.5,
                    203.5,
                    204.5,
                    204,
                    202,
                    205,
                    204.5,
                    205.5,
                    205.5,
                    205,
                    207,
                    209,
                    210,
                    215,
                    215,
                    215.5,
                    217,
                    218.5,
                    208.5,
                    209,
                    210,
                    212.5,
                    212,
                    210,
                    210,
                    211,
                    213,
                    211.5,
                    210.5,
                    211,
                    211,
                    211,
                    210,
                    207,
                    207.5,
                    206,
                    206,
                    206.5,
                    207,
                    202,
                    200,
                    197,
                    197,
                    197,
                    197,
                    197,
                    198,
                    200.5,
                    199,
                    198,
                    196,
                    196,
                    198,
                    198,
                    198.5,
                    198,
                    197,
                    197,
                    198,
                    196,
                    196,
                    197,
                    196,
                    196,
                    195,
                    192,
                    192,
                    192,
                    192.5,
                    191,
                    191,
                    191,
                    191,
                    194,
                    195.5,
                    198,
                    199,
                    201.5,
                    208.5,
                    202.5,
                    200,
                    196.5,
                    197,
                    199.5,
                    197,
                    197.5,
                    197,
                    197.5,
                    198,
                    201,
                    199.5,
                    199.5,
                    201,
                    204,
                    202,
                    201,
                    202.5,
                    204,
                    203,
                    202.5,
                    202.5,
                    201,
                    202,
                    202,
                    201,
                    201,
                    202,
                    204,
                    204,
                    206,
                    212,
                    220,
                    213,
                    212,
                    216,
                    220,
                    220,
                    222,
                    228,
                    235,
                    235,
                    234,
                    235,
                    250,
                    242,
                    245,
                    247,
                    263,
                    258,
                    262,
                    273,
                    279,
                    283,
                    281,
                    291,
                    307,
                    327,
                    328,
                    312,
                    313,
                    316,
                    304,
                    286,
                    272,
                    281,
                    288,
                    281,
                    283,
                    282,
                    283,
                    285,
                    287,
                    285,
                    286,
                    287,
                    288,
                    290,
                    287,
                    292,
                    290,
                    288,
                    288,
                    287,
                    286,
                    285,
                    280,
                    280,
                    266,
                    272,
                    280,
                    276,
                    270,
                    268,
                    269,
                    273,
                    272,
                    273,
                    273,
                    283,
                    283,
                    283,
                    281,
                    283,
                    282,
                    286,
                    286,
                    284,
                    284,
                    280,
                    278,
                    278,
                    273,
                    276,
                    285,
                    287,
                    286,
                    283,
                    286,
                    288,
                    287,
                    287,
                    287,
                    289,
                    288,
                    287,
                    288,
                    286,
                    286,
                    287,
                    283,
                    285,
                    286,
                    287,
                    288,
                    288,
                    289,
                    290,
                    298,
                    304,
                    303,
                    303,
                    303,
                    302,
                    304,
                    308,
                    315,
                    316,
                    314,
                    311,
                    310,
                    309,
                    308,
                    308,
                    311,
                    312,
                    308,
                    311,
                    316,
                    316,
                    317,
                    321,
                    322,
                    321,
                    326,
                    336,
                    342,
                    352,
                    353,
                    346,
                    342
                  ],
                  "yaxis": "y",
                  "type": "scatter"
                }
              ],
              "layout": {
                "template": {
                  "data": {
                    "histogram2dcontour": [
                      {
                        "type": "histogram2dcontour",
                        "colorbar": {
                          "outlinewidth": 0,
                          "ticks": ""
                        },
                        "colorscale": [
                          [
                            0,
                            "#0d0887"
                          ],
                          [
                            0.1111111111111111,
                            "#46039f"
                          ],
                          [
                            0.2222222222222222,
                            "#7201a8"
                          ],
                          [
                            0.3333333333333333,
                            "#9c179e"
                          ],
                          [
                            0.4444444444444444,
                            "#bd3786"
                          ],
                          [
                            0.5555555555555556,
                            "#d8576b"
                          ],
                          [
                            0.6666666666666666,
                            "#ed7953"
                          ],
                          [
                            0.7777777777777778,
                            "#fb9f3a"
                          ],
                          [
                            0.8888888888888888,
                            "#fdca26"
                          ],
                          [
                            1,
                            "#f0f921"
                          ]
                        ]
                      }
                    ],
                    "choropleth": [
                      {
                        "type": "choropleth",
                        "colorbar": {
                          "outlinewidth": 0,
                          "ticks": ""
                        }
                      }
                    ],
                    "histogram2d": [
                      {
                        "type": "histogram2d",
                        "colorbar": {
                          "outlinewidth": 0,
                          "ticks": ""
                        },
                        "colorscale": [
                          [
                            0,
                            "#0d0887"
                          ],
                          [
                            0.1111111111111111,
                            "#46039f"
                          ],
                          [
                            0.2222222222222222,
                            "#7201a8"
                          ],
                          [
                            0.3333333333333333,
                            "#9c179e"
                          ],
                          [
                            0.4444444444444444,
                            "#bd3786"
                          ],
                          [
                            0.5555555555555556,
                            "#d8576b"
                          ],
                          [
                            0.6666666666666666,
                            "#ed7953"
                          ],
                          [
                            0.7777777777777778,
                            "#fb9f3a"
                          ],
                          [
                            0.8888888888888888,
                            "#fdca26"
                          ],
                          [
                            1,
                            "#f0f921"
                          ]
                        ]
                      }
                    ],
                    "heatmap": [
                      {
                        "type": "heatmap",
                        "colorbar": {
                          "outlinewidth": 0,
                          "ticks": ""
                        },
                        "colorscale": [
                          [
                            0,
                            "#0d0887"
                          ],
                          [
                            0.1111111111111111,
                            "#46039f"
                          ],
                          [
                            0.2222222222222222,
                            "#7201a8"
                          ],
                          [
                            0.3333333333333333,
                            "#9c179e"
                          ],
                          [
                            0.4444444444444444,
                            "#bd3786"
                          ],
                          [
                            0.5555555555555556,
                            "#d8576b"
                          ],
                          [
                            0.6666666666666666,
                            "#ed7953"
                          ],
                          [
                            0.7777777777777778,
                            "#fb9f3a"
                          ],
                          [
                            0.8888888888888888,
                            "#fdca26"
                          ],
                          [
                            1,
                            "#f0f921"
                          ]
                        ]
                      }
                    ],
                    "heatmapgl": [
                      {
                        "type": "heatmapgl",
                        "colorbar": {
                          "outlinewidth": 0,
                          "ticks": ""
                        },
                        "colorscale": [
                          [
                            0,
                            "#0d0887"
                          ],
                          [
                            0.1111111111111111,
                            "#46039f"
                          ],
                          [
                            0.2222222222222222,
                            "#7201a8"
                          ],
                          [
                            0.3333333333333333,
                            "#9c179e"
                          ],
                          [
                            0.4444444444444444,
                            "#bd3786"
                          ],
                          [
                            0.5555555555555556,
                            "#d8576b"
                          ],
                          [
                            0.6666666666666666,
                            "#ed7953"
                          ],
                          [
                            0.7777777777777778,
                            "#fb9f3a"
                          ],
                          [
                            0.8888888888888888,
                            "#fdca26"
                          ],
                          [
                            1,
                            "#f0f921"
                          ]
                        ]
                      }
                    ],
                    "contourcarpet": [
                      {
                        "type": "contourcarpet",
                        "colorbar": {
                          "outlinewidth": 0,
                          "ticks": ""
                        }
                      }
                    ],
                    "contour": [
                      {
                        "type": "contour",
                        "colorbar": {
                          "outlinewidth": 0,
                          "ticks": ""
                        },
                        "colorscale": [
                          [
                            0,
                            "#0d0887"
                          ],
                          [
                            0.1111111111111111,
                            "#46039f"
                          ],
                          [
                            0.2222222222222222,
                            "#7201a8"
                          ],
                          [
                            0.3333333333333333,
                            "#9c179e"
                          ],
                          [
                            0.4444444444444444,
                            "#bd3786"
                          ],
                          [
                            0.5555555555555556,
                            "#d8576b"
                          ],
                          [
                            0.6666666666666666,
                            "#ed7953"
                          ],
                          [
                            0.7777777777777778,
                            "#fb9f3a"
                          ],
                          [
                            0.8888888888888888,
                            "#fdca26"
                          ],
                          [
                            1,
                            "#f0f921"
                          ]
                        ]
                      }
                    ],
                    "surface": [
                      {
                        "type": "surface",
                        "colorbar": {
                          "outlinewidth": 0,
                          "ticks": ""
                        },
                        "colorscale": [
                          [
                            0,
                            "#0d0887"
                          ],
                          [
                            0.1111111111111111,
                            "#46039f"
                          ],
                          [
                            0.2222222222222222,
                            "#7201a8"
                          ],
                          [
                            0.3333333333333333,
                            "#9c179e"
                          ],
                          [
                            0.4444444444444444,
                            "#bd3786"
                          ],
                          [
                            0.5555555555555556,
                            "#d8576b"
                          ],
                          [
                            0.6666666666666666,
                            "#ed7953"
                          ],
                          [
                            0.7777777777777778,
                            "#fb9f3a"
                          ],
                          [
                            0.8888888888888888,
                            "#fdca26"
                          ],
                          [
                            1,
                            "#f0f921"
                          ]
                        ]
                      }
                    ],
                    "mesh3d": [
                      {
                        "type": "mesh3d",
                        "colorbar": {
                          "outlinewidth": 0,
                          "ticks": ""
                        }
                      }
                    ],
                    "scatter": [
                      {
                        "fillpattern": {
                          "fillmode": "overlay",
                          "size": 10,
                          "solidity": 0.2
                        },
                        "type": "scatter"
                      }
                    ],
                    "parcoords": [
                      {
                        "type": "parcoords",
                        "line": {
                          "colorbar": {
                            "outlinewidth": 0,
                            "ticks": ""
                          }
                        }
                      }
                    ],
                    "scatterpolargl": [
                      {
                        "type": "scatterpolargl",
                        "marker": {
                          "colorbar": {
                            "outlinewidth": 0,
                            "ticks": ""
                          }
                        }
                      }
                    ],
                    "bar": [
                      {
                        "error_x": {
                          "color": "#2a3f5f"
                        },
                        "error_y": {
                          "color": "#2a3f5f"
                        },
                        "marker": {
                          "line": {
                            "color": "#E5ECF6",
                            "width": 0.5
                          },
                          "pattern": {
                            "fillmode": "overlay",
                            "size": 10,
                            "solidity": 0.2
                          }
                        },
                        "type": "bar"
                      }
                    ],
                    "scattergeo": [
                      {
                        "type": "scattergeo",
                        "marker": {
                          "colorbar": {
                            "outlinewidth": 0,
                            "ticks": ""
                          }
                        }
                      }
                    ],
                    "scatterpolar": [
                      {
                        "type": "scatterpolar",
                        "marker": {
                          "colorbar": {
                            "outlinewidth": 0,
                            "ticks": ""
                          }
                        }
                      }
                    ],
                    "histogram": [
                      {
                        "marker": {
                          "pattern": {
                            "fillmode": "overlay",
                            "size": 10,
                            "solidity": 0.2
                          }
                        },
                        "type": "histogram"
                      }
                    ],
                    "scattergl": [
                      {
                        "type": "scattergl",
                        "marker": {
                          "colorbar": {
                            "outlinewidth": 0,
                            "ticks": ""
                          }
                        }
                      }
                    ],
                    "scatter3d": [
                      {
                        "type": "scatter3d",
                        "line": {
                          "colorbar": {
                            "outlinewidth": 0,
                            "ticks": ""
                          }
                        },
                        "marker": {
                          "colorbar": {
                            "outlinewidth": 0,
                            "ticks": ""
                          }
                        }
                      }
                    ],
                    "scattermapbox": [
                      {
                        "type": "scattermapbox",
                        "marker": {
                          "colorbar": {
                            "outlinewidth": 0,
                            "ticks": ""
                          }
                        }
                      }
                    ],
                    "scatterternary": [
                      {
                        "type": "scatterternary",
                        "marker": {
                          "colorbar": {
                            "outlinewidth": 0,
                            "ticks": ""
                          }
                        }
                      }
                    ],
                    "scattercarpet": [
                      {
                        "type": "scattercarpet",
                        "marker": {
                          "colorbar": {
                            "outlinewidth": 0,
                            "ticks": ""
                          }
                        }
                      }
                    ],
                    "carpet": [
                      {
                        "aaxis": {
                          "endlinecolor": "#2a3f5f",
                          "gridcolor": "white",
                          "linecolor": "white",
                          "minorgridcolor": "white",
                          "startlinecolor": "#2a3f5f"
                        },
                        "baxis": {
                          "endlinecolor": "#2a3f5f",
                          "gridcolor": "white",
                          "linecolor": "white",
                          "minorgridcolor": "white",
                          "startlinecolor": "#2a3f5f"
                        },
                        "type": "carpet"
                      }
                    ],
                    "table": [
                      {
                        "cells": {
                          "fill": {
                            "color": "#EBF0F8"
                          },
                          "line": {
                            "color": "white"
                          }
                        },
                        "header": {
                          "fill": {
                            "color": "#C8D4E3"
                          },
                          "line": {
                            "color": "white"
                          }
                        },
                        "type": "table"
                      }
                    ],
                    "barpolar": [
                      {
                        "marker": {
                          "line": {
                            "color": "#E5ECF6",
                            "width": 0.5
                          },
                          "pattern": {
                            "fillmode": "overlay",
                            "size": 10,
                            "solidity": 0.2
                          }
                        },
                        "type": "barpolar"
                      }
                    ],
                    "pie": [
                      {
                        "automargin": true,
                        "type": "pie"
                      }
                    ]
                  },
                  "layout": {
                    "autotypenumbers": "strict",
                    "colorway": [
                      "#636efa",
                      "#EF553B",
                      "#00cc96",
                      "#ab63fa",
                      "#FFA15A",
                      "#19d3f3",
                      "#FF6692",
                      "#B6E880",
                      "#FF97FF",
                      "#FECB52"
                    ],
                    "font": {
                      "color": "#2a3f5f"
                    },
                    "hovermode": "closest",
                    "hoverlabel": {
                      "align": "left"
                    },
                    "paper_bgcolor": "white",
                    "plot_bgcolor": "#E5ECF6",
                    "polar": {
                      "bgcolor": "#E5ECF6",
                      "angularaxis": {
                        "gridcolor": "white",
                        "linecolor": "white",
                        "ticks": ""
                      },
                      "radialaxis": {
                        "gridcolor": "white",
                        "linecolor": "white",
                        "ticks": ""
                      }
                    },
                    "ternary": {
                      "bgcolor": "#E5ECF6",
                      "aaxis": {
                        "gridcolor": "white",
                        "linecolor": "white",
                        "ticks": ""
                      },
                      "baxis": {
                        "gridcolor": "white",
                        "linecolor": "white",
                        "ticks": ""
                      },
                      "caxis": {
                        "gridcolor": "white",
                        "linecolor": "white",
                        "ticks": ""
                      }
                    },
                    "coloraxis": {
                      "colorbar": {
                        "outlinewidth": 0,
                        "ticks": ""
                      }
                    },
                    "colorscale": {
                      "sequential": [
                        [
                          0,
                          "#0d0887"
                        ],
                        [
                          0.1111111111111111,
                          "#46039f"
                        ],
                        [
                          0.2222222222222222,
                          "#7201a8"
                        ],
                        [
                          0.3333333333333333,
                          "#9c179e"
                        ],
                        [
                          0.4444444444444444,
                          "#bd3786"
                        ],
                        [
                          0.5555555555555556,
                          "#d8576b"
                        ],
                        [
                          0.6666666666666666,
                          "#ed7953"
                        ],
                        [
                          0.7777777777777778,
                          "#fb9f3a"
                        ],
                        [
                          0.8888888888888888,
                          "#fdca26"
                        ],
                        [
                          1,
                          "#f0f921"
                        ]
                      ],
                      "sequentialminus": [
                        [
                          0,
                          "#0d0887"
                        ],
                        [
                          0.1111111111111111,
                          "#46039f"
                        ],
                        [
                          0.2222222222222222,
                          "#7201a8"
                        ],
                        [
                          0.3333333333333333,
                          "#9c179e"
                        ],
                        [
                          0.4444444444444444,
                          "#bd3786"
                        ],
                        [
                          0.5555555555555556,
                          "#d8576b"
                        ],
                        [
                          0.6666666666666666,
                          "#ed7953"
                        ],
                        [
                          0.7777777777777778,
                          "#fb9f3a"
                        ],
                        [
                          0.8888888888888888,
                          "#fdca26"
                        ],
                        [
                          1,
                          "#f0f921"
                        ]
                      ],
                      "diverging": [
                        [
                          0,
                          "#8e0152"
                        ],
                        [
                          0.1,
                          "#c51b7d"
                        ],
                        [
                          0.2,
                          "#de77ae"
                        ],
                        [
                          0.3,
                          "#f1b6da"
                        ],
                        [
                          0.4,
                          "#fde0ef"
                        ],
                        [
                          0.5,
                          "#f7f7f7"
                        ],
                        [
                          0.6,
                          "#e6f5d0"
                        ],
                        [
                          0.7,
                          "#b8e186"
                        ],
                        [
                          0.8,
                          "#7fbc41"
                        ],
                        [
                          0.9,
                          "#4d9221"
                        ],
                        [
                          1,
                          "#276419"
                        ]
                      ]
                    },
                    "xaxis": {
                      "gridcolor": "white",
                      "linecolor": "white",
                      "ticks": "",
                      "title": {
                        "standoff": 15
                      },
                      "zerolinecolor": "white",
                      "automargin": true,
                      "zerolinewidth": 2
                    },
                    "yaxis": {
                      "gridcolor": "white",
                      "linecolor": "white",
                      "ticks": "",
                      "title": {
                        "standoff": 15
                      },
                      "zerolinecolor": "white",
                      "automargin": true,
                      "zerolinewidth": 2
                    },
                    "scene": {
                      "xaxis": {
                        "backgroundcolor": "#E5ECF6",
                        "gridcolor": "white",
                        "linecolor": "white",
                        "showbackground": true,
                        "ticks": "",
                        "zerolinecolor": "white",
                        "gridwidth": 2
                      },
                      "yaxis": {
                        "backgroundcolor": "#E5ECF6",
                        "gridcolor": "white",
                        "linecolor": "white",
                        "showbackground": true,
                        "ticks": "",
                        "zerolinecolor": "white",
                        "gridwidth": 2
                      },
                      "zaxis": {
                        "backgroundcolor": "#E5ECF6",
                        "gridcolor": "white",
                        "linecolor": "white",
                        "showbackground": true,
                        "ticks": "",
                        "zerolinecolor": "white",
                        "gridwidth": 2
                      }
                    },
                    "shapedefaults": {
                      "line": {
                        "color": "#2a3f5f"
                      }
                    },
                    "annotationdefaults": {
                      "arrowcolor": "#2a3f5f",
                      "arrowhead": 0,
                      "arrowwidth": 1
                    },
                    "geo": {
                      "bgcolor": "white",
                      "landcolor": "#E5ECF6",
                      "subunitcolor": "white",
                      "showland": true,
                      "showlakes": true,
                      "lakecolor": "white"
                    },
                    "title": {
                      "x": 0.05
                    },
                    "mapbox": {
                      "style": "light"
                    }
                  }
                },
                "xaxis": {
                  "anchor": "y",
                  "domain": [
                    0,
                    1
                  ],
                  "title": {
                    "text": "fecha"
                  }
                },
                "yaxis": {
                  "anchor": "x",
                  "domain": [
                    0,
                    1
                  ],
                  "title": {
                    "text": "value"
                  }
                },
                "legend": {
                  "title": {
                    "text": "variable"
                  },
                  "tracegroupgap": 0
                },
                "title": {
                  "text": "Dólar vs Inflación"
                }
              },
              "config": {
                "plotlyServerURL": "https://plot.ly"
              }
            },
            "text/html": [
              "<div>                            <div id=\"7da213f4-0cee-476d-82c2-dcc7ec47f0dc\" class=\"plotly-graph-div\" style=\"height:525px; width:100%;\"></div>            <script type=\"text/javascript\">                require([\"plotly\"], function(Plotly) {                    window.PLOTLYENV=window.PLOTLYENV || {};                                    if (document.getElementById(\"7da213f4-0cee-476d-82c2-dcc7ec47f0dc\")) {                    Plotly.newPlot(                        \"7da213f4-0cee-476d-82c2-dcc7ec47f0dc\",                        [{\"hovertemplate\":\"variable=UVA\\u003cbr\\u003efecha=%{x}\\u003cbr\\u003evalue=%{y}\\u003cextra\\u003e\\u003c\\u002fextra\\u003e\",\"legendgroup\":\"UVA\",\"line\":{\"color\":\"#636efa\",\"dash\":\"solid\"},\"marker\":{\"symbol\":\"circle\"},\"mode\":\"lines\",\"name\":\"UVA\",\"orientation\":\"v\",\"showlegend\":true,\"x\":[\"2022-01-03T00:00:00\",\"2022-01-04T00:00:00\",\"2022-01-05T00:00:00\",\"2022-01-06T00:00:00\",\"2022-01-07T00:00:00\",\"2022-01-10T00:00:00\",\"2022-01-11T00:00:00\",\"2022-01-12T00:00:00\",\"2022-01-13T00:00:00\",\"2022-01-14T00:00:00\",\"2022-01-17T00:00:00\",\"2022-01-18T00:00:00\",\"2022-01-19T00:00:00\",\"2022-01-20T00:00:00\",\"2022-01-21T00:00:00\",\"2022-01-24T00:00:00\",\"2022-01-25T00:00:00\",\"2022-01-26T00:00:00\",\"2022-01-27T00:00:00\",\"2022-01-28T00:00:00\",\"2022-01-31T00:00:00\",\"2022-02-01T00:00:00\",\"2022-02-02T00:00:00\",\"2022-02-03T00:00:00\",\"2022-02-04T00:00:00\",\"2022-02-07T00:00:00\",\"2022-02-08T00:00:00\",\"2022-02-09T00:00:00\",\"2022-02-10T00:00:00\",\"2022-02-11T00:00:00\",\"2022-02-14T00:00:00\",\"2022-02-15T00:00:00\",\"2022-02-16T00:00:00\",\"2022-02-17T00:00:00\",\"2022-02-18T00:00:00\",\"2022-02-21T00:00:00\",\"2022-02-22T00:00:00\",\"2022-02-23T00:00:00\",\"2022-02-24T00:00:00\",\"2022-02-25T00:00:00\",\"2022-03-02T00:00:00\",\"2022-03-03T00:00:00\",\"2022-03-04T00:00:00\",\"2022-03-07T00:00:00\",\"2022-03-07T00:00:00\",\"2022-03-07T00:00:00\",\"2022-03-07T00:00:00\",\"2022-03-08T00:00:00\",\"2022-03-09T00:00:00\",\"2022-03-10T00:00:00\",\"2022-03-11T00:00:00\",\"2022-03-14T00:00:00\",\"2022-03-15T00:00:00\",\"2022-03-16T00:00:00\",\"2022-03-17T00:00:00\",\"2022-03-18T00:00:00\",\"2022-03-21T00:00:00\",\"2022-03-22T00:00:00\",\"2022-03-23T00:00:00\",\"2022-03-25T00:00:00\",\"2022-03-28T00:00:00\",\"2022-03-29T00:00:00\",\"2022-03-30T00:00:00\",\"2022-03-31T00:00:00\",\"2022-04-01T00:00:00\",\"2022-04-04T00:00:00\",\"2022-04-05T00:00:00\",\"2022-04-06T00:00:00\",\"2022-04-07T00:00:00\",\"2022-04-08T00:00:00\",\"2022-04-11T00:00:00\",\"2022-04-12T00:00:00\",\"2022-04-13T00:00:00\",\"2022-04-18T00:00:00\",\"2022-04-19T00:00:00\",\"2022-04-20T00:00:00\",\"2022-04-21T00:00:00\",\"2022-04-22T00:00:00\",\"2022-04-25T00:00:00\",\"2022-04-26T00:00:00\",\"2022-04-27T00:00:00\",\"2022-04-28T00:00:00\",\"2022-04-29T00:00:00\",\"2022-05-02T00:00:00\",\"2022-05-03T00:00:00\",\"2022-05-04T00:00:00\",\"2022-05-05T00:00:00\",\"2022-05-06T00:00:00\",\"2022-05-09T00:00:00\",\"2022-05-10T00:00:00\",\"2022-05-11T00:00:00\",\"2022-05-12T00:00:00\",\"2022-05-13T00:00:00\",\"2022-05-16T00:00:00\",\"2022-05-17T00:00:00\",\"2022-05-19T00:00:00\",\"2022-05-20T00:00:00\",\"2022-05-23T00:00:00\",\"2022-05-24T00:00:00\",\"2022-05-26T00:00:00\",\"2022-05-27T00:00:00\",\"2022-05-30T00:00:00\",\"2022-05-31T00:00:00\",\"2022-06-01T00:00:00\",\"2022-06-02T00:00:00\",\"2022-06-03T00:00:00\",\"2022-06-06T00:00:00\",\"2022-06-07T00:00:00\",\"2022-06-08T00:00:00\",\"2022-06-09T00:00:00\",\"2022-06-10T00:00:00\",\"2022-06-13T00:00:00\",\"2022-06-14T00:00:00\",\"2022-06-15T00:00:00\",\"2022-06-16T00:00:00\",\"2022-06-21T00:00:00\",\"2022-06-22T00:00:00\",\"2022-06-23T00:00:00\",\"2022-06-24T00:00:00\",\"2022-06-27T00:00:00\",\"2022-06-28T00:00:00\",\"2022-06-29T00:00:00\",\"2022-06-30T00:00:00\",\"2022-07-01T00:00:00\",\"2022-07-04T00:00:00\",\"2022-07-05T00:00:00\",\"2022-07-06T00:00:00\",\"2022-07-07T00:00:00\",\"2022-07-08T00:00:00\",\"2022-07-11T00:00:00\",\"2022-07-12T00:00:00\",\"2022-07-13T00:00:00\",\"2022-07-14T00:00:00\",\"2022-07-15T00:00:00\",\"2022-07-18T00:00:00\",\"2022-07-19T00:00:00\",\"2022-07-20T00:00:00\",\"2022-07-21T00:00:00\",\"2022-07-22T00:00:00\",\"2022-07-25T00:00:00\",\"2022-07-26T00:00:00\",\"2022-07-27T00:00:00\",\"2022-07-28T00:00:00\",\"2022-07-29T00:00:00\",\"2022-08-01T00:00:00\",\"2022-08-02T00:00:00\",\"2022-08-03T00:00:00\",\"2022-08-04T00:00:00\",\"2022-08-05T00:00:00\",\"2022-08-08T00:00:00\",\"2022-08-09T00:00:00\",\"2022-08-10T00:00:00\",\"2022-08-11T00:00:00\",\"2022-08-12T00:00:00\",\"2022-08-16T00:00:00\",\"2022-08-17T00:00:00\",\"2022-08-18T00:00:00\",\"2022-08-19T00:00:00\",\"2022-08-22T00:00:00\",\"2022-08-23T00:00:00\",\"2022-08-24T00:00:00\",\"2022-08-25T00:00:00\",\"2022-08-26T00:00:00\",\"2022-08-29T00:00:00\",\"2022-08-30T00:00:00\",\"2022-08-31T00:00:00\",\"2022-09-01T00:00:00\",\"2022-09-02T00:00:00\",\"2022-09-05T00:00:00\",\"2022-09-06T00:00:00\",\"2022-09-07T00:00:00\",\"2022-09-08T00:00:00\",\"2022-09-09T00:00:00\",\"2022-09-12T00:00:00\",\"2022-09-13T00:00:00\",\"2022-09-14T00:00:00\",\"2022-09-15T00:00:00\",\"2022-09-16T00:00:00\",\"2022-09-19T00:00:00\",\"2022-09-20T00:00:00\",\"2022-09-21T00:00:00\",\"2022-09-22T00:00:00\",\"2022-09-22T00:00:00\",\"2022-09-23T00:00:00\",\"2022-09-26T00:00:00\",\"2022-09-27T00:00:00\",\"2022-09-28T00:00:00\",\"2022-09-29T00:00:00\",\"2022-09-30T00:00:00\",\"2022-10-03T00:00:00\",\"2022-10-04T00:00:00\",\"2022-10-05T00:00:00\",\"2022-10-06T00:00:00\",\"2022-10-11T00:00:00\",\"2022-10-12T00:00:00\",\"2022-10-13T00:00:00\",\"2022-10-14T00:00:00\",\"2022-10-17T00:00:00\",\"2022-10-18T00:00:00\",\"2022-10-19T00:00:00\",\"2022-10-20T00:00:00\",\"2022-10-21T00:00:00\",\"2022-10-24T00:00:00\",\"2022-10-25T00:00:00\",\"2022-10-26T00:00:00\",\"2022-10-27T00:00:00\",\"2022-10-28T00:00:00\",\"2022-10-31T00:00:00\",\"2022-11-01T00:00:00\",\"2022-11-02T00:00:00\",\"2022-11-03T00:00:00\",\"2022-11-04T00:00:00\",\"2022-11-07T00:00:00\",\"2022-11-08T00:00:00\",\"2022-11-09T00:00:00\",\"2022-11-10T00:00:00\",\"2022-11-11T00:00:00\",\"2022-11-14T00:00:00\",\"2022-11-15T00:00:00\",\"2022-11-16T00:00:00\",\"2022-11-17T00:00:00\",\"2022-11-18T00:00:00\",\"2022-11-18T00:00:00\",\"2022-11-18T00:00:00\",\"2022-11-22T00:00:00\",\"2022-11-23T00:00:00\",\"2022-11-24T00:00:00\",\"2022-11-25T00:00:00\",\"2022-11-28T00:00:00\",\"2022-11-29T00:00:00\",\"2022-11-30T00:00:00\",\"2022-12-01T00:00:00\",\"2022-12-02T00:00:00\",\"2022-12-05T00:00:00\",\"2022-12-06T00:00:00\",\"2022-12-07T00:00:00\",\"2022-12-12T00:00:00\",\"2022-12-13T00:00:00\",\"2022-12-14T00:00:00\",\"2022-12-15T00:00:00\",\"2022-12-16T00:00:00\",\"2022-12-19T00:00:00\",\"2022-12-20T00:00:00\",\"2022-12-21T00:00:00\",\"2022-12-22T00:00:00\",\"2022-12-23T00:00:00\",\"2022-12-26T00:00:00\",\"2022-12-27T00:00:00\",\"2022-12-28T00:00:00\",\"2022-12-29T00:00:00\",\"2022-12-30T00:00:00\"],\"xaxis\":\"x\",\"y\":[97.58,97.82,97.89,97.97,98.05,98.13,98.36,98.44,98.52,98.6,98.68,98.99,99.11,99.23,99.35,99.47,99.83,99.95,100.07,100.19,100.31,100.68,100.8,100.92,101.04,101.16,101.53,101.65,101.77,101.89,102.02,102.39,102.51,102.65,102.79,102.93,103.35,103.49,103.64,103.78,103.92,104.63,104.77,104.92,104.92,104.92,104.92,105.35,105.49,105.64,105.78,105.93,106.36,106.51,106.66,106.82,106.98,107.46,107.62,107.78,108.1,108.58,108.74,108.9,109.06,109.22,109.71,109.87,110.04,110.2,110.36,110.85,111.02,111.18,112.24,112.48,112.72,112.97,113.21,113.95,114.2,114.44,114.69,114.94,115.69,115.94,116.19,116.44,116.69,117.45,117.7,117.96,118.21,118.47,119.21,119.43,119.88,120.11,120.79,121.01,121.47,121.7,122.39,122.62,122.85,123.08,123.31,124.01,124.24,124.47,124.71,124.94,125.65,125.89,126.12,126.33,127.38,127.6,127.81,128.02,128.66,128.87,129.08,129.3,129.51,130.16,130.38,130.59,130.81,131.03,131.68,131.9,132.12,132.34,132.56,133.22,133.44,133.66,133.89,134.11,134.78,135.01,135.23,135.46,135.68,136.36,136.59,136.82,137.05,137.27,137.96,138.19,138.42,138.65,138.88,139.9,140.23,140.55,140.87,141.85,142.18,142.5,142.83,143.16,144.15,144.49,144.82,145.15,145.49,146.5,146.83,147.17,147.51,147.85,148.88,149.22,149.56,149.91,150.25,151.27,151.61,151.95,151.95,152.3,152.64,153.68,154.02,154.37,154.72,155.07,156.12,156.47,156.83,157.18,158.96,159.32,159.68,160.04,161.03,161.34,161.65,161.97,162.28,163.23,163.55,163.86,164.18,164.5,165.46,165.78,166.1,166.43,166.75,167.72,168.05,168.38,168.7,169.03,170.02,170.35,170.7,171.04,171.04,171.04,171.39,172.79,173.15,173.5,173.85,174.92,175.28,175.63,175.99,176.35,177.43,177.79,178.15,179.98,180.34,180.71,181.08,181.36,182.2,182.48,182.76,183.05,183.33,184.18,184.46,184.75,185.03],\"yaxis\":\"y\",\"type\":\"scatter\"},{\"hovertemplate\":\"variable=venta\\u003cbr\\u003efecha=%{x}\\u003cbr\\u003evalue=%{y}\\u003cextra\\u003e\\u003c\\u002fextra\\u003e\",\"legendgroup\":\"venta\",\"line\":{\"color\":\"#EF553B\",\"dash\":\"solid\"},\"marker\":{\"symbol\":\"circle\"},\"mode\":\"lines\",\"name\":\"venta\",\"orientation\":\"v\",\"showlegend\":true,\"x\":[\"2022-01-03T00:00:00\",\"2022-01-04T00:00:00\",\"2022-01-05T00:00:00\",\"2022-01-06T00:00:00\",\"2022-01-07T00:00:00\",\"2022-01-10T00:00:00\",\"2022-01-11T00:00:00\",\"2022-01-12T00:00:00\",\"2022-01-13T00:00:00\",\"2022-01-14T00:00:00\",\"2022-01-17T00:00:00\",\"2022-01-18T00:00:00\",\"2022-01-19T00:00:00\",\"2022-01-20T00:00:00\",\"2022-01-21T00:00:00\",\"2022-01-24T00:00:00\",\"2022-01-25T00:00:00\",\"2022-01-26T00:00:00\",\"2022-01-27T00:00:00\",\"2022-01-28T00:00:00\",\"2022-01-31T00:00:00\",\"2022-02-01T00:00:00\",\"2022-02-02T00:00:00\",\"2022-02-03T00:00:00\",\"2022-02-04T00:00:00\",\"2022-02-07T00:00:00\",\"2022-02-08T00:00:00\",\"2022-02-09T00:00:00\",\"2022-02-10T00:00:00\",\"2022-02-11T00:00:00\",\"2022-02-14T00:00:00\",\"2022-02-15T00:00:00\",\"2022-02-16T00:00:00\",\"2022-02-17T00:00:00\",\"2022-02-18T00:00:00\",\"2022-02-21T00:00:00\",\"2022-02-22T00:00:00\",\"2022-02-23T00:00:00\",\"2022-02-24T00:00:00\",\"2022-02-25T00:00:00\",\"2022-03-02T00:00:00\",\"2022-03-03T00:00:00\",\"2022-03-04T00:00:00\",\"2022-03-07T00:00:00\",\"2022-03-07T00:00:00\",\"2022-03-07T00:00:00\",\"2022-03-07T00:00:00\",\"2022-03-08T00:00:00\",\"2022-03-09T00:00:00\",\"2022-03-10T00:00:00\",\"2022-03-11T00:00:00\",\"2022-03-14T00:00:00\",\"2022-03-15T00:00:00\",\"2022-03-16T00:00:00\",\"2022-03-17T00:00:00\",\"2022-03-18T00:00:00\",\"2022-03-21T00:00:00\",\"2022-03-22T00:00:00\",\"2022-03-23T00:00:00\",\"2022-03-25T00:00:00\",\"2022-03-28T00:00:00\",\"2022-03-29T00:00:00\",\"2022-03-30T00:00:00\",\"2022-03-31T00:00:00\",\"2022-04-01T00:00:00\",\"2022-04-04T00:00:00\",\"2022-04-05T00:00:00\",\"2022-04-06T00:00:00\",\"2022-04-07T00:00:00\",\"2022-04-08T00:00:00\",\"2022-04-11T00:00:00\",\"2022-04-12T00:00:00\",\"2022-04-13T00:00:00\",\"2022-04-18T00:00:00\",\"2022-04-19T00:00:00\",\"2022-04-20T00:00:00\",\"2022-04-21T00:00:00\",\"2022-04-22T00:00:00\",\"2022-04-25T00:00:00\",\"2022-04-26T00:00:00\",\"2022-04-27T00:00:00\",\"2022-04-28T00:00:00\",\"2022-04-29T00:00:00\",\"2022-05-02T00:00:00\",\"2022-05-03T00:00:00\",\"2022-05-04T00:00:00\",\"2022-05-05T00:00:00\",\"2022-05-06T00:00:00\",\"2022-05-09T00:00:00\",\"2022-05-10T00:00:00\",\"2022-05-11T00:00:00\",\"2022-05-12T00:00:00\",\"2022-05-13T00:00:00\",\"2022-05-16T00:00:00\",\"2022-05-17T00:00:00\",\"2022-05-19T00:00:00\",\"2022-05-20T00:00:00\",\"2022-05-23T00:00:00\",\"2022-05-24T00:00:00\",\"2022-05-26T00:00:00\",\"2022-05-27T00:00:00\",\"2022-05-30T00:00:00\",\"2022-05-31T00:00:00\",\"2022-06-01T00:00:00\",\"2022-06-02T00:00:00\",\"2022-06-03T00:00:00\",\"2022-06-06T00:00:00\",\"2022-06-07T00:00:00\",\"2022-06-08T00:00:00\",\"2022-06-09T00:00:00\",\"2022-06-10T00:00:00\",\"2022-06-13T00:00:00\",\"2022-06-14T00:00:00\",\"2022-06-15T00:00:00\",\"2022-06-16T00:00:00\",\"2022-06-21T00:00:00\",\"2022-06-22T00:00:00\",\"2022-06-23T00:00:00\",\"2022-06-24T00:00:00\",\"2022-06-27T00:00:00\",\"2022-06-28T00:00:00\",\"2022-06-29T00:00:00\",\"2022-06-30T00:00:00\",\"2022-07-01T00:00:00\",\"2022-07-04T00:00:00\",\"2022-07-05T00:00:00\",\"2022-07-06T00:00:00\",\"2022-07-07T00:00:00\",\"2022-07-08T00:00:00\",\"2022-07-11T00:00:00\",\"2022-07-12T00:00:00\",\"2022-07-13T00:00:00\",\"2022-07-14T00:00:00\",\"2022-07-15T00:00:00\",\"2022-07-18T00:00:00\",\"2022-07-19T00:00:00\",\"2022-07-20T00:00:00\",\"2022-07-21T00:00:00\",\"2022-07-22T00:00:00\",\"2022-07-25T00:00:00\",\"2022-07-26T00:00:00\",\"2022-07-27T00:00:00\",\"2022-07-28T00:00:00\",\"2022-07-29T00:00:00\",\"2022-08-01T00:00:00\",\"2022-08-02T00:00:00\",\"2022-08-03T00:00:00\",\"2022-08-04T00:00:00\",\"2022-08-05T00:00:00\",\"2022-08-08T00:00:00\",\"2022-08-09T00:00:00\",\"2022-08-10T00:00:00\",\"2022-08-11T00:00:00\",\"2022-08-12T00:00:00\",\"2022-08-16T00:00:00\",\"2022-08-17T00:00:00\",\"2022-08-18T00:00:00\",\"2022-08-19T00:00:00\",\"2022-08-22T00:00:00\",\"2022-08-23T00:00:00\",\"2022-08-24T00:00:00\",\"2022-08-25T00:00:00\",\"2022-08-26T00:00:00\",\"2022-08-29T00:00:00\",\"2022-08-30T00:00:00\",\"2022-08-31T00:00:00\",\"2022-09-01T00:00:00\",\"2022-09-02T00:00:00\",\"2022-09-05T00:00:00\",\"2022-09-06T00:00:00\",\"2022-09-07T00:00:00\",\"2022-09-08T00:00:00\",\"2022-09-09T00:00:00\",\"2022-09-12T00:00:00\",\"2022-09-13T00:00:00\",\"2022-09-14T00:00:00\",\"2022-09-15T00:00:00\",\"2022-09-16T00:00:00\",\"2022-09-19T00:00:00\",\"2022-09-20T00:00:00\",\"2022-09-21T00:00:00\",\"2022-09-22T00:00:00\",\"2022-09-22T00:00:00\",\"2022-09-23T00:00:00\",\"2022-09-26T00:00:00\",\"2022-09-27T00:00:00\",\"2022-09-28T00:00:00\",\"2022-09-29T00:00:00\",\"2022-09-30T00:00:00\",\"2022-10-03T00:00:00\",\"2022-10-04T00:00:00\",\"2022-10-05T00:00:00\",\"2022-10-06T00:00:00\",\"2022-10-11T00:00:00\",\"2022-10-12T00:00:00\",\"2022-10-13T00:00:00\",\"2022-10-14T00:00:00\",\"2022-10-17T00:00:00\",\"2022-10-18T00:00:00\",\"2022-10-19T00:00:00\",\"2022-10-20T00:00:00\",\"2022-10-21T00:00:00\",\"2022-10-24T00:00:00\",\"2022-10-25T00:00:00\",\"2022-10-26T00:00:00\",\"2022-10-27T00:00:00\",\"2022-10-28T00:00:00\",\"2022-10-31T00:00:00\",\"2022-11-01T00:00:00\",\"2022-11-02T00:00:00\",\"2022-11-03T00:00:00\",\"2022-11-04T00:00:00\",\"2022-11-07T00:00:00\",\"2022-11-08T00:00:00\",\"2022-11-09T00:00:00\",\"2022-11-10T00:00:00\",\"2022-11-11T00:00:00\",\"2022-11-14T00:00:00\",\"2022-11-15T00:00:00\",\"2022-11-16T00:00:00\",\"2022-11-17T00:00:00\",\"2022-11-18T00:00:00\",\"2022-11-18T00:00:00\",\"2022-11-18T00:00:00\",\"2022-11-22T00:00:00\",\"2022-11-23T00:00:00\",\"2022-11-24T00:00:00\",\"2022-11-25T00:00:00\",\"2022-11-28T00:00:00\",\"2022-11-29T00:00:00\",\"2022-11-30T00:00:00\",\"2022-12-01T00:00:00\",\"2022-12-02T00:00:00\",\"2022-12-05T00:00:00\",\"2022-12-06T00:00:00\",\"2022-12-07T00:00:00\",\"2022-12-12T00:00:00\",\"2022-12-13T00:00:00\",\"2022-12-14T00:00:00\",\"2022-12-15T00:00:00\",\"2022-12-16T00:00:00\",\"2022-12-19T00:00:00\",\"2022-12-20T00:00:00\",\"2022-12-21T00:00:00\",\"2022-12-22T00:00:00\",\"2022-12-23T00:00:00\",\"2022-12-26T00:00:00\",\"2022-12-27T00:00:00\",\"2022-12-28T00:00:00\",\"2022-12-29T00:00:00\",\"2022-12-30T00:00:00\"],\"xaxis\":\"x\",\"y\":[202.0,202.5,203.5,204.5,204.0,202.0,205.0,204.5,205.5,205.5,205.0,207.0,209.0,210.0,215.0,215.0,215.5,217.0,218.5,208.5,209.0,210.0,212.5,212.0,210.0,210.0,211.0,213.0,211.5,210.5,211.0,211.0,211.0,210.0,207.0,207.5,206.0,206.0,206.5,207.0,202.0,200.0,197.0,197.0,197.0,197.0,197.0,198.0,200.5,199.0,198.0,196.0,196.0,198.0,198.0,198.5,198.0,197.0,197.0,198.0,196.0,196.0,197.0,196.0,196.0,195.0,192.0,192.0,192.0,192.5,191.0,191.0,191.0,191.0,194.0,195.5,198.0,199.0,201.5,208.5,202.5,200.0,196.5,197.0,199.5,197.0,197.5,197.0,197.5,198.0,201.0,199.5,199.5,201.0,204.0,202.0,201.0,202.5,204.0,203.0,202.5,202.5,201.0,202.0,202.0,201.0,201.0,202.0,204.0,204.0,206.0,212.0,220.0,213.0,212.0,216.0,220.0,220.0,222.0,228.0,235.0,235.0,234.0,235.0,250.0,242.0,245.0,247.0,263.0,258.0,262.0,273.0,279.0,283.0,281.0,291.0,307.0,327.0,328.0,312.0,313.0,316.0,304.0,286.0,272.0,281.0,288.0,281.0,283.0,282.0,283.0,285.0,287.0,285.0,286.0,287.0,288.0,290.0,287.0,292.0,290.0,288.0,288.0,287.0,286.0,285.0,280.0,280.0,266.0,272.0,280.0,276.0,270.0,268.0,269.0,273.0,272.0,273.0,273.0,283.0,283.0,283.0,281.0,283.0,282.0,286.0,286.0,284.0,284.0,280.0,278.0,278.0,273.0,276.0,285.0,287.0,286.0,283.0,286.0,288.0,287.0,287.0,287.0,289.0,288.0,287.0,288.0,286.0,286.0,287.0,283.0,285.0,286.0,287.0,288.0,288.0,289.0,290.0,298.0,304.0,303.0,303.0,303.0,302.0,304.0,308.0,315.0,316.0,314.0,311.0,310.0,309.0,308.0,308.0,311.0,312.0,308.0,311.0,316.0,316.0,317.0,321.0,322.0,321.0,326.0,336.0,342.0,352.0,353.0,346.0,342.0],\"yaxis\":\"y\",\"type\":\"scatter\"}],                        {\"template\":{\"data\":{\"histogram2dcontour\":[{\"type\":\"histogram2dcontour\",\"colorbar\":{\"outlinewidth\":0,\"ticks\":\"\"},\"colorscale\":[[0.0,\"#0d0887\"],[0.1111111111111111,\"#46039f\"],[0.2222222222222222,\"#7201a8\"],[0.3333333333333333,\"#9c179e\"],[0.4444444444444444,\"#bd3786\"],[0.5555555555555556,\"#d8576b\"],[0.6666666666666666,\"#ed7953\"],[0.7777777777777778,\"#fb9f3a\"],[0.8888888888888888,\"#fdca26\"],[1.0,\"#f0f921\"]]}],\"choropleth\":[{\"type\":\"choropleth\",\"colorbar\":{\"outlinewidth\":0,\"ticks\":\"\"}}],\"histogram2d\":[{\"type\":\"histogram2d\",\"colorbar\":{\"outlinewidth\":0,\"ticks\":\"\"},\"colorscale\":[[0.0,\"#0d0887\"],[0.1111111111111111,\"#46039f\"],[0.2222222222222222,\"#7201a8\"],[0.3333333333333333,\"#9c179e\"],[0.4444444444444444,\"#bd3786\"],[0.5555555555555556,\"#d8576b\"],[0.6666666666666666,\"#ed7953\"],[0.7777777777777778,\"#fb9f3a\"],[0.8888888888888888,\"#fdca26\"],[1.0,\"#f0f921\"]]}],\"heatmap\":[{\"type\":\"heatmap\",\"colorbar\":{\"outlinewidth\":0,\"ticks\":\"\"},\"colorscale\":[[0.0,\"#0d0887\"],[0.1111111111111111,\"#46039f\"],[0.2222222222222222,\"#7201a8\"],[0.3333333333333333,\"#9c179e\"],[0.4444444444444444,\"#bd3786\"],[0.5555555555555556,\"#d8576b\"],[0.6666666666666666,\"#ed7953\"],[0.7777777777777778,\"#fb9f3a\"],[0.8888888888888888,\"#fdca26\"],[1.0,\"#f0f921\"]]}],\"heatmapgl\":[{\"type\":\"heatmapgl\",\"colorbar\":{\"outlinewidth\":0,\"ticks\":\"\"},\"colorscale\":[[0.0,\"#0d0887\"],[0.1111111111111111,\"#46039f\"],[0.2222222222222222,\"#7201a8\"],[0.3333333333333333,\"#9c179e\"],[0.4444444444444444,\"#bd3786\"],[0.5555555555555556,\"#d8576b\"],[0.6666666666666666,\"#ed7953\"],[0.7777777777777778,\"#fb9f3a\"],[0.8888888888888888,\"#fdca26\"],[1.0,\"#f0f921\"]]}],\"contourcarpet\":[{\"type\":\"contourcarpet\",\"colorbar\":{\"outlinewidth\":0,\"ticks\":\"\"}}],\"contour\":[{\"type\":\"contour\",\"colorbar\":{\"outlinewidth\":0,\"ticks\":\"\"},\"colorscale\":[[0.0,\"#0d0887\"],[0.1111111111111111,\"#46039f\"],[0.2222222222222222,\"#7201a8\"],[0.3333333333333333,\"#9c179e\"],[0.4444444444444444,\"#bd3786\"],[0.5555555555555556,\"#d8576b\"],[0.6666666666666666,\"#ed7953\"],[0.7777777777777778,\"#fb9f3a\"],[0.8888888888888888,\"#fdca26\"],[1.0,\"#f0f921\"]]}],\"surface\":[{\"type\":\"surface\",\"colorbar\":{\"outlinewidth\":0,\"ticks\":\"\"},\"colorscale\":[[0.0,\"#0d0887\"],[0.1111111111111111,\"#46039f\"],[0.2222222222222222,\"#7201a8\"],[0.3333333333333333,\"#9c179e\"],[0.4444444444444444,\"#bd3786\"],[0.5555555555555556,\"#d8576b\"],[0.6666666666666666,\"#ed7953\"],[0.7777777777777778,\"#fb9f3a\"],[0.8888888888888888,\"#fdca26\"],[1.0,\"#f0f921\"]]}],\"mesh3d\":[{\"type\":\"mesh3d\",\"colorbar\":{\"outlinewidth\":0,\"ticks\":\"\"}}],\"scatter\":[{\"fillpattern\":{\"fillmode\":\"overlay\",\"size\":10,\"solidity\":0.2},\"type\":\"scatter\"}],\"parcoords\":[{\"type\":\"parcoords\",\"line\":{\"colorbar\":{\"outlinewidth\":0,\"ticks\":\"\"}}}],\"scatterpolargl\":[{\"type\":\"scatterpolargl\",\"marker\":{\"colorbar\":{\"outlinewidth\":0,\"ticks\":\"\"}}}],\"bar\":[{\"error_x\":{\"color\":\"#2a3f5f\"},\"error_y\":{\"color\":\"#2a3f5f\"},\"marker\":{\"line\":{\"color\":\"#E5ECF6\",\"width\":0.5},\"pattern\":{\"fillmode\":\"overlay\",\"size\":10,\"solidity\":0.2}},\"type\":\"bar\"}],\"scattergeo\":[{\"type\":\"scattergeo\",\"marker\":{\"colorbar\":{\"outlinewidth\":0,\"ticks\":\"\"}}}],\"scatterpolar\":[{\"type\":\"scatterpolar\",\"marker\":{\"colorbar\":{\"outlinewidth\":0,\"ticks\":\"\"}}}],\"histogram\":[{\"marker\":{\"pattern\":{\"fillmode\":\"overlay\",\"size\":10,\"solidity\":0.2}},\"type\":\"histogram\"}],\"scattergl\":[{\"type\":\"scattergl\",\"marker\":{\"colorbar\":{\"outlinewidth\":0,\"ticks\":\"\"}}}],\"scatter3d\":[{\"type\":\"scatter3d\",\"line\":{\"colorbar\":{\"outlinewidth\":0,\"ticks\":\"\"}},\"marker\":{\"colorbar\":{\"outlinewidth\":0,\"ticks\":\"\"}}}],\"scattermapbox\":[{\"type\":\"scattermapbox\",\"marker\":{\"colorbar\":{\"outlinewidth\":0,\"ticks\":\"\"}}}],\"scatterternary\":[{\"type\":\"scatterternary\",\"marker\":{\"colorbar\":{\"outlinewidth\":0,\"ticks\":\"\"}}}],\"scattercarpet\":[{\"type\":\"scattercarpet\",\"marker\":{\"colorbar\":{\"outlinewidth\":0,\"ticks\":\"\"}}}],\"carpet\":[{\"aaxis\":{\"endlinecolor\":\"#2a3f5f\",\"gridcolor\":\"white\",\"linecolor\":\"white\",\"minorgridcolor\":\"white\",\"startlinecolor\":\"#2a3f5f\"},\"baxis\":{\"endlinecolor\":\"#2a3f5f\",\"gridcolor\":\"white\",\"linecolor\":\"white\",\"minorgridcolor\":\"white\",\"startlinecolor\":\"#2a3f5f\"},\"type\":\"carpet\"}],\"table\":[{\"cells\":{\"fill\":{\"color\":\"#EBF0F8\"},\"line\":{\"color\":\"white\"}},\"header\":{\"fill\":{\"color\":\"#C8D4E3\"},\"line\":{\"color\":\"white\"}},\"type\":\"table\"}],\"barpolar\":[{\"marker\":{\"line\":{\"color\":\"#E5ECF6\",\"width\":0.5},\"pattern\":{\"fillmode\":\"overlay\",\"size\":10,\"solidity\":0.2}},\"type\":\"barpolar\"}],\"pie\":[{\"automargin\":true,\"type\":\"pie\"}]},\"layout\":{\"autotypenumbers\":\"strict\",\"colorway\":[\"#636efa\",\"#EF553B\",\"#00cc96\",\"#ab63fa\",\"#FFA15A\",\"#19d3f3\",\"#FF6692\",\"#B6E880\",\"#FF97FF\",\"#FECB52\"],\"font\":{\"color\":\"#2a3f5f\"},\"hovermode\":\"closest\",\"hoverlabel\":{\"align\":\"left\"},\"paper_bgcolor\":\"white\",\"plot_bgcolor\":\"#E5ECF6\",\"polar\":{\"bgcolor\":\"#E5ECF6\",\"angularaxis\":{\"gridcolor\":\"white\",\"linecolor\":\"white\",\"ticks\":\"\"},\"radialaxis\":{\"gridcolor\":\"white\",\"linecolor\":\"white\",\"ticks\":\"\"}},\"ternary\":{\"bgcolor\":\"#E5ECF6\",\"aaxis\":{\"gridcolor\":\"white\",\"linecolor\":\"white\",\"ticks\":\"\"},\"baxis\":{\"gridcolor\":\"white\",\"linecolor\":\"white\",\"ticks\":\"\"},\"caxis\":{\"gridcolor\":\"white\",\"linecolor\":\"white\",\"ticks\":\"\"}},\"coloraxis\":{\"colorbar\":{\"outlinewidth\":0,\"ticks\":\"\"}},\"colorscale\":{\"sequential\":[[0.0,\"#0d0887\"],[0.1111111111111111,\"#46039f\"],[0.2222222222222222,\"#7201a8\"],[0.3333333333333333,\"#9c179e\"],[0.4444444444444444,\"#bd3786\"],[0.5555555555555556,\"#d8576b\"],[0.6666666666666666,\"#ed7953\"],[0.7777777777777778,\"#fb9f3a\"],[0.8888888888888888,\"#fdca26\"],[1.0,\"#f0f921\"]],\"sequentialminus\":[[0.0,\"#0d0887\"],[0.1111111111111111,\"#46039f\"],[0.2222222222222222,\"#7201a8\"],[0.3333333333333333,\"#9c179e\"],[0.4444444444444444,\"#bd3786\"],[0.5555555555555556,\"#d8576b\"],[0.6666666666666666,\"#ed7953\"],[0.7777777777777778,\"#fb9f3a\"],[0.8888888888888888,\"#fdca26\"],[1.0,\"#f0f921\"]],\"diverging\":[[0,\"#8e0152\"],[0.1,\"#c51b7d\"],[0.2,\"#de77ae\"],[0.3,\"#f1b6da\"],[0.4,\"#fde0ef\"],[0.5,\"#f7f7f7\"],[0.6,\"#e6f5d0\"],[0.7,\"#b8e186\"],[0.8,\"#7fbc41\"],[0.9,\"#4d9221\"],[1,\"#276419\"]]},\"xaxis\":{\"gridcolor\":\"white\",\"linecolor\":\"white\",\"ticks\":\"\",\"title\":{\"standoff\":15},\"zerolinecolor\":\"white\",\"automargin\":true,\"zerolinewidth\":2},\"yaxis\":{\"gridcolor\":\"white\",\"linecolor\":\"white\",\"ticks\":\"\",\"title\":{\"standoff\":15},\"zerolinecolor\":\"white\",\"automargin\":true,\"zerolinewidth\":2},\"scene\":{\"xaxis\":{\"backgroundcolor\":\"#E5ECF6\",\"gridcolor\":\"white\",\"linecolor\":\"white\",\"showbackground\":true,\"ticks\":\"\",\"zerolinecolor\":\"white\",\"gridwidth\":2},\"yaxis\":{\"backgroundcolor\":\"#E5ECF6\",\"gridcolor\":\"white\",\"linecolor\":\"white\",\"showbackground\":true,\"ticks\":\"\",\"zerolinecolor\":\"white\",\"gridwidth\":2},\"zaxis\":{\"backgroundcolor\":\"#E5ECF6\",\"gridcolor\":\"white\",\"linecolor\":\"white\",\"showbackground\":true,\"ticks\":\"\",\"zerolinecolor\":\"white\",\"gridwidth\":2}},\"shapedefaults\":{\"line\":{\"color\":\"#2a3f5f\"}},\"annotationdefaults\":{\"arrowcolor\":\"#2a3f5f\",\"arrowhead\":0,\"arrowwidth\":1},\"geo\":{\"bgcolor\":\"white\",\"landcolor\":\"#E5ECF6\",\"subunitcolor\":\"white\",\"showland\":true,\"showlakes\":true,\"lakecolor\":\"white\"},\"title\":{\"x\":0.05},\"mapbox\":{\"style\":\"light\"}}},\"xaxis\":{\"anchor\":\"y\",\"domain\":[0.0,1.0],\"title\":{\"text\":\"fecha\"}},\"yaxis\":{\"anchor\":\"x\",\"domain\":[0.0,1.0],\"title\":{\"text\":\"value\"}},\"legend\":{\"title\":{\"text\":\"variable\"},\"tracegroupgap\":0},\"title\":{\"text\":\"D\\u00f3lar vs Inflaci\\u00f3n\"}},                        {\"responsive\": true}                    ).then(function(){\n",
              "                            \n",
              "var gd = document.getElementById('7da213f4-0cee-476d-82c2-dcc7ec47f0dc');\n",
              "var x = new MutationObserver(function (mutations, observer) {{\n",
              "        var display = window.getComputedStyle(gd).display;\n",
              "        if (!display || display === 'none') {{\n",
              "            console.log([gd, 'removed!']);\n",
              "            Plotly.purge(gd);\n",
              "            observer.disconnect();\n",
              "        }}\n",
              "}});\n",
              "\n",
              "// Listen for the removal of the full notebook cells\n",
              "var notebookContainer = gd.closest('#notebook-container');\n",
              "if (notebookContainer) {{\n",
              "    x.observe(notebookContainer, {childList: true});\n",
              "}}\n",
              "\n",
              "// Listen for the clearing of the current output cell\n",
              "var outputEl = gd.closest('.output');\n",
              "if (outputEl) {{\n",
              "    x.observe(outputEl, {childList: true});\n",
              "}}\n",
              "\n",
              "                        })                };                });            </script>        </div>"
            ]
          },
          "metadata": {}
        }
      ]
    },
    {
      "cell_type": "markdown",
      "source": [],
      "metadata": {
        "id": "CnAnain3MohE"
      }
    },
    {
      "cell_type": "code",
      "source": [
        "uva_usd_df['usd_en_uva']= uva_usd_df.venta / uva_usd_df.UVA\n",
        "uva_usd_df.head()"
      ],
      "metadata": {
        "colab": {
          "base_uri": "https://localhost:8080/",
          "height": 206
        },
        "id": "ed2AObDCKgZd",
        "outputId": "16124a3d-c278-40a2-e16d-41729309b9fe"
      },
      "execution_count": null,
      "outputs": [
        {
          "output_type": "execute_result",
          "data": {
            "text/plain": [
              "       fecha    UVA  compra  venta  usd_en_uva\n",
              "0 2022-01-03  97.58   202.0  202.0    2.070096\n",
              "1 2022-01-04  97.82   202.5  202.5    2.070129\n",
              "2 2022-01-05  97.89   203.5  203.5    2.078864\n",
              "3 2022-01-06  97.97   204.5  204.5    2.087374\n",
              "4 2022-01-07  98.05   204.0  204.0    2.080571"
            ],
            "text/html": [
              "\n",
              "  <div id=\"df-4e130c9d-a3b7-47e1-867b-b1f35ef57714\" class=\"colab-df-container\">\n",
              "    <div>\n",
              "<style scoped>\n",
              "    .dataframe tbody tr th:only-of-type {\n",
              "        vertical-align: middle;\n",
              "    }\n",
              "\n",
              "    .dataframe tbody tr th {\n",
              "        vertical-align: top;\n",
              "    }\n",
              "\n",
              "    .dataframe thead th {\n",
              "        text-align: right;\n",
              "    }\n",
              "</style>\n",
              "<table border=\"1\" class=\"dataframe\">\n",
              "  <thead>\n",
              "    <tr style=\"text-align: right;\">\n",
              "      <th></th>\n",
              "      <th>fecha</th>\n",
              "      <th>UVA</th>\n",
              "      <th>compra</th>\n",
              "      <th>venta</th>\n",
              "      <th>usd_en_uva</th>\n",
              "    </tr>\n",
              "  </thead>\n",
              "  <tbody>\n",
              "    <tr>\n",
              "      <th>0</th>\n",
              "      <td>2022-01-03</td>\n",
              "      <td>97.58</td>\n",
              "      <td>202.0</td>\n",
              "      <td>202.0</td>\n",
              "      <td>2.070096</td>\n",
              "    </tr>\n",
              "    <tr>\n",
              "      <th>1</th>\n",
              "      <td>2022-01-04</td>\n",
              "      <td>97.82</td>\n",
              "      <td>202.5</td>\n",
              "      <td>202.5</td>\n",
              "      <td>2.070129</td>\n",
              "    </tr>\n",
              "    <tr>\n",
              "      <th>2</th>\n",
              "      <td>2022-01-05</td>\n",
              "      <td>97.89</td>\n",
              "      <td>203.5</td>\n",
              "      <td>203.5</td>\n",
              "      <td>2.078864</td>\n",
              "    </tr>\n",
              "    <tr>\n",
              "      <th>3</th>\n",
              "      <td>2022-01-06</td>\n",
              "      <td>97.97</td>\n",
              "      <td>204.5</td>\n",
              "      <td>204.5</td>\n",
              "      <td>2.087374</td>\n",
              "    </tr>\n",
              "    <tr>\n",
              "      <th>4</th>\n",
              "      <td>2022-01-07</td>\n",
              "      <td>98.05</td>\n",
              "      <td>204.0</td>\n",
              "      <td>204.0</td>\n",
              "      <td>2.080571</td>\n",
              "    </tr>\n",
              "  </tbody>\n",
              "</table>\n",
              "</div>\n",
              "    <div class=\"colab-df-buttons\">\n",
              "\n",
              "  <div class=\"colab-df-container\">\n",
              "    <button class=\"colab-df-convert\" onclick=\"convertToInteractive('df-4e130c9d-a3b7-47e1-867b-b1f35ef57714')\"\n",
              "            title=\"Convert this dataframe to an interactive table.\"\n",
              "            style=\"display:none;\">\n",
              "\n",
              "  <svg xmlns=\"http://www.w3.org/2000/svg\" height=\"24px\" viewBox=\"0 -960 960 960\">\n",
              "    <path d=\"M120-120v-720h720v720H120Zm60-500h600v-160H180v160Zm220 220h160v-160H400v160Zm0 220h160v-160H400v160ZM180-400h160v-160H180v160Zm440 0h160v-160H620v160ZM180-180h160v-160H180v160Zm440 0h160v-160H620v160Z\"/>\n",
              "  </svg>\n",
              "    </button>\n",
              "\n",
              "  <style>\n",
              "    .colab-df-container {\n",
              "      display:flex;\n",
              "      gap: 12px;\n",
              "    }\n",
              "\n",
              "    .colab-df-convert {\n",
              "      background-color: #E8F0FE;\n",
              "      border: none;\n",
              "      border-radius: 50%;\n",
              "      cursor: pointer;\n",
              "      display: none;\n",
              "      fill: #1967D2;\n",
              "      height: 32px;\n",
              "      padding: 0 0 0 0;\n",
              "      width: 32px;\n",
              "    }\n",
              "\n",
              "    .colab-df-convert:hover {\n",
              "      background-color: #E2EBFA;\n",
              "      box-shadow: 0px 1px 2px rgba(60, 64, 67, 0.3), 0px 1px 3px 1px rgba(60, 64, 67, 0.15);\n",
              "      fill: #174EA6;\n",
              "    }\n",
              "\n",
              "    .colab-df-buttons div {\n",
              "      margin-bottom: 4px;\n",
              "    }\n",
              "\n",
              "    [theme=dark] .colab-df-convert {\n",
              "      background-color: #3B4455;\n",
              "      fill: #D2E3FC;\n",
              "    }\n",
              "\n",
              "    [theme=dark] .colab-df-convert:hover {\n",
              "      background-color: #434B5C;\n",
              "      box-shadow: 0px 1px 3px 1px rgba(0, 0, 0, 0.15);\n",
              "      filter: drop-shadow(0px 1px 2px rgba(0, 0, 0, 0.3));\n",
              "      fill: #FFFFFF;\n",
              "    }\n",
              "  </style>\n",
              "\n",
              "    <script>\n",
              "      const buttonEl =\n",
              "        document.querySelector('#df-4e130c9d-a3b7-47e1-867b-b1f35ef57714 button.colab-df-convert');\n",
              "      buttonEl.style.display =\n",
              "        google.colab.kernel.accessAllowed ? 'block' : 'none';\n",
              "\n",
              "      async function convertToInteractive(key) {\n",
              "        const element = document.querySelector('#df-4e130c9d-a3b7-47e1-867b-b1f35ef57714');\n",
              "        const dataTable =\n",
              "          await google.colab.kernel.invokeFunction('convertToInteractive',\n",
              "                                                    [key], {});\n",
              "        if (!dataTable) return;\n",
              "\n",
              "        const docLinkHtml = 'Like what you see? Visit the ' +\n",
              "          '<a target=\"_blank\" href=https://colab.research.google.com/notebooks/data_table.ipynb>data table notebook</a>'\n",
              "          + ' to learn more about interactive tables.';\n",
              "        element.innerHTML = '';\n",
              "        dataTable['output_type'] = 'display_data';\n",
              "        await google.colab.output.renderOutput(dataTable, element);\n",
              "        const docLink = document.createElement('div');\n",
              "        docLink.innerHTML = docLinkHtml;\n",
              "        element.appendChild(docLink);\n",
              "      }\n",
              "    </script>\n",
              "  </div>\n",
              "\n",
              "\n",
              "<div id=\"df-7e4179b9-f6a4-4dd8-9ab2-09d5d8ad20bd\">\n",
              "  <button class=\"colab-df-quickchart\" onclick=\"quickchart('df-7e4179b9-f6a4-4dd8-9ab2-09d5d8ad20bd')\"\n",
              "            title=\"Suggest charts\"\n",
              "            style=\"display:none;\">\n",
              "\n",
              "<svg xmlns=\"http://www.w3.org/2000/svg\" height=\"24px\"viewBox=\"0 0 24 24\"\n",
              "     width=\"24px\">\n",
              "    <g>\n",
              "        <path d=\"M19 3H5c-1.1 0-2 .9-2 2v14c0 1.1.9 2 2 2h14c1.1 0 2-.9 2-2V5c0-1.1-.9-2-2-2zM9 17H7v-7h2v7zm4 0h-2V7h2v10zm4 0h-2v-4h2v4z\"/>\n",
              "    </g>\n",
              "</svg>\n",
              "  </button>\n",
              "\n",
              "<style>\n",
              "  .colab-df-quickchart {\n",
              "      --bg-color: #E8F0FE;\n",
              "      --fill-color: #1967D2;\n",
              "      --hover-bg-color: #E2EBFA;\n",
              "      --hover-fill-color: #174EA6;\n",
              "      --disabled-fill-color: #AAA;\n",
              "      --disabled-bg-color: #DDD;\n",
              "  }\n",
              "\n",
              "  [theme=dark] .colab-df-quickchart {\n",
              "      --bg-color: #3B4455;\n",
              "      --fill-color: #D2E3FC;\n",
              "      --hover-bg-color: #434B5C;\n",
              "      --hover-fill-color: #FFFFFF;\n",
              "      --disabled-bg-color: #3B4455;\n",
              "      --disabled-fill-color: #666;\n",
              "  }\n",
              "\n",
              "  .colab-df-quickchart {\n",
              "    background-color: var(--bg-color);\n",
              "    border: none;\n",
              "    border-radius: 50%;\n",
              "    cursor: pointer;\n",
              "    display: none;\n",
              "    fill: var(--fill-color);\n",
              "    height: 32px;\n",
              "    padding: 0;\n",
              "    width: 32px;\n",
              "  }\n",
              "\n",
              "  .colab-df-quickchart:hover {\n",
              "    background-color: var(--hover-bg-color);\n",
              "    box-shadow: 0 1px 2px rgba(60, 64, 67, 0.3), 0 1px 3px 1px rgba(60, 64, 67, 0.15);\n",
              "    fill: var(--button-hover-fill-color);\n",
              "  }\n",
              "\n",
              "  .colab-df-quickchart-complete:disabled,\n",
              "  .colab-df-quickchart-complete:disabled:hover {\n",
              "    background-color: var(--disabled-bg-color);\n",
              "    fill: var(--disabled-fill-color);\n",
              "    box-shadow: none;\n",
              "  }\n",
              "\n",
              "  .colab-df-spinner {\n",
              "    border: 2px solid var(--fill-color);\n",
              "    border-color: transparent;\n",
              "    border-bottom-color: var(--fill-color);\n",
              "    animation:\n",
              "      spin 1s steps(1) infinite;\n",
              "  }\n",
              "\n",
              "  @keyframes spin {\n",
              "    0% {\n",
              "      border-color: transparent;\n",
              "      border-bottom-color: var(--fill-color);\n",
              "      border-left-color: var(--fill-color);\n",
              "    }\n",
              "    20% {\n",
              "      border-color: transparent;\n",
              "      border-left-color: var(--fill-color);\n",
              "      border-top-color: var(--fill-color);\n",
              "    }\n",
              "    30% {\n",
              "      border-color: transparent;\n",
              "      border-left-color: var(--fill-color);\n",
              "      border-top-color: var(--fill-color);\n",
              "      border-right-color: var(--fill-color);\n",
              "    }\n",
              "    40% {\n",
              "      border-color: transparent;\n",
              "      border-right-color: var(--fill-color);\n",
              "      border-top-color: var(--fill-color);\n",
              "    }\n",
              "    60% {\n",
              "      border-color: transparent;\n",
              "      border-right-color: var(--fill-color);\n",
              "    }\n",
              "    80% {\n",
              "      border-color: transparent;\n",
              "      border-right-color: var(--fill-color);\n",
              "      border-bottom-color: var(--fill-color);\n",
              "    }\n",
              "    90% {\n",
              "      border-color: transparent;\n",
              "      border-bottom-color: var(--fill-color);\n",
              "    }\n",
              "  }\n",
              "</style>\n",
              "\n",
              "  <script>\n",
              "    async function quickchart(key) {\n",
              "      const quickchartButtonEl =\n",
              "        document.querySelector('#' + key + ' button');\n",
              "      quickchartButtonEl.disabled = true;  // To prevent multiple clicks.\n",
              "      quickchartButtonEl.classList.add('colab-df-spinner');\n",
              "      try {\n",
              "        const charts = await google.colab.kernel.invokeFunction(\n",
              "            'suggestCharts', [key], {});\n",
              "      } catch (error) {\n",
              "        console.error('Error during call to suggestCharts:', error);\n",
              "      }\n",
              "      quickchartButtonEl.classList.remove('colab-df-spinner');\n",
              "      quickchartButtonEl.classList.add('colab-df-quickchart-complete');\n",
              "    }\n",
              "    (() => {\n",
              "      let quickchartButtonEl =\n",
              "        document.querySelector('#df-7e4179b9-f6a4-4dd8-9ab2-09d5d8ad20bd button');\n",
              "      quickchartButtonEl.style.display =\n",
              "        google.colab.kernel.accessAllowed ? 'block' : 'none';\n",
              "    })();\n",
              "  </script>\n",
              "</div>\n",
              "    </div>\n",
              "  </div>\n"
            ]
          },
          "metadata": {},
          "execution_count": 41
        }
      ]
    },
    {
      "cell_type": "code",
      "source": [
        "fig = px.line(uva_usd_df, x=\"fecha\", y=[\"usd_en_uva\"], title='USD/UVA')\n",
        "fig.show()"
      ],
      "metadata": {
        "colab": {
          "base_uri": "https://localhost:8080/",
          "height": 542
        },
        "id": "ltNGD1mCNYyO",
        "outputId": "7a4559ff-4004-4cb5-da02-374a604e0000"
      },
      "execution_count": null,
      "outputs": [
        {
          "output_type": "display_data",
          "data": {
            "application/vnd.plotly.v1+json": {
              "data": [
                {
                  "hovertemplate": "variable=usd_en_uva<br>fecha=%{x}<br>value=%{y}<extra></extra>",
                  "legendgroup": "usd_en_uva",
                  "line": {
                    "color": "#636efa",
                    "dash": "solid"
                  },
                  "marker": {
                    "symbol": "circle"
                  },
                  "mode": "lines",
                  "name": "usd_en_uva",
                  "orientation": "v",
                  "showlegend": true,
                  "x": [
                    "2022-01-03T00:00:00",
                    "2022-01-04T00:00:00",
                    "2022-01-05T00:00:00",
                    "2022-01-06T00:00:00",
                    "2022-01-07T00:00:00",
                    "2022-01-10T00:00:00",
                    "2022-01-11T00:00:00",
                    "2022-01-12T00:00:00",
                    "2022-01-13T00:00:00",
                    "2022-01-14T00:00:00",
                    "2022-01-17T00:00:00",
                    "2022-01-18T00:00:00",
                    "2022-01-19T00:00:00",
                    "2022-01-20T00:00:00",
                    "2022-01-21T00:00:00",
                    "2022-01-24T00:00:00",
                    "2022-01-25T00:00:00",
                    "2022-01-26T00:00:00",
                    "2022-01-27T00:00:00",
                    "2022-01-28T00:00:00",
                    "2022-01-31T00:00:00",
                    "2022-02-01T00:00:00",
                    "2022-02-02T00:00:00",
                    "2022-02-03T00:00:00",
                    "2022-02-04T00:00:00",
                    "2022-02-07T00:00:00",
                    "2022-02-08T00:00:00",
                    "2022-02-09T00:00:00",
                    "2022-02-10T00:00:00",
                    "2022-02-11T00:00:00",
                    "2022-02-14T00:00:00",
                    "2022-02-15T00:00:00",
                    "2022-02-16T00:00:00",
                    "2022-02-17T00:00:00",
                    "2022-02-18T00:00:00",
                    "2022-02-21T00:00:00",
                    "2022-02-22T00:00:00",
                    "2022-02-23T00:00:00",
                    "2022-02-24T00:00:00",
                    "2022-02-25T00:00:00",
                    "2022-03-02T00:00:00",
                    "2022-03-03T00:00:00",
                    "2022-03-04T00:00:00",
                    "2022-03-07T00:00:00",
                    "2022-03-07T00:00:00",
                    "2022-03-07T00:00:00",
                    "2022-03-07T00:00:00",
                    "2022-03-08T00:00:00",
                    "2022-03-09T00:00:00",
                    "2022-03-10T00:00:00",
                    "2022-03-11T00:00:00",
                    "2022-03-14T00:00:00",
                    "2022-03-15T00:00:00",
                    "2022-03-16T00:00:00",
                    "2022-03-17T00:00:00",
                    "2022-03-18T00:00:00",
                    "2022-03-21T00:00:00",
                    "2022-03-22T00:00:00",
                    "2022-03-23T00:00:00",
                    "2022-03-25T00:00:00",
                    "2022-03-28T00:00:00",
                    "2022-03-29T00:00:00",
                    "2022-03-30T00:00:00",
                    "2022-03-31T00:00:00",
                    "2022-04-01T00:00:00",
                    "2022-04-04T00:00:00",
                    "2022-04-05T00:00:00",
                    "2022-04-06T00:00:00",
                    "2022-04-07T00:00:00",
                    "2022-04-08T00:00:00",
                    "2022-04-11T00:00:00",
                    "2022-04-12T00:00:00",
                    "2022-04-13T00:00:00",
                    "2022-04-18T00:00:00",
                    "2022-04-19T00:00:00",
                    "2022-04-20T00:00:00",
                    "2022-04-21T00:00:00",
                    "2022-04-22T00:00:00",
                    "2022-04-25T00:00:00",
                    "2022-04-26T00:00:00",
                    "2022-04-27T00:00:00",
                    "2022-04-28T00:00:00",
                    "2022-04-29T00:00:00",
                    "2022-05-02T00:00:00",
                    "2022-05-03T00:00:00",
                    "2022-05-04T00:00:00",
                    "2022-05-05T00:00:00",
                    "2022-05-06T00:00:00",
                    "2022-05-09T00:00:00",
                    "2022-05-10T00:00:00",
                    "2022-05-11T00:00:00",
                    "2022-05-12T00:00:00",
                    "2022-05-13T00:00:00",
                    "2022-05-16T00:00:00",
                    "2022-05-17T00:00:00",
                    "2022-05-19T00:00:00",
                    "2022-05-20T00:00:00",
                    "2022-05-23T00:00:00",
                    "2022-05-24T00:00:00",
                    "2022-05-26T00:00:00",
                    "2022-05-27T00:00:00",
                    "2022-05-30T00:00:00",
                    "2022-05-31T00:00:00",
                    "2022-06-01T00:00:00",
                    "2022-06-02T00:00:00",
                    "2022-06-03T00:00:00",
                    "2022-06-06T00:00:00",
                    "2022-06-07T00:00:00",
                    "2022-06-08T00:00:00",
                    "2022-06-09T00:00:00",
                    "2022-06-10T00:00:00",
                    "2022-06-13T00:00:00",
                    "2022-06-14T00:00:00",
                    "2022-06-15T00:00:00",
                    "2022-06-16T00:00:00",
                    "2022-06-21T00:00:00",
                    "2022-06-22T00:00:00",
                    "2022-06-23T00:00:00",
                    "2022-06-24T00:00:00",
                    "2022-06-27T00:00:00",
                    "2022-06-28T00:00:00",
                    "2022-06-29T00:00:00",
                    "2022-06-30T00:00:00",
                    "2022-07-01T00:00:00",
                    "2022-07-04T00:00:00",
                    "2022-07-05T00:00:00",
                    "2022-07-06T00:00:00",
                    "2022-07-07T00:00:00",
                    "2022-07-08T00:00:00",
                    "2022-07-11T00:00:00",
                    "2022-07-12T00:00:00",
                    "2022-07-13T00:00:00",
                    "2022-07-14T00:00:00",
                    "2022-07-15T00:00:00",
                    "2022-07-18T00:00:00",
                    "2022-07-19T00:00:00",
                    "2022-07-20T00:00:00",
                    "2022-07-21T00:00:00",
                    "2022-07-22T00:00:00",
                    "2022-07-25T00:00:00",
                    "2022-07-26T00:00:00",
                    "2022-07-27T00:00:00",
                    "2022-07-28T00:00:00",
                    "2022-07-29T00:00:00",
                    "2022-08-01T00:00:00",
                    "2022-08-02T00:00:00",
                    "2022-08-03T00:00:00",
                    "2022-08-04T00:00:00",
                    "2022-08-05T00:00:00",
                    "2022-08-08T00:00:00",
                    "2022-08-09T00:00:00",
                    "2022-08-10T00:00:00",
                    "2022-08-11T00:00:00",
                    "2022-08-12T00:00:00",
                    "2022-08-16T00:00:00",
                    "2022-08-17T00:00:00",
                    "2022-08-18T00:00:00",
                    "2022-08-19T00:00:00",
                    "2022-08-22T00:00:00",
                    "2022-08-23T00:00:00",
                    "2022-08-24T00:00:00",
                    "2022-08-25T00:00:00",
                    "2022-08-26T00:00:00",
                    "2022-08-29T00:00:00",
                    "2022-08-30T00:00:00",
                    "2022-08-31T00:00:00",
                    "2022-09-01T00:00:00",
                    "2022-09-02T00:00:00",
                    "2022-09-05T00:00:00",
                    "2022-09-06T00:00:00",
                    "2022-09-07T00:00:00",
                    "2022-09-08T00:00:00",
                    "2022-09-09T00:00:00",
                    "2022-09-12T00:00:00",
                    "2022-09-13T00:00:00",
                    "2022-09-14T00:00:00",
                    "2022-09-15T00:00:00",
                    "2022-09-16T00:00:00",
                    "2022-09-19T00:00:00",
                    "2022-09-20T00:00:00",
                    "2022-09-21T00:00:00",
                    "2022-09-22T00:00:00",
                    "2022-09-22T00:00:00",
                    "2022-09-23T00:00:00",
                    "2022-09-26T00:00:00",
                    "2022-09-27T00:00:00",
                    "2022-09-28T00:00:00",
                    "2022-09-29T00:00:00",
                    "2022-09-30T00:00:00",
                    "2022-10-03T00:00:00",
                    "2022-10-04T00:00:00",
                    "2022-10-05T00:00:00",
                    "2022-10-06T00:00:00",
                    "2022-10-11T00:00:00",
                    "2022-10-12T00:00:00",
                    "2022-10-13T00:00:00",
                    "2022-10-14T00:00:00",
                    "2022-10-17T00:00:00",
                    "2022-10-18T00:00:00",
                    "2022-10-19T00:00:00",
                    "2022-10-20T00:00:00",
                    "2022-10-21T00:00:00",
                    "2022-10-24T00:00:00",
                    "2022-10-25T00:00:00",
                    "2022-10-26T00:00:00",
                    "2022-10-27T00:00:00",
                    "2022-10-28T00:00:00",
                    "2022-10-31T00:00:00",
                    "2022-11-01T00:00:00",
                    "2022-11-02T00:00:00",
                    "2022-11-03T00:00:00",
                    "2022-11-04T00:00:00",
                    "2022-11-07T00:00:00",
                    "2022-11-08T00:00:00",
                    "2022-11-09T00:00:00",
                    "2022-11-10T00:00:00",
                    "2022-11-11T00:00:00",
                    "2022-11-14T00:00:00",
                    "2022-11-15T00:00:00",
                    "2022-11-16T00:00:00",
                    "2022-11-17T00:00:00",
                    "2022-11-18T00:00:00",
                    "2022-11-18T00:00:00",
                    "2022-11-18T00:00:00",
                    "2022-11-22T00:00:00",
                    "2022-11-23T00:00:00",
                    "2022-11-24T00:00:00",
                    "2022-11-25T00:00:00",
                    "2022-11-28T00:00:00",
                    "2022-11-29T00:00:00",
                    "2022-11-30T00:00:00",
                    "2022-12-01T00:00:00",
                    "2022-12-02T00:00:00",
                    "2022-12-05T00:00:00",
                    "2022-12-06T00:00:00",
                    "2022-12-07T00:00:00",
                    "2022-12-12T00:00:00",
                    "2022-12-13T00:00:00",
                    "2022-12-14T00:00:00",
                    "2022-12-15T00:00:00",
                    "2022-12-16T00:00:00",
                    "2022-12-19T00:00:00",
                    "2022-12-20T00:00:00",
                    "2022-12-21T00:00:00",
                    "2022-12-22T00:00:00",
                    "2022-12-23T00:00:00",
                    "2022-12-26T00:00:00",
                    "2022-12-27T00:00:00",
                    "2022-12-28T00:00:00",
                    "2022-12-29T00:00:00",
                    "2022-12-30T00:00:00"
                  ],
                  "xaxis": "x",
                  "y": [
                    2.070096331215413,
                    2.070128808014721,
                    2.078864031055266,
                    2.0873736858221905,
                    2.080571137174911,
                    2.0584938347090596,
                    2.084180561203741,
                    2.0774075579032916,
                    2.0858708891595614,
                    2.084178498985801,
                    2.0774219700040533,
                    2.091120315183352,
                    2.108768035516093,
                    2.116295475158722,
                    2.1640664318067437,
                    2.1614557152910425,
                    2.1586697385555444,
                    2.1710855427713858,
                    2.1834715699010694,
                    2.0810460125761057,
                    2.0835410228292295,
                    2.0858164481525625,
                    2.1081349206349205,
                    2.1006738010305193,
                    2.0783847980997625,
                    2.0759193357058128,
                    2.078203486654191,
                    2.0954254795868175,
                    2.0782155841603616,
                    2.06595347924232,
                    2.0682219172711234,
                    2.0607481199335873,
                    2.058335772119793,
                    2.045786653677545,
                    2.013814573402082,
                    2.0159331584572038,
                    1.9932268988872763,
                    1.9905304860372983,
                    1.9924739482825164,
                    1.994603969936404,
                    1.9438029253271747,
                    1.9114976584153685,
                    1.8803092488307722,
                    1.8776210446054136,
                    1.8776210446054136,
                    1.8776210446054136,
                    1.8776210446054136,
                    1.8794494542002849,
                    1.9006540904351124,
                    1.883756152972359,
                    1.8718094157685763,
                    1.8502784857925043,
                    1.8427980443775855,
                    1.8589803774293492,
                    1.8563660228764298,
                    1.8582662422767273,
                    1.8508132361189007,
                    1.8332402754513308,
                    1.8305147742055379,
                    1.8370755242159955,
                    1.81313598519889,
                    1.8051206483698656,
                    1.8116608423763105,
                    1.7998163452708906,
                    1.797175866495507,
                    1.785387291704816,
                    1.7500683620453925,
                    1.7475197961226905,
                    1.7448200654307524,
                    1.7468239564428312,
                    1.730699528814788,
                    1.7230491655390168,
                    1.7204107368041794,
                    1.7179348803741679,
                    1.7284390591589451,
                    1.7380867709815078,
                    1.7565649396735274,
                    1.7615296096308755,
                    1.7798781026411095,
                    1.8297498903027642,
                    1.7732049036777582,
                    1.7476406850751487,
                    1.7133141511901648,
                    1.7139377066295458,
                    1.724435992739217,
                    1.6991547352078662,
                    1.6998020483690508,
                    1.6918584678804536,
                    1.692518639129317,
                    1.685823754789272,
                    1.707731520815633,
                    1.6912512716174974,
                    1.6876744776245665,
                    1.6966320587490504,
                    1.711265833403238,
                    1.6913673281420079,
                    1.6766766766766767,
                    1.6859545416701358,
                    1.688881529927974,
                    1.6775473101396579,
                    1.6670782909360335,
                    1.6639276910435497,
                    1.6422910368494157,
                    1.6473658457021692,
                    1.6442816442816444,
                    1.6330841728956775,
                    1.6300381153191144,
                    1.6289008950891057,
                    1.6419832582099163,
                    1.6389491443721378,
                    1.651832250821907,
                    1.6968144709460542,
                    1.7508953442101074,
                    1.6919532925569942,
                    1.6809387884554392,
                    1.7098076466397532,
                    1.7271157167530224,
                    1.7241379310344829,
                    1.736953290039903,
                    1.780971723168255,
                    1.8265195087828385,
                    1.8235431054551097,
                    1.8128292531763246,
                    1.8174787316318637,
                    1.9303528685043627,
                    1.8592501536570376,
                    1.8791225648105538,
                    1.8914158817673634,
                    2.0105496521672657,
                    1.9690147294512708,
                    1.9896719319562575,
                    2.0697498104624716,
                    2.111716621253406,
                    2.1384313132839656,
                    2.119794809897405,
                    2.184356703197718,
                    2.3006594724220624,
                    2.4465060601526263,
                    2.4497722010605725,
                    2.3264484378495265,
                    2.3223030123163673,
                    2.3405673653803425,
                    2.248021888634179,
                    2.111324376199616,
                    2.0047169811320753,
                    2.0607216192431794,
                    2.1084998901822973,
                    2.053793305072358,
                    2.0649398029916086,
                    2.0543454505718657,
                    2.0513192229631776,
                    2.062377885519936,
                    2.073399797717093,
                    2.0555355210962856,
                    2.059331797235023,
                    2.0514653323802716,
                    2.0537688083862227,
                    2.063322660974742,
                    2.037339390927806,
                    2.0585125132181883,
                    2.039668026445351,
                    2.0210526315789474,
                    2.0163831127914302,
                    2.004749930148086,
                    1.9840443981963232,
                    1.9724548411654785,
                    1.9334346084794918,
                    1.9290389252497415,
                    1.828304350814489,
                    1.8566552901023892,
                    1.906967241027038,
                    1.8753822110484475,
                    1.8303843807199514,
                    1.81264795400744,
                    1.8068242880171952,
                    1.82951347004423,
                    1.8186680930730141,
                    1.821092655593356,
                    1.816971713810316,
                    1.870826998082898,
                    1.866631488688081,
                    1.8624547548535704,
                    1.8492925304376442,
                    1.8581746552856204,
                    1.8474842767295598,
                    1.8610098906819363,
                    1.856901701077782,
                    1.8397356999416985,
                    1.8355739400206825,
                    1.805636164312891,
                    1.7806815270304892,
                    1.776698408640634,
                    1.7407383791366446,
                    1.7559485939686983,
                    1.7929038751887267,
                    1.8014059753954306,
                    1.7910821643286572,
                    1.7683079230192453,
                    1.7760665714463144,
                    1.7850502045370025,
                    1.7754407670893906,
                    1.7719330740260542,
                    1.76854818831649,
                    1.7705078723273908,
                    1.7609293793946803,
                    1.75149517881118,
                    1.7541722499695456,
                    1.7386018237082066,
                    1.7285144445787501,
                    1.7312100373989625,
                    1.7037928958458761,
                    1.712431652947185,
                    1.7151424287856072,
                    1.7111853088480802,
                    1.7137756620053555,
                    1.7104169141228174,
                    1.7131001778304684,
                    1.7156717742412588,
                    1.7527349723561934,
                    1.784561197534488,
                    1.7750439367311073,
                    1.7715154349859683,
                    1.7715154349859683,
                    1.7656688493919552,
                    1.7737324231285374,
                    1.7825105619538169,
                    1.8192318798729425,
                    1.8213256484149856,
                    1.8061547310900201,
                    1.777955636862566,
                    1.7685988133272479,
                    1.7593805158571998,
                    1.7500994374680379,
                    1.7465267933087611,
                    1.7528039226737304,
                    1.754879352044547,
                    1.7288801571709234,
                    1.72796977441938,
                    1.7522457580126427,
                    1.7486580709423938,
                    1.7506074663132316,
                    1.7699602999558888,
                    1.7672886937431396,
                    1.7590968873301185,
                    1.7837601225651127,
                    1.8355640535372848,
                    1.8654884634266076,
                    1.9111738516668475,
                    1.9136940258050525,
                    1.8728010825439783,
                    1.8483489163919364
                  ],
                  "yaxis": "y",
                  "type": "scatter"
                }
              ],
              "layout": {
                "template": {
                  "data": {
                    "histogram2dcontour": [
                      {
                        "type": "histogram2dcontour",
                        "colorbar": {
                          "outlinewidth": 0,
                          "ticks": ""
                        },
                        "colorscale": [
                          [
                            0,
                            "#0d0887"
                          ],
                          [
                            0.1111111111111111,
                            "#46039f"
                          ],
                          [
                            0.2222222222222222,
                            "#7201a8"
                          ],
                          [
                            0.3333333333333333,
                            "#9c179e"
                          ],
                          [
                            0.4444444444444444,
                            "#bd3786"
                          ],
                          [
                            0.5555555555555556,
                            "#d8576b"
                          ],
                          [
                            0.6666666666666666,
                            "#ed7953"
                          ],
                          [
                            0.7777777777777778,
                            "#fb9f3a"
                          ],
                          [
                            0.8888888888888888,
                            "#fdca26"
                          ],
                          [
                            1,
                            "#f0f921"
                          ]
                        ]
                      }
                    ],
                    "choropleth": [
                      {
                        "type": "choropleth",
                        "colorbar": {
                          "outlinewidth": 0,
                          "ticks": ""
                        }
                      }
                    ],
                    "histogram2d": [
                      {
                        "type": "histogram2d",
                        "colorbar": {
                          "outlinewidth": 0,
                          "ticks": ""
                        },
                        "colorscale": [
                          [
                            0,
                            "#0d0887"
                          ],
                          [
                            0.1111111111111111,
                            "#46039f"
                          ],
                          [
                            0.2222222222222222,
                            "#7201a8"
                          ],
                          [
                            0.3333333333333333,
                            "#9c179e"
                          ],
                          [
                            0.4444444444444444,
                            "#bd3786"
                          ],
                          [
                            0.5555555555555556,
                            "#d8576b"
                          ],
                          [
                            0.6666666666666666,
                            "#ed7953"
                          ],
                          [
                            0.7777777777777778,
                            "#fb9f3a"
                          ],
                          [
                            0.8888888888888888,
                            "#fdca26"
                          ],
                          [
                            1,
                            "#f0f921"
                          ]
                        ]
                      }
                    ],
                    "heatmap": [
                      {
                        "type": "heatmap",
                        "colorbar": {
                          "outlinewidth": 0,
                          "ticks": ""
                        },
                        "colorscale": [
                          [
                            0,
                            "#0d0887"
                          ],
                          [
                            0.1111111111111111,
                            "#46039f"
                          ],
                          [
                            0.2222222222222222,
                            "#7201a8"
                          ],
                          [
                            0.3333333333333333,
                            "#9c179e"
                          ],
                          [
                            0.4444444444444444,
                            "#bd3786"
                          ],
                          [
                            0.5555555555555556,
                            "#d8576b"
                          ],
                          [
                            0.6666666666666666,
                            "#ed7953"
                          ],
                          [
                            0.7777777777777778,
                            "#fb9f3a"
                          ],
                          [
                            0.8888888888888888,
                            "#fdca26"
                          ],
                          [
                            1,
                            "#f0f921"
                          ]
                        ]
                      }
                    ],
                    "heatmapgl": [
                      {
                        "type": "heatmapgl",
                        "colorbar": {
                          "outlinewidth": 0,
                          "ticks": ""
                        },
                        "colorscale": [
                          [
                            0,
                            "#0d0887"
                          ],
                          [
                            0.1111111111111111,
                            "#46039f"
                          ],
                          [
                            0.2222222222222222,
                            "#7201a8"
                          ],
                          [
                            0.3333333333333333,
                            "#9c179e"
                          ],
                          [
                            0.4444444444444444,
                            "#bd3786"
                          ],
                          [
                            0.5555555555555556,
                            "#d8576b"
                          ],
                          [
                            0.6666666666666666,
                            "#ed7953"
                          ],
                          [
                            0.7777777777777778,
                            "#fb9f3a"
                          ],
                          [
                            0.8888888888888888,
                            "#fdca26"
                          ],
                          [
                            1,
                            "#f0f921"
                          ]
                        ]
                      }
                    ],
                    "contourcarpet": [
                      {
                        "type": "contourcarpet",
                        "colorbar": {
                          "outlinewidth": 0,
                          "ticks": ""
                        }
                      }
                    ],
                    "contour": [
                      {
                        "type": "contour",
                        "colorbar": {
                          "outlinewidth": 0,
                          "ticks": ""
                        },
                        "colorscale": [
                          [
                            0,
                            "#0d0887"
                          ],
                          [
                            0.1111111111111111,
                            "#46039f"
                          ],
                          [
                            0.2222222222222222,
                            "#7201a8"
                          ],
                          [
                            0.3333333333333333,
                            "#9c179e"
                          ],
                          [
                            0.4444444444444444,
                            "#bd3786"
                          ],
                          [
                            0.5555555555555556,
                            "#d8576b"
                          ],
                          [
                            0.6666666666666666,
                            "#ed7953"
                          ],
                          [
                            0.7777777777777778,
                            "#fb9f3a"
                          ],
                          [
                            0.8888888888888888,
                            "#fdca26"
                          ],
                          [
                            1,
                            "#f0f921"
                          ]
                        ]
                      }
                    ],
                    "surface": [
                      {
                        "type": "surface",
                        "colorbar": {
                          "outlinewidth": 0,
                          "ticks": ""
                        },
                        "colorscale": [
                          [
                            0,
                            "#0d0887"
                          ],
                          [
                            0.1111111111111111,
                            "#46039f"
                          ],
                          [
                            0.2222222222222222,
                            "#7201a8"
                          ],
                          [
                            0.3333333333333333,
                            "#9c179e"
                          ],
                          [
                            0.4444444444444444,
                            "#bd3786"
                          ],
                          [
                            0.5555555555555556,
                            "#d8576b"
                          ],
                          [
                            0.6666666666666666,
                            "#ed7953"
                          ],
                          [
                            0.7777777777777778,
                            "#fb9f3a"
                          ],
                          [
                            0.8888888888888888,
                            "#fdca26"
                          ],
                          [
                            1,
                            "#f0f921"
                          ]
                        ]
                      }
                    ],
                    "mesh3d": [
                      {
                        "type": "mesh3d",
                        "colorbar": {
                          "outlinewidth": 0,
                          "ticks": ""
                        }
                      }
                    ],
                    "scatter": [
                      {
                        "fillpattern": {
                          "fillmode": "overlay",
                          "size": 10,
                          "solidity": 0.2
                        },
                        "type": "scatter"
                      }
                    ],
                    "parcoords": [
                      {
                        "type": "parcoords",
                        "line": {
                          "colorbar": {
                            "outlinewidth": 0,
                            "ticks": ""
                          }
                        }
                      }
                    ],
                    "scatterpolargl": [
                      {
                        "type": "scatterpolargl",
                        "marker": {
                          "colorbar": {
                            "outlinewidth": 0,
                            "ticks": ""
                          }
                        }
                      }
                    ],
                    "bar": [
                      {
                        "error_x": {
                          "color": "#2a3f5f"
                        },
                        "error_y": {
                          "color": "#2a3f5f"
                        },
                        "marker": {
                          "line": {
                            "color": "#E5ECF6",
                            "width": 0.5
                          },
                          "pattern": {
                            "fillmode": "overlay",
                            "size": 10,
                            "solidity": 0.2
                          }
                        },
                        "type": "bar"
                      }
                    ],
                    "scattergeo": [
                      {
                        "type": "scattergeo",
                        "marker": {
                          "colorbar": {
                            "outlinewidth": 0,
                            "ticks": ""
                          }
                        }
                      }
                    ],
                    "scatterpolar": [
                      {
                        "type": "scatterpolar",
                        "marker": {
                          "colorbar": {
                            "outlinewidth": 0,
                            "ticks": ""
                          }
                        }
                      }
                    ],
                    "histogram": [
                      {
                        "marker": {
                          "pattern": {
                            "fillmode": "overlay",
                            "size": 10,
                            "solidity": 0.2
                          }
                        },
                        "type": "histogram"
                      }
                    ],
                    "scattergl": [
                      {
                        "type": "scattergl",
                        "marker": {
                          "colorbar": {
                            "outlinewidth": 0,
                            "ticks": ""
                          }
                        }
                      }
                    ],
                    "scatter3d": [
                      {
                        "type": "scatter3d",
                        "line": {
                          "colorbar": {
                            "outlinewidth": 0,
                            "ticks": ""
                          }
                        },
                        "marker": {
                          "colorbar": {
                            "outlinewidth": 0,
                            "ticks": ""
                          }
                        }
                      }
                    ],
                    "scattermapbox": [
                      {
                        "type": "scattermapbox",
                        "marker": {
                          "colorbar": {
                            "outlinewidth": 0,
                            "ticks": ""
                          }
                        }
                      }
                    ],
                    "scatterternary": [
                      {
                        "type": "scatterternary",
                        "marker": {
                          "colorbar": {
                            "outlinewidth": 0,
                            "ticks": ""
                          }
                        }
                      }
                    ],
                    "scattercarpet": [
                      {
                        "type": "scattercarpet",
                        "marker": {
                          "colorbar": {
                            "outlinewidth": 0,
                            "ticks": ""
                          }
                        }
                      }
                    ],
                    "carpet": [
                      {
                        "aaxis": {
                          "endlinecolor": "#2a3f5f",
                          "gridcolor": "white",
                          "linecolor": "white",
                          "minorgridcolor": "white",
                          "startlinecolor": "#2a3f5f"
                        },
                        "baxis": {
                          "endlinecolor": "#2a3f5f",
                          "gridcolor": "white",
                          "linecolor": "white",
                          "minorgridcolor": "white",
                          "startlinecolor": "#2a3f5f"
                        },
                        "type": "carpet"
                      }
                    ],
                    "table": [
                      {
                        "cells": {
                          "fill": {
                            "color": "#EBF0F8"
                          },
                          "line": {
                            "color": "white"
                          }
                        },
                        "header": {
                          "fill": {
                            "color": "#C8D4E3"
                          },
                          "line": {
                            "color": "white"
                          }
                        },
                        "type": "table"
                      }
                    ],
                    "barpolar": [
                      {
                        "marker": {
                          "line": {
                            "color": "#E5ECF6",
                            "width": 0.5
                          },
                          "pattern": {
                            "fillmode": "overlay",
                            "size": 10,
                            "solidity": 0.2
                          }
                        },
                        "type": "barpolar"
                      }
                    ],
                    "pie": [
                      {
                        "automargin": true,
                        "type": "pie"
                      }
                    ]
                  },
                  "layout": {
                    "autotypenumbers": "strict",
                    "colorway": [
                      "#636efa",
                      "#EF553B",
                      "#00cc96",
                      "#ab63fa",
                      "#FFA15A",
                      "#19d3f3",
                      "#FF6692",
                      "#B6E880",
                      "#FF97FF",
                      "#FECB52"
                    ],
                    "font": {
                      "color": "#2a3f5f"
                    },
                    "hovermode": "closest",
                    "hoverlabel": {
                      "align": "left"
                    },
                    "paper_bgcolor": "white",
                    "plot_bgcolor": "#E5ECF6",
                    "polar": {
                      "bgcolor": "#E5ECF6",
                      "angularaxis": {
                        "gridcolor": "white",
                        "linecolor": "white",
                        "ticks": ""
                      },
                      "radialaxis": {
                        "gridcolor": "white",
                        "linecolor": "white",
                        "ticks": ""
                      }
                    },
                    "ternary": {
                      "bgcolor": "#E5ECF6",
                      "aaxis": {
                        "gridcolor": "white",
                        "linecolor": "white",
                        "ticks": ""
                      },
                      "baxis": {
                        "gridcolor": "white",
                        "linecolor": "white",
                        "ticks": ""
                      },
                      "caxis": {
                        "gridcolor": "white",
                        "linecolor": "white",
                        "ticks": ""
                      }
                    },
                    "coloraxis": {
                      "colorbar": {
                        "outlinewidth": 0,
                        "ticks": ""
                      }
                    },
                    "colorscale": {
                      "sequential": [
                        [
                          0,
                          "#0d0887"
                        ],
                        [
                          0.1111111111111111,
                          "#46039f"
                        ],
                        [
                          0.2222222222222222,
                          "#7201a8"
                        ],
                        [
                          0.3333333333333333,
                          "#9c179e"
                        ],
                        [
                          0.4444444444444444,
                          "#bd3786"
                        ],
                        [
                          0.5555555555555556,
                          "#d8576b"
                        ],
                        [
                          0.6666666666666666,
                          "#ed7953"
                        ],
                        [
                          0.7777777777777778,
                          "#fb9f3a"
                        ],
                        [
                          0.8888888888888888,
                          "#fdca26"
                        ],
                        [
                          1,
                          "#f0f921"
                        ]
                      ],
                      "sequentialminus": [
                        [
                          0,
                          "#0d0887"
                        ],
                        [
                          0.1111111111111111,
                          "#46039f"
                        ],
                        [
                          0.2222222222222222,
                          "#7201a8"
                        ],
                        [
                          0.3333333333333333,
                          "#9c179e"
                        ],
                        [
                          0.4444444444444444,
                          "#bd3786"
                        ],
                        [
                          0.5555555555555556,
                          "#d8576b"
                        ],
                        [
                          0.6666666666666666,
                          "#ed7953"
                        ],
                        [
                          0.7777777777777778,
                          "#fb9f3a"
                        ],
                        [
                          0.8888888888888888,
                          "#fdca26"
                        ],
                        [
                          1,
                          "#f0f921"
                        ]
                      ],
                      "diverging": [
                        [
                          0,
                          "#8e0152"
                        ],
                        [
                          0.1,
                          "#c51b7d"
                        ],
                        [
                          0.2,
                          "#de77ae"
                        ],
                        [
                          0.3,
                          "#f1b6da"
                        ],
                        [
                          0.4,
                          "#fde0ef"
                        ],
                        [
                          0.5,
                          "#f7f7f7"
                        ],
                        [
                          0.6,
                          "#e6f5d0"
                        ],
                        [
                          0.7,
                          "#b8e186"
                        ],
                        [
                          0.8,
                          "#7fbc41"
                        ],
                        [
                          0.9,
                          "#4d9221"
                        ],
                        [
                          1,
                          "#276419"
                        ]
                      ]
                    },
                    "xaxis": {
                      "gridcolor": "white",
                      "linecolor": "white",
                      "ticks": "",
                      "title": {
                        "standoff": 15
                      },
                      "zerolinecolor": "white",
                      "automargin": true,
                      "zerolinewidth": 2
                    },
                    "yaxis": {
                      "gridcolor": "white",
                      "linecolor": "white",
                      "ticks": "",
                      "title": {
                        "standoff": 15
                      },
                      "zerolinecolor": "white",
                      "automargin": true,
                      "zerolinewidth": 2
                    },
                    "scene": {
                      "xaxis": {
                        "backgroundcolor": "#E5ECF6",
                        "gridcolor": "white",
                        "linecolor": "white",
                        "showbackground": true,
                        "ticks": "",
                        "zerolinecolor": "white",
                        "gridwidth": 2
                      },
                      "yaxis": {
                        "backgroundcolor": "#E5ECF6",
                        "gridcolor": "white",
                        "linecolor": "white",
                        "showbackground": true,
                        "ticks": "",
                        "zerolinecolor": "white",
                        "gridwidth": 2
                      },
                      "zaxis": {
                        "backgroundcolor": "#E5ECF6",
                        "gridcolor": "white",
                        "linecolor": "white",
                        "showbackground": true,
                        "ticks": "",
                        "zerolinecolor": "white",
                        "gridwidth": 2
                      }
                    },
                    "shapedefaults": {
                      "line": {
                        "color": "#2a3f5f"
                      }
                    },
                    "annotationdefaults": {
                      "arrowcolor": "#2a3f5f",
                      "arrowhead": 0,
                      "arrowwidth": 1
                    },
                    "geo": {
                      "bgcolor": "white",
                      "landcolor": "#E5ECF6",
                      "subunitcolor": "white",
                      "showland": true,
                      "showlakes": true,
                      "lakecolor": "white"
                    },
                    "title": {
                      "x": 0.05
                    },
                    "mapbox": {
                      "style": "light"
                    }
                  }
                },
                "xaxis": {
                  "anchor": "y",
                  "domain": [
                    0,
                    1
                  ],
                  "title": {
                    "text": "fecha"
                  }
                },
                "yaxis": {
                  "anchor": "x",
                  "domain": [
                    0,
                    1
                  ],
                  "title": {
                    "text": "value"
                  }
                },
                "legend": {
                  "title": {
                    "text": "variable"
                  },
                  "tracegroupgap": 0
                },
                "title": {
                  "text": "USD/UVA"
                }
              },
              "config": {
                "plotlyServerURL": "https://plot.ly"
              }
            },
            "text/html": [
              "<div>                            <div id=\"abc1597a-f5a0-4201-a00d-3b3792769b7a\" class=\"plotly-graph-div\" style=\"height:525px; width:100%;\"></div>            <script type=\"text/javascript\">                require([\"plotly\"], function(Plotly) {                    window.PLOTLYENV=window.PLOTLYENV || {};                                    if (document.getElementById(\"abc1597a-f5a0-4201-a00d-3b3792769b7a\")) {                    Plotly.newPlot(                        \"abc1597a-f5a0-4201-a00d-3b3792769b7a\",                        [{\"hovertemplate\":\"variable=usd_en_uva\\u003cbr\\u003efecha=%{x}\\u003cbr\\u003evalue=%{y}\\u003cextra\\u003e\\u003c\\u002fextra\\u003e\",\"legendgroup\":\"usd_en_uva\",\"line\":{\"color\":\"#636efa\",\"dash\":\"solid\"},\"marker\":{\"symbol\":\"circle\"},\"mode\":\"lines\",\"name\":\"usd_en_uva\",\"orientation\":\"v\",\"showlegend\":true,\"x\":[\"2022-01-03T00:00:00\",\"2022-01-04T00:00:00\",\"2022-01-05T00:00:00\",\"2022-01-06T00:00:00\",\"2022-01-07T00:00:00\",\"2022-01-10T00:00:00\",\"2022-01-11T00:00:00\",\"2022-01-12T00:00:00\",\"2022-01-13T00:00:00\",\"2022-01-14T00:00:00\",\"2022-01-17T00:00:00\",\"2022-01-18T00:00:00\",\"2022-01-19T00:00:00\",\"2022-01-20T00:00:00\",\"2022-01-21T00:00:00\",\"2022-01-24T00:00:00\",\"2022-01-25T00:00:00\",\"2022-01-26T00:00:00\",\"2022-01-27T00:00:00\",\"2022-01-28T00:00:00\",\"2022-01-31T00:00:00\",\"2022-02-01T00:00:00\",\"2022-02-02T00:00:00\",\"2022-02-03T00:00:00\",\"2022-02-04T00:00:00\",\"2022-02-07T00:00:00\",\"2022-02-08T00:00:00\",\"2022-02-09T00:00:00\",\"2022-02-10T00:00:00\",\"2022-02-11T00:00:00\",\"2022-02-14T00:00:00\",\"2022-02-15T00:00:00\",\"2022-02-16T00:00:00\",\"2022-02-17T00:00:00\",\"2022-02-18T00:00:00\",\"2022-02-21T00:00:00\",\"2022-02-22T00:00:00\",\"2022-02-23T00:00:00\",\"2022-02-24T00:00:00\",\"2022-02-25T00:00:00\",\"2022-03-02T00:00:00\",\"2022-03-03T00:00:00\",\"2022-03-04T00:00:00\",\"2022-03-07T00:00:00\",\"2022-03-07T00:00:00\",\"2022-03-07T00:00:00\",\"2022-03-07T00:00:00\",\"2022-03-08T00:00:00\",\"2022-03-09T00:00:00\",\"2022-03-10T00:00:00\",\"2022-03-11T00:00:00\",\"2022-03-14T00:00:00\",\"2022-03-15T00:00:00\",\"2022-03-16T00:00:00\",\"2022-03-17T00:00:00\",\"2022-03-18T00:00:00\",\"2022-03-21T00:00:00\",\"2022-03-22T00:00:00\",\"2022-03-23T00:00:00\",\"2022-03-25T00:00:00\",\"2022-03-28T00:00:00\",\"2022-03-29T00:00:00\",\"2022-03-30T00:00:00\",\"2022-03-31T00:00:00\",\"2022-04-01T00:00:00\",\"2022-04-04T00:00:00\",\"2022-04-05T00:00:00\",\"2022-04-06T00:00:00\",\"2022-04-07T00:00:00\",\"2022-04-08T00:00:00\",\"2022-04-11T00:00:00\",\"2022-04-12T00:00:00\",\"2022-04-13T00:00:00\",\"2022-04-18T00:00:00\",\"2022-04-19T00:00:00\",\"2022-04-20T00:00:00\",\"2022-04-21T00:00:00\",\"2022-04-22T00:00:00\",\"2022-04-25T00:00:00\",\"2022-04-26T00:00:00\",\"2022-04-27T00:00:00\",\"2022-04-28T00:00:00\",\"2022-04-29T00:00:00\",\"2022-05-02T00:00:00\",\"2022-05-03T00:00:00\",\"2022-05-04T00:00:00\",\"2022-05-05T00:00:00\",\"2022-05-06T00:00:00\",\"2022-05-09T00:00:00\",\"2022-05-10T00:00:00\",\"2022-05-11T00:00:00\",\"2022-05-12T00:00:00\",\"2022-05-13T00:00:00\",\"2022-05-16T00:00:00\",\"2022-05-17T00:00:00\",\"2022-05-19T00:00:00\",\"2022-05-20T00:00:00\",\"2022-05-23T00:00:00\",\"2022-05-24T00:00:00\",\"2022-05-26T00:00:00\",\"2022-05-27T00:00:00\",\"2022-05-30T00:00:00\",\"2022-05-31T00:00:00\",\"2022-06-01T00:00:00\",\"2022-06-02T00:00:00\",\"2022-06-03T00:00:00\",\"2022-06-06T00:00:00\",\"2022-06-07T00:00:00\",\"2022-06-08T00:00:00\",\"2022-06-09T00:00:00\",\"2022-06-10T00:00:00\",\"2022-06-13T00:00:00\",\"2022-06-14T00:00:00\",\"2022-06-15T00:00:00\",\"2022-06-16T00:00:00\",\"2022-06-21T00:00:00\",\"2022-06-22T00:00:00\",\"2022-06-23T00:00:00\",\"2022-06-24T00:00:00\",\"2022-06-27T00:00:00\",\"2022-06-28T00:00:00\",\"2022-06-29T00:00:00\",\"2022-06-30T00:00:00\",\"2022-07-01T00:00:00\",\"2022-07-04T00:00:00\",\"2022-07-05T00:00:00\",\"2022-07-06T00:00:00\",\"2022-07-07T00:00:00\",\"2022-07-08T00:00:00\",\"2022-07-11T00:00:00\",\"2022-07-12T00:00:00\",\"2022-07-13T00:00:00\",\"2022-07-14T00:00:00\",\"2022-07-15T00:00:00\",\"2022-07-18T00:00:00\",\"2022-07-19T00:00:00\",\"2022-07-20T00:00:00\",\"2022-07-21T00:00:00\",\"2022-07-22T00:00:00\",\"2022-07-25T00:00:00\",\"2022-07-26T00:00:00\",\"2022-07-27T00:00:00\",\"2022-07-28T00:00:00\",\"2022-07-29T00:00:00\",\"2022-08-01T00:00:00\",\"2022-08-02T00:00:00\",\"2022-08-03T00:00:00\",\"2022-08-04T00:00:00\",\"2022-08-05T00:00:00\",\"2022-08-08T00:00:00\",\"2022-08-09T00:00:00\",\"2022-08-10T00:00:00\",\"2022-08-11T00:00:00\",\"2022-08-12T00:00:00\",\"2022-08-16T00:00:00\",\"2022-08-17T00:00:00\",\"2022-08-18T00:00:00\",\"2022-08-19T00:00:00\",\"2022-08-22T00:00:00\",\"2022-08-23T00:00:00\",\"2022-08-24T00:00:00\",\"2022-08-25T00:00:00\",\"2022-08-26T00:00:00\",\"2022-08-29T00:00:00\",\"2022-08-30T00:00:00\",\"2022-08-31T00:00:00\",\"2022-09-01T00:00:00\",\"2022-09-02T00:00:00\",\"2022-09-05T00:00:00\",\"2022-09-06T00:00:00\",\"2022-09-07T00:00:00\",\"2022-09-08T00:00:00\",\"2022-09-09T00:00:00\",\"2022-09-12T00:00:00\",\"2022-09-13T00:00:00\",\"2022-09-14T00:00:00\",\"2022-09-15T00:00:00\",\"2022-09-16T00:00:00\",\"2022-09-19T00:00:00\",\"2022-09-20T00:00:00\",\"2022-09-21T00:00:00\",\"2022-09-22T00:00:00\",\"2022-09-22T00:00:00\",\"2022-09-23T00:00:00\",\"2022-09-26T00:00:00\",\"2022-09-27T00:00:00\",\"2022-09-28T00:00:00\",\"2022-09-29T00:00:00\",\"2022-09-30T00:00:00\",\"2022-10-03T00:00:00\",\"2022-10-04T00:00:00\",\"2022-10-05T00:00:00\",\"2022-10-06T00:00:00\",\"2022-10-11T00:00:00\",\"2022-10-12T00:00:00\",\"2022-10-13T00:00:00\",\"2022-10-14T00:00:00\",\"2022-10-17T00:00:00\",\"2022-10-18T00:00:00\",\"2022-10-19T00:00:00\",\"2022-10-20T00:00:00\",\"2022-10-21T00:00:00\",\"2022-10-24T00:00:00\",\"2022-10-25T00:00:00\",\"2022-10-26T00:00:00\",\"2022-10-27T00:00:00\",\"2022-10-28T00:00:00\",\"2022-10-31T00:00:00\",\"2022-11-01T00:00:00\",\"2022-11-02T00:00:00\",\"2022-11-03T00:00:00\",\"2022-11-04T00:00:00\",\"2022-11-07T00:00:00\",\"2022-11-08T00:00:00\",\"2022-11-09T00:00:00\",\"2022-11-10T00:00:00\",\"2022-11-11T00:00:00\",\"2022-11-14T00:00:00\",\"2022-11-15T00:00:00\",\"2022-11-16T00:00:00\",\"2022-11-17T00:00:00\",\"2022-11-18T00:00:00\",\"2022-11-18T00:00:00\",\"2022-11-18T00:00:00\",\"2022-11-22T00:00:00\",\"2022-11-23T00:00:00\",\"2022-11-24T00:00:00\",\"2022-11-25T00:00:00\",\"2022-11-28T00:00:00\",\"2022-11-29T00:00:00\",\"2022-11-30T00:00:00\",\"2022-12-01T00:00:00\",\"2022-12-02T00:00:00\",\"2022-12-05T00:00:00\",\"2022-12-06T00:00:00\",\"2022-12-07T00:00:00\",\"2022-12-12T00:00:00\",\"2022-12-13T00:00:00\",\"2022-12-14T00:00:00\",\"2022-12-15T00:00:00\",\"2022-12-16T00:00:00\",\"2022-12-19T00:00:00\",\"2022-12-20T00:00:00\",\"2022-12-21T00:00:00\",\"2022-12-22T00:00:00\",\"2022-12-23T00:00:00\",\"2022-12-26T00:00:00\",\"2022-12-27T00:00:00\",\"2022-12-28T00:00:00\",\"2022-12-29T00:00:00\",\"2022-12-30T00:00:00\"],\"xaxis\":\"x\",\"y\":[2.070096331215413,2.070128808014721,2.078864031055266,2.0873736858221905,2.080571137174911,2.0584938347090596,2.084180561203741,2.0774075579032916,2.0858708891595614,2.084178498985801,2.0774219700040533,2.091120315183352,2.108768035516093,2.116295475158722,2.1640664318067437,2.1614557152910425,2.1586697385555444,2.1710855427713858,2.1834715699010694,2.0810460125761057,2.0835410228292295,2.0858164481525625,2.1081349206349205,2.1006738010305193,2.0783847980997625,2.0759193357058128,2.078203486654191,2.0954254795868175,2.0782155841603616,2.06595347924232,2.0682219172711234,2.0607481199335873,2.058335772119793,2.045786653677545,2.013814573402082,2.0159331584572038,1.9932268988872763,1.9905304860372983,1.9924739482825164,1.994603969936404,1.9438029253271747,1.9114976584153685,1.8803092488307722,1.8776210446054136,1.8776210446054136,1.8776210446054136,1.8776210446054136,1.8794494542002849,1.9006540904351124,1.883756152972359,1.8718094157685763,1.8502784857925043,1.8427980443775855,1.8589803774293492,1.8563660228764298,1.8582662422767273,1.8508132361189007,1.8332402754513308,1.8305147742055379,1.8370755242159955,1.81313598519889,1.8051206483698656,1.8116608423763105,1.7998163452708906,1.797175866495507,1.785387291704816,1.7500683620453925,1.7475197961226905,1.7448200654307524,1.7468239564428312,1.730699528814788,1.7230491655390168,1.7204107368041794,1.7179348803741679,1.7284390591589451,1.7380867709815078,1.7565649396735274,1.7615296096308755,1.7798781026411095,1.8297498903027642,1.7732049036777582,1.7476406850751487,1.7133141511901648,1.7139377066295458,1.724435992739217,1.6991547352078662,1.6998020483690508,1.6918584678804536,1.692518639129317,1.685823754789272,1.707731520815633,1.6912512716174974,1.6876744776245665,1.6966320587490504,1.711265833403238,1.6913673281420079,1.6766766766766767,1.6859545416701358,1.688881529927974,1.6775473101396579,1.6670782909360335,1.6639276910435497,1.6422910368494157,1.6473658457021692,1.6442816442816444,1.6330841728956775,1.6300381153191144,1.6289008950891057,1.6419832582099163,1.6389491443721378,1.651832250821907,1.6968144709460542,1.7508953442101074,1.6919532925569942,1.6809387884554392,1.7098076466397532,1.7271157167530224,1.7241379310344829,1.736953290039903,1.780971723168255,1.8265195087828385,1.8235431054551097,1.8128292531763246,1.8174787316318637,1.9303528685043627,1.8592501536570376,1.8791225648105538,1.8914158817673634,2.0105496521672657,1.9690147294512708,1.9896719319562575,2.0697498104624716,2.111716621253406,2.1384313132839656,2.119794809897405,2.184356703197718,2.3006594724220624,2.4465060601526263,2.4497722010605725,2.3264484378495265,2.3223030123163673,2.3405673653803425,2.248021888634179,2.111324376199616,2.0047169811320753,2.0607216192431794,2.1084998901822973,2.053793305072358,2.0649398029916086,2.0543454505718657,2.0513192229631776,2.062377885519936,2.073399797717093,2.0555355210962856,2.059331797235023,2.0514653323802716,2.0537688083862227,2.063322660974742,2.037339390927806,2.0585125132181883,2.039668026445351,2.0210526315789474,2.0163831127914302,2.004749930148086,1.9840443981963232,1.9724548411654785,1.9334346084794918,1.9290389252497415,1.828304350814489,1.8566552901023892,1.906967241027038,1.8753822110484475,1.8303843807199514,1.81264795400744,1.8068242880171952,1.82951347004423,1.8186680930730141,1.821092655593356,1.816971713810316,1.870826998082898,1.866631488688081,1.8624547548535704,1.8492925304376442,1.8581746552856204,1.8474842767295598,1.8610098906819363,1.856901701077782,1.8397356999416985,1.8355739400206825,1.805636164312891,1.7806815270304892,1.776698408640634,1.7407383791366446,1.7559485939686983,1.7929038751887267,1.8014059753954306,1.7910821643286572,1.7683079230192453,1.7760665714463144,1.7850502045370025,1.7754407670893906,1.7719330740260542,1.76854818831649,1.7705078723273908,1.7609293793946803,1.75149517881118,1.7541722499695456,1.7386018237082066,1.7285144445787501,1.7312100373989625,1.7037928958458761,1.712431652947185,1.7151424287856072,1.7111853088480802,1.7137756620053555,1.7104169141228174,1.7131001778304684,1.7156717742412588,1.7527349723561934,1.784561197534488,1.7750439367311073,1.7715154349859683,1.7715154349859683,1.7656688493919552,1.7737324231285374,1.7825105619538169,1.8192318798729425,1.8213256484149856,1.8061547310900201,1.777955636862566,1.7685988133272479,1.7593805158571998,1.7500994374680379,1.7465267933087611,1.7528039226737304,1.754879352044547,1.7288801571709234,1.72796977441938,1.7522457580126427,1.7486580709423938,1.7506074663132316,1.7699602999558888,1.7672886937431396,1.7590968873301185,1.7837601225651127,1.8355640535372848,1.8654884634266076,1.9111738516668475,1.9136940258050525,1.8728010825439783,1.8483489163919364],\"yaxis\":\"y\",\"type\":\"scatter\"}],                        {\"template\":{\"data\":{\"histogram2dcontour\":[{\"type\":\"histogram2dcontour\",\"colorbar\":{\"outlinewidth\":0,\"ticks\":\"\"},\"colorscale\":[[0.0,\"#0d0887\"],[0.1111111111111111,\"#46039f\"],[0.2222222222222222,\"#7201a8\"],[0.3333333333333333,\"#9c179e\"],[0.4444444444444444,\"#bd3786\"],[0.5555555555555556,\"#d8576b\"],[0.6666666666666666,\"#ed7953\"],[0.7777777777777778,\"#fb9f3a\"],[0.8888888888888888,\"#fdca26\"],[1.0,\"#f0f921\"]]}],\"choropleth\":[{\"type\":\"choropleth\",\"colorbar\":{\"outlinewidth\":0,\"ticks\":\"\"}}],\"histogram2d\":[{\"type\":\"histogram2d\",\"colorbar\":{\"outlinewidth\":0,\"ticks\":\"\"},\"colorscale\":[[0.0,\"#0d0887\"],[0.1111111111111111,\"#46039f\"],[0.2222222222222222,\"#7201a8\"],[0.3333333333333333,\"#9c179e\"],[0.4444444444444444,\"#bd3786\"],[0.5555555555555556,\"#d8576b\"],[0.6666666666666666,\"#ed7953\"],[0.7777777777777778,\"#fb9f3a\"],[0.8888888888888888,\"#fdca26\"],[1.0,\"#f0f921\"]]}],\"heatmap\":[{\"type\":\"heatmap\",\"colorbar\":{\"outlinewidth\":0,\"ticks\":\"\"},\"colorscale\":[[0.0,\"#0d0887\"],[0.1111111111111111,\"#46039f\"],[0.2222222222222222,\"#7201a8\"],[0.3333333333333333,\"#9c179e\"],[0.4444444444444444,\"#bd3786\"],[0.5555555555555556,\"#d8576b\"],[0.6666666666666666,\"#ed7953\"],[0.7777777777777778,\"#fb9f3a\"],[0.8888888888888888,\"#fdca26\"],[1.0,\"#f0f921\"]]}],\"heatmapgl\":[{\"type\":\"heatmapgl\",\"colorbar\":{\"outlinewidth\":0,\"ticks\":\"\"},\"colorscale\":[[0.0,\"#0d0887\"],[0.1111111111111111,\"#46039f\"],[0.2222222222222222,\"#7201a8\"],[0.3333333333333333,\"#9c179e\"],[0.4444444444444444,\"#bd3786\"],[0.5555555555555556,\"#d8576b\"],[0.6666666666666666,\"#ed7953\"],[0.7777777777777778,\"#fb9f3a\"],[0.8888888888888888,\"#fdca26\"],[1.0,\"#f0f921\"]]}],\"contourcarpet\":[{\"type\":\"contourcarpet\",\"colorbar\":{\"outlinewidth\":0,\"ticks\":\"\"}}],\"contour\":[{\"type\":\"contour\",\"colorbar\":{\"outlinewidth\":0,\"ticks\":\"\"},\"colorscale\":[[0.0,\"#0d0887\"],[0.1111111111111111,\"#46039f\"],[0.2222222222222222,\"#7201a8\"],[0.3333333333333333,\"#9c179e\"],[0.4444444444444444,\"#bd3786\"],[0.5555555555555556,\"#d8576b\"],[0.6666666666666666,\"#ed7953\"],[0.7777777777777778,\"#fb9f3a\"],[0.8888888888888888,\"#fdca26\"],[1.0,\"#f0f921\"]]}],\"surface\":[{\"type\":\"surface\",\"colorbar\":{\"outlinewidth\":0,\"ticks\":\"\"},\"colorscale\":[[0.0,\"#0d0887\"],[0.1111111111111111,\"#46039f\"],[0.2222222222222222,\"#7201a8\"],[0.3333333333333333,\"#9c179e\"],[0.4444444444444444,\"#bd3786\"],[0.5555555555555556,\"#d8576b\"],[0.6666666666666666,\"#ed7953\"],[0.7777777777777778,\"#fb9f3a\"],[0.8888888888888888,\"#fdca26\"],[1.0,\"#f0f921\"]]}],\"mesh3d\":[{\"type\":\"mesh3d\",\"colorbar\":{\"outlinewidth\":0,\"ticks\":\"\"}}],\"scatter\":[{\"fillpattern\":{\"fillmode\":\"overlay\",\"size\":10,\"solidity\":0.2},\"type\":\"scatter\"}],\"parcoords\":[{\"type\":\"parcoords\",\"line\":{\"colorbar\":{\"outlinewidth\":0,\"ticks\":\"\"}}}],\"scatterpolargl\":[{\"type\":\"scatterpolargl\",\"marker\":{\"colorbar\":{\"outlinewidth\":0,\"ticks\":\"\"}}}],\"bar\":[{\"error_x\":{\"color\":\"#2a3f5f\"},\"error_y\":{\"color\":\"#2a3f5f\"},\"marker\":{\"line\":{\"color\":\"#E5ECF6\",\"width\":0.5},\"pattern\":{\"fillmode\":\"overlay\",\"size\":10,\"solidity\":0.2}},\"type\":\"bar\"}],\"scattergeo\":[{\"type\":\"scattergeo\",\"marker\":{\"colorbar\":{\"outlinewidth\":0,\"ticks\":\"\"}}}],\"scatterpolar\":[{\"type\":\"scatterpolar\",\"marker\":{\"colorbar\":{\"outlinewidth\":0,\"ticks\":\"\"}}}],\"histogram\":[{\"marker\":{\"pattern\":{\"fillmode\":\"overlay\",\"size\":10,\"solidity\":0.2}},\"type\":\"histogram\"}],\"scattergl\":[{\"type\":\"scattergl\",\"marker\":{\"colorbar\":{\"outlinewidth\":0,\"ticks\":\"\"}}}],\"scatter3d\":[{\"type\":\"scatter3d\",\"line\":{\"colorbar\":{\"outlinewidth\":0,\"ticks\":\"\"}},\"marker\":{\"colorbar\":{\"outlinewidth\":0,\"ticks\":\"\"}}}],\"scattermapbox\":[{\"type\":\"scattermapbox\",\"marker\":{\"colorbar\":{\"outlinewidth\":0,\"ticks\":\"\"}}}],\"scatterternary\":[{\"type\":\"scatterternary\",\"marker\":{\"colorbar\":{\"outlinewidth\":0,\"ticks\":\"\"}}}],\"scattercarpet\":[{\"type\":\"scattercarpet\",\"marker\":{\"colorbar\":{\"outlinewidth\":0,\"ticks\":\"\"}}}],\"carpet\":[{\"aaxis\":{\"endlinecolor\":\"#2a3f5f\",\"gridcolor\":\"white\",\"linecolor\":\"white\",\"minorgridcolor\":\"white\",\"startlinecolor\":\"#2a3f5f\"},\"baxis\":{\"endlinecolor\":\"#2a3f5f\",\"gridcolor\":\"white\",\"linecolor\":\"white\",\"minorgridcolor\":\"white\",\"startlinecolor\":\"#2a3f5f\"},\"type\":\"carpet\"}],\"table\":[{\"cells\":{\"fill\":{\"color\":\"#EBF0F8\"},\"line\":{\"color\":\"white\"}},\"header\":{\"fill\":{\"color\":\"#C8D4E3\"},\"line\":{\"color\":\"white\"}},\"type\":\"table\"}],\"barpolar\":[{\"marker\":{\"line\":{\"color\":\"#E5ECF6\",\"width\":0.5},\"pattern\":{\"fillmode\":\"overlay\",\"size\":10,\"solidity\":0.2}},\"type\":\"barpolar\"}],\"pie\":[{\"automargin\":true,\"type\":\"pie\"}]},\"layout\":{\"autotypenumbers\":\"strict\",\"colorway\":[\"#636efa\",\"#EF553B\",\"#00cc96\",\"#ab63fa\",\"#FFA15A\",\"#19d3f3\",\"#FF6692\",\"#B6E880\",\"#FF97FF\",\"#FECB52\"],\"font\":{\"color\":\"#2a3f5f\"},\"hovermode\":\"closest\",\"hoverlabel\":{\"align\":\"left\"},\"paper_bgcolor\":\"white\",\"plot_bgcolor\":\"#E5ECF6\",\"polar\":{\"bgcolor\":\"#E5ECF6\",\"angularaxis\":{\"gridcolor\":\"white\",\"linecolor\":\"white\",\"ticks\":\"\"},\"radialaxis\":{\"gridcolor\":\"white\",\"linecolor\":\"white\",\"ticks\":\"\"}},\"ternary\":{\"bgcolor\":\"#E5ECF6\",\"aaxis\":{\"gridcolor\":\"white\",\"linecolor\":\"white\",\"ticks\":\"\"},\"baxis\":{\"gridcolor\":\"white\",\"linecolor\":\"white\",\"ticks\":\"\"},\"caxis\":{\"gridcolor\":\"white\",\"linecolor\":\"white\",\"ticks\":\"\"}},\"coloraxis\":{\"colorbar\":{\"outlinewidth\":0,\"ticks\":\"\"}},\"colorscale\":{\"sequential\":[[0.0,\"#0d0887\"],[0.1111111111111111,\"#46039f\"],[0.2222222222222222,\"#7201a8\"],[0.3333333333333333,\"#9c179e\"],[0.4444444444444444,\"#bd3786\"],[0.5555555555555556,\"#d8576b\"],[0.6666666666666666,\"#ed7953\"],[0.7777777777777778,\"#fb9f3a\"],[0.8888888888888888,\"#fdca26\"],[1.0,\"#f0f921\"]],\"sequentialminus\":[[0.0,\"#0d0887\"],[0.1111111111111111,\"#46039f\"],[0.2222222222222222,\"#7201a8\"],[0.3333333333333333,\"#9c179e\"],[0.4444444444444444,\"#bd3786\"],[0.5555555555555556,\"#d8576b\"],[0.6666666666666666,\"#ed7953\"],[0.7777777777777778,\"#fb9f3a\"],[0.8888888888888888,\"#fdca26\"],[1.0,\"#f0f921\"]],\"diverging\":[[0,\"#8e0152\"],[0.1,\"#c51b7d\"],[0.2,\"#de77ae\"],[0.3,\"#f1b6da\"],[0.4,\"#fde0ef\"],[0.5,\"#f7f7f7\"],[0.6,\"#e6f5d0\"],[0.7,\"#b8e186\"],[0.8,\"#7fbc41\"],[0.9,\"#4d9221\"],[1,\"#276419\"]]},\"xaxis\":{\"gridcolor\":\"white\",\"linecolor\":\"white\",\"ticks\":\"\",\"title\":{\"standoff\":15},\"zerolinecolor\":\"white\",\"automargin\":true,\"zerolinewidth\":2},\"yaxis\":{\"gridcolor\":\"white\",\"linecolor\":\"white\",\"ticks\":\"\",\"title\":{\"standoff\":15},\"zerolinecolor\":\"white\",\"automargin\":true,\"zerolinewidth\":2},\"scene\":{\"xaxis\":{\"backgroundcolor\":\"#E5ECF6\",\"gridcolor\":\"white\",\"linecolor\":\"white\",\"showbackground\":true,\"ticks\":\"\",\"zerolinecolor\":\"white\",\"gridwidth\":2},\"yaxis\":{\"backgroundcolor\":\"#E5ECF6\",\"gridcolor\":\"white\",\"linecolor\":\"white\",\"showbackground\":true,\"ticks\":\"\",\"zerolinecolor\":\"white\",\"gridwidth\":2},\"zaxis\":{\"backgroundcolor\":\"#E5ECF6\",\"gridcolor\":\"white\",\"linecolor\":\"white\",\"showbackground\":true,\"ticks\":\"\",\"zerolinecolor\":\"white\",\"gridwidth\":2}},\"shapedefaults\":{\"line\":{\"color\":\"#2a3f5f\"}},\"annotationdefaults\":{\"arrowcolor\":\"#2a3f5f\",\"arrowhead\":0,\"arrowwidth\":1},\"geo\":{\"bgcolor\":\"white\",\"landcolor\":\"#E5ECF6\",\"subunitcolor\":\"white\",\"showland\":true,\"showlakes\":true,\"lakecolor\":\"white\"},\"title\":{\"x\":0.05},\"mapbox\":{\"style\":\"light\"}}},\"xaxis\":{\"anchor\":\"y\",\"domain\":[0.0,1.0],\"title\":{\"text\":\"fecha\"}},\"yaxis\":{\"anchor\":\"x\",\"domain\":[0.0,1.0],\"title\":{\"text\":\"value\"}},\"legend\":{\"title\":{\"text\":\"variable\"},\"tracegroupgap\":0},\"title\":{\"text\":\"USD\\u002fUVA\"}},                        {\"responsive\": true}                    ).then(function(){\n",
              "                            \n",
              "var gd = document.getElementById('abc1597a-f5a0-4201-a00d-3b3792769b7a');\n",
              "var x = new MutationObserver(function (mutations, observer) {{\n",
              "        var display = window.getComputedStyle(gd).display;\n",
              "        if (!display || display === 'none') {{\n",
              "            console.log([gd, 'removed!']);\n",
              "            Plotly.purge(gd);\n",
              "            observer.disconnect();\n",
              "        }}\n",
              "}});\n",
              "\n",
              "// Listen for the removal of the full notebook cells\n",
              "var notebookContainer = gd.closest('#notebook-container');\n",
              "if (notebookContainer) {{\n",
              "    x.observe(notebookContainer, {childList: true});\n",
              "}}\n",
              "\n",
              "// Listen for the clearing of the current output cell\n",
              "var outputEl = gd.closest('.output');\n",
              "if (outputEl) {{\n",
              "    x.observe(outputEl, {childList: true});\n",
              "}}\n",
              "\n",
              "                        })                };                });            </script>        </div>"
            ]
          },
          "metadata": {}
        }
      ]
    },
    {
      "cell_type": "code",
      "source": [
        "uva_usd_df['chg']= uva_usd_df.usd_en_uva.pct_change()"
      ],
      "metadata": {
        "id": "0CzWtWpYOAvs"
      },
      "execution_count": null,
      "outputs": []
    },
    {
      "cell_type": "code",
      "source": [
        "px.histogram(uva_usd_df, x='chg', nbins=10, title='Cuantos días para cada % de suba/baja del dólar en uva')"
      ],
      "metadata": {
        "colab": {
          "base_uri": "https://localhost:8080/",
          "height": 542
        },
        "id": "ltfb3vO4ObRm",
        "outputId": "9c80a649-f47d-41b3-b8a3-fa773edd5ae5"
      },
      "execution_count": null,
      "outputs": [
        {
          "output_type": "display_data",
          "data": {
            "application/vnd.plotly.v1+json": {
              "data": [
                {
                  "alignmentgroup": "True",
                  "bingroup": "x",
                  "hovertemplate": "chg=%{x}<br>count=%{y}<extra></extra>",
                  "legendgroup": "",
                  "marker": {
                    "color": "#636efa",
                    "pattern": {
                      "shape": ""
                    }
                  },
                  "name": "",
                  "nbinsx": 10,
                  "offsetgroup": "",
                  "orientation": "v",
                  "showlegend": false,
                  "x": [
                    null,
                    0.000015688544933167847,
                    0.004219651939882274,
                    0.004093415750045404,
                    -0.0032589031343470687,
                    -0.010611174052827077,
                    0.012478408271896502,
                    -0.0032497200225961587,
                    0.004073986938226026,
                    -0.0008113590263690851,
                    -0.0032418187717778713,
                    0.00659391562094247,
                    0.008439361525304667,
                    0.0035695911147415327,
                    0.02257291441991982,
                    -0.0012063938876042402,
                    -0.0012889353761860178,
                    0.005751599697760845,
                    0.005704992680239052,
                    -0.0469094989542751,
                    0.001198921233863226,
                    0.0010920952831747766,
                    0.010700113378684817,
                    -0.0035392040288171334,
                    -0.01061040648949041,
                    -0.0011862396204032066,
                    0.001100308142561568,
                    0.00828696181255717,
                    -0.00821307920234382,
                    -0.005900304574511073,
                    0.001098010217362333,
                    -0.003613634143959432,
                    -0.0011706175007317743,
                    -0.006096730481112922,
                    -0.01562825733464912,
                    0.0010520258831689944,
                    -0.011263399024253662,
                    -0.0013527877089574147,
                    0.0009763539211535832,
                    0.001069033628130267,
                    -0.025469238693458074,
                    -0.016619620482549058,
                    -0.016316216474181466,
                    -0.0014296606938620782,
                    0,
                    0,
                    0,
                    0.0009737905314410877,
                    0.011282365794641702,
                    -0.00889059063813391,
                    -0.006341976473405064,
                    -0.011502736226610577,
                    -0.004042873260624247,
                    0.0087813925682938,
                    -0.001406337896118437,
                    0.0010236232385643085,
                    -0.0040107310719347256,
                    -0.00949472390008399,
                    -0.001486712506969079,
                    0.003584101097083403,
                    -0.013031330885169834,
                    -0.004420703628660871,
                    0.003623134006223383,
                    -0.006537921904788635,
                    -0.0014670823399962618,
                    -0.006559499829963178,
                    -0.019782223063601112,
                    -0.0014562664967689987,
                    -0.0015448927662669032,
                    0.0011484800362977499,
                    -0.009230711296677185,
                    -0.004420387911592161,
                    -0.0015312556296163127,
                    -0.001439107753193114,
                    0.006114421975348394,
                    0.005581748324558822,
                    0.010631326928278062,
                    0.0028263515029911535,
                    0.010416227413900137,
                    0.028019777077796126,
                    -0.030903123385704778,
                    -0.014416956861323493,
                    -0.019641642688987715,
                    0.00036394693813024404,
                    0.006125243682465031,
                    -0.014660594906275581,
                    0.0003809618675520987,
                    -0.004673238566937243,
                    0.00039020477267848186,
                    -0.00395557495513843,
                    0.012995288483818701,
                    -0.009650374779206716,
                    -0.002114880297775179,
                    0.005307647442231778,
                    0.008625190464087495,
                    -0.01162794515780019,
                    -0.00868566586388364,
                    0.00553348485281524,
                    0.001736101529130618,
                    -0.006711080432503458,
                    -0.006240670018869854,
                    -0.0018898931799506968,
                    -0.013003362051486889,
                    0.0030900788830272585,
                    -0.0018722018722017175,
                    -0.006809947325574384,
                    -0.0018652177438974737,
                    -0.0006976648087679838,
                    0.00803140520104817,
                    -0.0018478348196353522,
                    0.007860589508837057,
                    0.027231711998458197,
                    0.03187200144156033,
                    -0.03366394904642578,
                    -0.00650993390302701,
                    0.017174247142479615,
                    0.01012281711763574,
                    -0.0017241379310344307,
                    0.007432908223143686,
                    0.02534232404565162,
                    0.025574682080609534,
                    -0.0016295491580663457,
                    -0.005875294226242667,
                    0.002564763585645169,
                    0.062104791053677166,
                    -0.03683405039950827,
                    0.010688400974139034,
                    0.006542051693178896,
                    0.06298655496568117,
                    -0.02065849140866649,
                    0.010491136605536466,
                    0.04024677496831397,
                    0.02027627231986906,
                    0.01265069932285856,
                    -0.008715034834549273,
                    0.03045667108857475,
                    0.053243487684079494,
                    0.06339338327936961,
                    0.0013350226108748142,
                    -0.05034091053758216,
                    -0.0017818686482435897,
                    0.007864758804992267,
                    -0.03953976207436549,
                    -0.060807909889888045,
                    -0.05049313893653529,
                    0.02793643124600953,
                    0.023185213613018174,
                    -0.025945737708911953,
                    0.005427273470860916,
                    -0.00513058656934906,
                    -0.0014730860420021363,
                    0.005391000305054572,
                    0.005344273847456504,
                    -0.008615934389728852,
                    0.0018468550408279327,
                    -0.0038199113252723738,
                    0.001122844227291031,
                    0.004651863710027904,
                    -0.012592926224471945,
                    0.010392535669150327,
                    -0.009154419344955311,
                    -0.009126678765880247,
                    -0.0023104389834069927,
                    -0.005769331517183507,
                    -0.010328236774266086,
                    -0.005841379881105779,
                    -0.01978257340630951,
                    -0.002273510161901582,
                    -0.05222008385456045,
                    0.015506684800739023,
                    0.027098164744342013,
                    -0.016562964113415846,
                    -0.02399395177335062,
                    -0.0096900011272687,
                    -0.0032127948382749683,
                    0.012557492268345571,
                    -0.005928011544486522,
                    0.001333152832876161,
                    -0.00226289517470879,
                    0.029640133560276283,
                    -0.0022425961348196966,
                    -0.0022375781507072423,
                    -0.007067137809187218,
                    0.004802985304804164,
                    -0.005753161321865874,
                    0.007321098275499205,
                    -0.002207505518763808,
                    -0.00924443180062784,
                    -0.002262150982419886,
                    -0.016309762878554568,
                    -0.013820412869221643,
                    -0.002236850514475419,
                    -0.020239805095285,
                    0.008737794842897273,
                    0.021045764862913208,
                    0.004742083680202347,
                    -0.00573097414340884,
                    -0.01271535263037371,
                    0.004387611640523481,
                    0.005058162365711549,
                    -0.005383286936797571,
                    -0.001975674507624814,
                    -0.001910278530934173,
                    0.0011080749870695517,
                    -0.005410025610402602,
                    -0.005357512171637047,
                    0.0015284490592675226,
                    -0.008876224248564712,
                    -0.005802006527257264,
                    0.001559485272840444,
                    -0.0158369816260302,
                    0.005070309379955562,
                    0.0015829979746968537,
                    -0.002307166956582618,
                    0.0015137771133735267,
                    -0.001959852714099042,
                    0.001568777580188474,
                    0.0015011360363332837,
                    0.021602732335749497,
                    0.01815803625776402,
                    -0.005333109795578661,
                    -0.001987839101964428,
                    0,
                    -0.0033003300330033403,
                    0.0045668663970364065,
                    0.004948964517317966,
                    0.020600897802745877,
                    0.0011509080096976376,
                    -0.008329601759118677,
                    -0.015612778762557067,
                    -0.005262686729253452,
                    -0.005212203808225957,
                    -0.005275196755626266,
                    -0.0020413949532178677,
                    0.0035940641672478346,
                    0.001184062486379256,
                    -0.014815374540325443,
                    -0.0005265736596994364,
                    0.01404884735406875,
                    -0.0020474793868628938,
                    0.0011147950552661268,
                    0.011054924656190401,
                    -0.001509415896399413,
                    -0.004635239529355406,
                    0.014020396154771797,
                    0.02904198289715998,
                    0.016302569137620626,
                    0.024489772590886583,
                    0.0013186524794732701,
                    -0.021368590124469566,
                    -0.013056467331184152
                  ],
                  "xaxis": "x",
                  "yaxis": "y",
                  "type": "histogram"
                }
              ],
              "layout": {
                "template": {
                  "data": {
                    "histogram2dcontour": [
                      {
                        "type": "histogram2dcontour",
                        "colorbar": {
                          "outlinewidth": 0,
                          "ticks": ""
                        },
                        "colorscale": [
                          [
                            0,
                            "#0d0887"
                          ],
                          [
                            0.1111111111111111,
                            "#46039f"
                          ],
                          [
                            0.2222222222222222,
                            "#7201a8"
                          ],
                          [
                            0.3333333333333333,
                            "#9c179e"
                          ],
                          [
                            0.4444444444444444,
                            "#bd3786"
                          ],
                          [
                            0.5555555555555556,
                            "#d8576b"
                          ],
                          [
                            0.6666666666666666,
                            "#ed7953"
                          ],
                          [
                            0.7777777777777778,
                            "#fb9f3a"
                          ],
                          [
                            0.8888888888888888,
                            "#fdca26"
                          ],
                          [
                            1,
                            "#f0f921"
                          ]
                        ]
                      }
                    ],
                    "choropleth": [
                      {
                        "type": "choropleth",
                        "colorbar": {
                          "outlinewidth": 0,
                          "ticks": ""
                        }
                      }
                    ],
                    "histogram2d": [
                      {
                        "type": "histogram2d",
                        "colorbar": {
                          "outlinewidth": 0,
                          "ticks": ""
                        },
                        "colorscale": [
                          [
                            0,
                            "#0d0887"
                          ],
                          [
                            0.1111111111111111,
                            "#46039f"
                          ],
                          [
                            0.2222222222222222,
                            "#7201a8"
                          ],
                          [
                            0.3333333333333333,
                            "#9c179e"
                          ],
                          [
                            0.4444444444444444,
                            "#bd3786"
                          ],
                          [
                            0.5555555555555556,
                            "#d8576b"
                          ],
                          [
                            0.6666666666666666,
                            "#ed7953"
                          ],
                          [
                            0.7777777777777778,
                            "#fb9f3a"
                          ],
                          [
                            0.8888888888888888,
                            "#fdca26"
                          ],
                          [
                            1,
                            "#f0f921"
                          ]
                        ]
                      }
                    ],
                    "heatmap": [
                      {
                        "type": "heatmap",
                        "colorbar": {
                          "outlinewidth": 0,
                          "ticks": ""
                        },
                        "colorscale": [
                          [
                            0,
                            "#0d0887"
                          ],
                          [
                            0.1111111111111111,
                            "#46039f"
                          ],
                          [
                            0.2222222222222222,
                            "#7201a8"
                          ],
                          [
                            0.3333333333333333,
                            "#9c179e"
                          ],
                          [
                            0.4444444444444444,
                            "#bd3786"
                          ],
                          [
                            0.5555555555555556,
                            "#d8576b"
                          ],
                          [
                            0.6666666666666666,
                            "#ed7953"
                          ],
                          [
                            0.7777777777777778,
                            "#fb9f3a"
                          ],
                          [
                            0.8888888888888888,
                            "#fdca26"
                          ],
                          [
                            1,
                            "#f0f921"
                          ]
                        ]
                      }
                    ],
                    "heatmapgl": [
                      {
                        "type": "heatmapgl",
                        "colorbar": {
                          "outlinewidth": 0,
                          "ticks": ""
                        },
                        "colorscale": [
                          [
                            0,
                            "#0d0887"
                          ],
                          [
                            0.1111111111111111,
                            "#46039f"
                          ],
                          [
                            0.2222222222222222,
                            "#7201a8"
                          ],
                          [
                            0.3333333333333333,
                            "#9c179e"
                          ],
                          [
                            0.4444444444444444,
                            "#bd3786"
                          ],
                          [
                            0.5555555555555556,
                            "#d8576b"
                          ],
                          [
                            0.6666666666666666,
                            "#ed7953"
                          ],
                          [
                            0.7777777777777778,
                            "#fb9f3a"
                          ],
                          [
                            0.8888888888888888,
                            "#fdca26"
                          ],
                          [
                            1,
                            "#f0f921"
                          ]
                        ]
                      }
                    ],
                    "contourcarpet": [
                      {
                        "type": "contourcarpet",
                        "colorbar": {
                          "outlinewidth": 0,
                          "ticks": ""
                        }
                      }
                    ],
                    "contour": [
                      {
                        "type": "contour",
                        "colorbar": {
                          "outlinewidth": 0,
                          "ticks": ""
                        },
                        "colorscale": [
                          [
                            0,
                            "#0d0887"
                          ],
                          [
                            0.1111111111111111,
                            "#46039f"
                          ],
                          [
                            0.2222222222222222,
                            "#7201a8"
                          ],
                          [
                            0.3333333333333333,
                            "#9c179e"
                          ],
                          [
                            0.4444444444444444,
                            "#bd3786"
                          ],
                          [
                            0.5555555555555556,
                            "#d8576b"
                          ],
                          [
                            0.6666666666666666,
                            "#ed7953"
                          ],
                          [
                            0.7777777777777778,
                            "#fb9f3a"
                          ],
                          [
                            0.8888888888888888,
                            "#fdca26"
                          ],
                          [
                            1,
                            "#f0f921"
                          ]
                        ]
                      }
                    ],
                    "surface": [
                      {
                        "type": "surface",
                        "colorbar": {
                          "outlinewidth": 0,
                          "ticks": ""
                        },
                        "colorscale": [
                          [
                            0,
                            "#0d0887"
                          ],
                          [
                            0.1111111111111111,
                            "#46039f"
                          ],
                          [
                            0.2222222222222222,
                            "#7201a8"
                          ],
                          [
                            0.3333333333333333,
                            "#9c179e"
                          ],
                          [
                            0.4444444444444444,
                            "#bd3786"
                          ],
                          [
                            0.5555555555555556,
                            "#d8576b"
                          ],
                          [
                            0.6666666666666666,
                            "#ed7953"
                          ],
                          [
                            0.7777777777777778,
                            "#fb9f3a"
                          ],
                          [
                            0.8888888888888888,
                            "#fdca26"
                          ],
                          [
                            1,
                            "#f0f921"
                          ]
                        ]
                      }
                    ],
                    "mesh3d": [
                      {
                        "type": "mesh3d",
                        "colorbar": {
                          "outlinewidth": 0,
                          "ticks": ""
                        }
                      }
                    ],
                    "scatter": [
                      {
                        "fillpattern": {
                          "fillmode": "overlay",
                          "size": 10,
                          "solidity": 0.2
                        },
                        "type": "scatter"
                      }
                    ],
                    "parcoords": [
                      {
                        "type": "parcoords",
                        "line": {
                          "colorbar": {
                            "outlinewidth": 0,
                            "ticks": ""
                          }
                        }
                      }
                    ],
                    "scatterpolargl": [
                      {
                        "type": "scatterpolargl",
                        "marker": {
                          "colorbar": {
                            "outlinewidth": 0,
                            "ticks": ""
                          }
                        }
                      }
                    ],
                    "bar": [
                      {
                        "error_x": {
                          "color": "#2a3f5f"
                        },
                        "error_y": {
                          "color": "#2a3f5f"
                        },
                        "marker": {
                          "line": {
                            "color": "#E5ECF6",
                            "width": 0.5
                          },
                          "pattern": {
                            "fillmode": "overlay",
                            "size": 10,
                            "solidity": 0.2
                          }
                        },
                        "type": "bar"
                      }
                    ],
                    "scattergeo": [
                      {
                        "type": "scattergeo",
                        "marker": {
                          "colorbar": {
                            "outlinewidth": 0,
                            "ticks": ""
                          }
                        }
                      }
                    ],
                    "scatterpolar": [
                      {
                        "type": "scatterpolar",
                        "marker": {
                          "colorbar": {
                            "outlinewidth": 0,
                            "ticks": ""
                          }
                        }
                      }
                    ],
                    "histogram": [
                      {
                        "marker": {
                          "pattern": {
                            "fillmode": "overlay",
                            "size": 10,
                            "solidity": 0.2
                          }
                        },
                        "type": "histogram"
                      }
                    ],
                    "scattergl": [
                      {
                        "type": "scattergl",
                        "marker": {
                          "colorbar": {
                            "outlinewidth": 0,
                            "ticks": ""
                          }
                        }
                      }
                    ],
                    "scatter3d": [
                      {
                        "type": "scatter3d",
                        "line": {
                          "colorbar": {
                            "outlinewidth": 0,
                            "ticks": ""
                          }
                        },
                        "marker": {
                          "colorbar": {
                            "outlinewidth": 0,
                            "ticks": ""
                          }
                        }
                      }
                    ],
                    "scattermapbox": [
                      {
                        "type": "scattermapbox",
                        "marker": {
                          "colorbar": {
                            "outlinewidth": 0,
                            "ticks": ""
                          }
                        }
                      }
                    ],
                    "scatterternary": [
                      {
                        "type": "scatterternary",
                        "marker": {
                          "colorbar": {
                            "outlinewidth": 0,
                            "ticks": ""
                          }
                        }
                      }
                    ],
                    "scattercarpet": [
                      {
                        "type": "scattercarpet",
                        "marker": {
                          "colorbar": {
                            "outlinewidth": 0,
                            "ticks": ""
                          }
                        }
                      }
                    ],
                    "carpet": [
                      {
                        "aaxis": {
                          "endlinecolor": "#2a3f5f",
                          "gridcolor": "white",
                          "linecolor": "white",
                          "minorgridcolor": "white",
                          "startlinecolor": "#2a3f5f"
                        },
                        "baxis": {
                          "endlinecolor": "#2a3f5f",
                          "gridcolor": "white",
                          "linecolor": "white",
                          "minorgridcolor": "white",
                          "startlinecolor": "#2a3f5f"
                        },
                        "type": "carpet"
                      }
                    ],
                    "table": [
                      {
                        "cells": {
                          "fill": {
                            "color": "#EBF0F8"
                          },
                          "line": {
                            "color": "white"
                          }
                        },
                        "header": {
                          "fill": {
                            "color": "#C8D4E3"
                          },
                          "line": {
                            "color": "white"
                          }
                        },
                        "type": "table"
                      }
                    ],
                    "barpolar": [
                      {
                        "marker": {
                          "line": {
                            "color": "#E5ECF6",
                            "width": 0.5
                          },
                          "pattern": {
                            "fillmode": "overlay",
                            "size": 10,
                            "solidity": 0.2
                          }
                        },
                        "type": "barpolar"
                      }
                    ],
                    "pie": [
                      {
                        "automargin": true,
                        "type": "pie"
                      }
                    ]
                  },
                  "layout": {
                    "autotypenumbers": "strict",
                    "colorway": [
                      "#636efa",
                      "#EF553B",
                      "#00cc96",
                      "#ab63fa",
                      "#FFA15A",
                      "#19d3f3",
                      "#FF6692",
                      "#B6E880",
                      "#FF97FF",
                      "#FECB52"
                    ],
                    "font": {
                      "color": "#2a3f5f"
                    },
                    "hovermode": "closest",
                    "hoverlabel": {
                      "align": "left"
                    },
                    "paper_bgcolor": "white",
                    "plot_bgcolor": "#E5ECF6",
                    "polar": {
                      "bgcolor": "#E5ECF6",
                      "angularaxis": {
                        "gridcolor": "white",
                        "linecolor": "white",
                        "ticks": ""
                      },
                      "radialaxis": {
                        "gridcolor": "white",
                        "linecolor": "white",
                        "ticks": ""
                      }
                    },
                    "ternary": {
                      "bgcolor": "#E5ECF6",
                      "aaxis": {
                        "gridcolor": "white",
                        "linecolor": "white",
                        "ticks": ""
                      },
                      "baxis": {
                        "gridcolor": "white",
                        "linecolor": "white",
                        "ticks": ""
                      },
                      "caxis": {
                        "gridcolor": "white",
                        "linecolor": "white",
                        "ticks": ""
                      }
                    },
                    "coloraxis": {
                      "colorbar": {
                        "outlinewidth": 0,
                        "ticks": ""
                      }
                    },
                    "colorscale": {
                      "sequential": [
                        [
                          0,
                          "#0d0887"
                        ],
                        [
                          0.1111111111111111,
                          "#46039f"
                        ],
                        [
                          0.2222222222222222,
                          "#7201a8"
                        ],
                        [
                          0.3333333333333333,
                          "#9c179e"
                        ],
                        [
                          0.4444444444444444,
                          "#bd3786"
                        ],
                        [
                          0.5555555555555556,
                          "#d8576b"
                        ],
                        [
                          0.6666666666666666,
                          "#ed7953"
                        ],
                        [
                          0.7777777777777778,
                          "#fb9f3a"
                        ],
                        [
                          0.8888888888888888,
                          "#fdca26"
                        ],
                        [
                          1,
                          "#f0f921"
                        ]
                      ],
                      "sequentialminus": [
                        [
                          0,
                          "#0d0887"
                        ],
                        [
                          0.1111111111111111,
                          "#46039f"
                        ],
                        [
                          0.2222222222222222,
                          "#7201a8"
                        ],
                        [
                          0.3333333333333333,
                          "#9c179e"
                        ],
                        [
                          0.4444444444444444,
                          "#bd3786"
                        ],
                        [
                          0.5555555555555556,
                          "#d8576b"
                        ],
                        [
                          0.6666666666666666,
                          "#ed7953"
                        ],
                        [
                          0.7777777777777778,
                          "#fb9f3a"
                        ],
                        [
                          0.8888888888888888,
                          "#fdca26"
                        ],
                        [
                          1,
                          "#f0f921"
                        ]
                      ],
                      "diverging": [
                        [
                          0,
                          "#8e0152"
                        ],
                        [
                          0.1,
                          "#c51b7d"
                        ],
                        [
                          0.2,
                          "#de77ae"
                        ],
                        [
                          0.3,
                          "#f1b6da"
                        ],
                        [
                          0.4,
                          "#fde0ef"
                        ],
                        [
                          0.5,
                          "#f7f7f7"
                        ],
                        [
                          0.6,
                          "#e6f5d0"
                        ],
                        [
                          0.7,
                          "#b8e186"
                        ],
                        [
                          0.8,
                          "#7fbc41"
                        ],
                        [
                          0.9,
                          "#4d9221"
                        ],
                        [
                          1,
                          "#276419"
                        ]
                      ]
                    },
                    "xaxis": {
                      "gridcolor": "white",
                      "linecolor": "white",
                      "ticks": "",
                      "title": {
                        "standoff": 15
                      },
                      "zerolinecolor": "white",
                      "automargin": true,
                      "zerolinewidth": 2
                    },
                    "yaxis": {
                      "gridcolor": "white",
                      "linecolor": "white",
                      "ticks": "",
                      "title": {
                        "standoff": 15
                      },
                      "zerolinecolor": "white",
                      "automargin": true,
                      "zerolinewidth": 2
                    },
                    "scene": {
                      "xaxis": {
                        "backgroundcolor": "#E5ECF6",
                        "gridcolor": "white",
                        "linecolor": "white",
                        "showbackground": true,
                        "ticks": "",
                        "zerolinecolor": "white",
                        "gridwidth": 2
                      },
                      "yaxis": {
                        "backgroundcolor": "#E5ECF6",
                        "gridcolor": "white",
                        "linecolor": "white",
                        "showbackground": true,
                        "ticks": "",
                        "zerolinecolor": "white",
                        "gridwidth": 2
                      },
                      "zaxis": {
                        "backgroundcolor": "#E5ECF6",
                        "gridcolor": "white",
                        "linecolor": "white",
                        "showbackground": true,
                        "ticks": "",
                        "zerolinecolor": "white",
                        "gridwidth": 2
                      }
                    },
                    "shapedefaults": {
                      "line": {
                        "color": "#2a3f5f"
                      }
                    },
                    "annotationdefaults": {
                      "arrowcolor": "#2a3f5f",
                      "arrowhead": 0,
                      "arrowwidth": 1
                    },
                    "geo": {
                      "bgcolor": "white",
                      "landcolor": "#E5ECF6",
                      "subunitcolor": "white",
                      "showland": true,
                      "showlakes": true,
                      "lakecolor": "white"
                    },
                    "title": {
                      "x": 0.05
                    },
                    "mapbox": {
                      "style": "light"
                    }
                  }
                },
                "xaxis": {
                  "anchor": "y",
                  "domain": [
                    0,
                    1
                  ],
                  "title": {
                    "text": "chg"
                  }
                },
                "yaxis": {
                  "anchor": "x",
                  "domain": [
                    0,
                    1
                  ],
                  "title": {
                    "text": "count"
                  }
                },
                "legend": {
                  "tracegroupgap": 0
                },
                "title": {
                  "text": "Cuantos días para cada % de suba/baja del dólar en uva"
                },
                "barmode": "relative"
              },
              "config": {
                "plotlyServerURL": "https://plot.ly"
              }
            },
            "text/html": [
              "<div>                            <div id=\"e392a327-5570-4c37-9a85-364237052f79\" class=\"plotly-graph-div\" style=\"height:525px; width:100%;\"></div>            <script type=\"text/javascript\">                require([\"plotly\"], function(Plotly) {                    window.PLOTLYENV=window.PLOTLYENV || {};                                    if (document.getElementById(\"e392a327-5570-4c37-9a85-364237052f79\")) {                    Plotly.newPlot(                        \"e392a327-5570-4c37-9a85-364237052f79\",                        [{\"alignmentgroup\":\"True\",\"bingroup\":\"x\",\"hovertemplate\":\"chg=%{x}\\u003cbr\\u003ecount=%{y}\\u003cextra\\u003e\\u003c\\u002fextra\\u003e\",\"legendgroup\":\"\",\"marker\":{\"color\":\"#636efa\",\"pattern\":{\"shape\":\"\"}},\"name\":\"\",\"nbinsx\":10,\"offsetgroup\":\"\",\"orientation\":\"v\",\"showlegend\":false,\"x\":[null,1.5688544933167847e-05,0.004219651939882274,0.004093415750045404,-0.0032589031343470687,-0.010611174052827077,0.012478408271896502,-0.0032497200225961587,0.004073986938226026,-0.0008113590263690851,-0.0032418187717778713,0.00659391562094247,0.008439361525304667,0.0035695911147415327,0.02257291441991982,-0.0012063938876042402,-0.0012889353761860178,0.005751599697760845,0.005704992680239052,-0.0469094989542751,0.001198921233863226,0.0010920952831747766,0.010700113378684817,-0.0035392040288171334,-0.01061040648949041,-0.0011862396204032066,0.001100308142561568,0.00828696181255717,-0.00821307920234382,-0.005900304574511073,0.001098010217362333,-0.003613634143959432,-0.0011706175007317743,-0.006096730481112922,-0.01562825733464912,0.0010520258831689944,-0.011263399024253662,-0.0013527877089574147,0.0009763539211535832,0.001069033628130267,-0.025469238693458074,-0.016619620482549058,-0.016316216474181466,-0.0014296606938620782,0.0,0.0,0.0,0.0009737905314410877,0.011282365794641702,-0.00889059063813391,-0.006341976473405064,-0.011502736226610577,-0.004042873260624247,0.0087813925682938,-0.001406337896118437,0.0010236232385643085,-0.0040107310719347256,-0.00949472390008399,-0.001486712506969079,0.003584101097083403,-0.013031330885169834,-0.004420703628660871,0.003623134006223383,-0.006537921904788635,-0.0014670823399962618,-0.006559499829963178,-0.019782223063601112,-0.0014562664967689987,-0.0015448927662669032,0.0011484800362977499,-0.009230711296677185,-0.004420387911592161,-0.0015312556296163127,-0.001439107753193114,0.006114421975348394,0.005581748324558822,0.010631326928278062,0.0028263515029911535,0.010416227413900137,0.028019777077796126,-0.030903123385704778,-0.014416956861323493,-0.019641642688987715,0.00036394693813024404,0.006125243682465031,-0.014660594906275581,0.0003809618675520987,-0.004673238566937243,0.00039020477267848186,-0.00395557495513843,0.012995288483818701,-0.009650374779206716,-0.002114880297775179,0.005307647442231778,0.008625190464087495,-0.01162794515780019,-0.00868566586388364,0.00553348485281524,0.001736101529130618,-0.006711080432503458,-0.006240670018869854,-0.0018898931799506968,-0.013003362051486889,0.0030900788830272585,-0.0018722018722017175,-0.006809947325574384,-0.0018652177438974737,-0.0006976648087679838,0.00803140520104817,-0.0018478348196353522,0.007860589508837057,0.027231711998458197,0.03187200144156033,-0.03366394904642578,-0.00650993390302701,0.017174247142479615,0.01012281711763574,-0.0017241379310344307,0.007432908223143686,0.02534232404565162,0.025574682080609534,-0.0016295491580663457,-0.005875294226242667,0.002564763585645169,0.062104791053677166,-0.03683405039950827,0.010688400974139034,0.006542051693178896,0.06298655496568117,-0.02065849140866649,0.010491136605536466,0.04024677496831397,0.02027627231986906,0.01265069932285856,-0.008715034834549273,0.03045667108857475,0.053243487684079494,0.06339338327936961,0.0013350226108748142,-0.05034091053758216,-0.0017818686482435897,0.007864758804992267,-0.03953976207436549,-0.060807909889888045,-0.05049313893653529,0.02793643124600953,0.023185213613018174,-0.025945737708911953,0.005427273470860916,-0.00513058656934906,-0.0014730860420021363,0.005391000305054572,0.005344273847456504,-0.008615934389728852,0.0018468550408279327,-0.0038199113252723738,0.001122844227291031,0.004651863710027904,-0.012592926224471945,0.010392535669150327,-0.009154419344955311,-0.009126678765880247,-0.0023104389834069927,-0.005769331517183507,-0.010328236774266086,-0.005841379881105779,-0.01978257340630951,-0.002273510161901582,-0.05222008385456045,0.015506684800739023,0.027098164744342013,-0.016562964113415846,-0.02399395177335062,-0.0096900011272687,-0.0032127948382749683,0.012557492268345571,-0.005928011544486522,0.001333152832876161,-0.00226289517470879,0.029640133560276283,-0.0022425961348196966,-0.0022375781507072423,-0.007067137809187218,0.004802985304804164,-0.005753161321865874,0.007321098275499205,-0.002207505518763808,-0.00924443180062784,-0.002262150982419886,-0.016309762878554568,-0.013820412869221643,-0.002236850514475419,-0.020239805095285,0.008737794842897273,0.021045764862913208,0.004742083680202347,-0.00573097414340884,-0.01271535263037371,0.004387611640523481,0.005058162365711549,-0.005383286936797571,-0.001975674507624814,-0.001910278530934173,0.0011080749870695517,-0.005410025610402602,-0.005357512171637047,0.0015284490592675226,-0.008876224248564712,-0.005802006527257264,0.001559485272840444,-0.0158369816260302,0.005070309379955562,0.0015829979746968537,-0.002307166956582618,0.0015137771133735267,-0.001959852714099042,0.001568777580188474,0.0015011360363332837,0.021602732335749497,0.01815803625776402,-0.005333109795578661,-0.001987839101964428,0.0,-0.0033003300330033403,0.0045668663970364065,0.004948964517317966,0.020600897802745877,0.0011509080096976376,-0.008329601759118677,-0.015612778762557067,-0.005262686729253452,-0.005212203808225957,-0.005275196755626266,-0.0020413949532178677,0.0035940641672478346,0.001184062486379256,-0.014815374540325443,-0.0005265736596994364,0.01404884735406875,-0.0020474793868628938,0.0011147950552661268,0.011054924656190401,-0.001509415896399413,-0.004635239529355406,0.014020396154771797,0.02904198289715998,0.016302569137620626,0.024489772590886583,0.0013186524794732701,-0.021368590124469566,-0.013056467331184152],\"xaxis\":\"x\",\"yaxis\":\"y\",\"type\":\"histogram\"}],                        {\"template\":{\"data\":{\"histogram2dcontour\":[{\"type\":\"histogram2dcontour\",\"colorbar\":{\"outlinewidth\":0,\"ticks\":\"\"},\"colorscale\":[[0.0,\"#0d0887\"],[0.1111111111111111,\"#46039f\"],[0.2222222222222222,\"#7201a8\"],[0.3333333333333333,\"#9c179e\"],[0.4444444444444444,\"#bd3786\"],[0.5555555555555556,\"#d8576b\"],[0.6666666666666666,\"#ed7953\"],[0.7777777777777778,\"#fb9f3a\"],[0.8888888888888888,\"#fdca26\"],[1.0,\"#f0f921\"]]}],\"choropleth\":[{\"type\":\"choropleth\",\"colorbar\":{\"outlinewidth\":0,\"ticks\":\"\"}}],\"histogram2d\":[{\"type\":\"histogram2d\",\"colorbar\":{\"outlinewidth\":0,\"ticks\":\"\"},\"colorscale\":[[0.0,\"#0d0887\"],[0.1111111111111111,\"#46039f\"],[0.2222222222222222,\"#7201a8\"],[0.3333333333333333,\"#9c179e\"],[0.4444444444444444,\"#bd3786\"],[0.5555555555555556,\"#d8576b\"],[0.6666666666666666,\"#ed7953\"],[0.7777777777777778,\"#fb9f3a\"],[0.8888888888888888,\"#fdca26\"],[1.0,\"#f0f921\"]]}],\"heatmap\":[{\"type\":\"heatmap\",\"colorbar\":{\"outlinewidth\":0,\"ticks\":\"\"},\"colorscale\":[[0.0,\"#0d0887\"],[0.1111111111111111,\"#46039f\"],[0.2222222222222222,\"#7201a8\"],[0.3333333333333333,\"#9c179e\"],[0.4444444444444444,\"#bd3786\"],[0.5555555555555556,\"#d8576b\"],[0.6666666666666666,\"#ed7953\"],[0.7777777777777778,\"#fb9f3a\"],[0.8888888888888888,\"#fdca26\"],[1.0,\"#f0f921\"]]}],\"heatmapgl\":[{\"type\":\"heatmapgl\",\"colorbar\":{\"outlinewidth\":0,\"ticks\":\"\"},\"colorscale\":[[0.0,\"#0d0887\"],[0.1111111111111111,\"#46039f\"],[0.2222222222222222,\"#7201a8\"],[0.3333333333333333,\"#9c179e\"],[0.4444444444444444,\"#bd3786\"],[0.5555555555555556,\"#d8576b\"],[0.6666666666666666,\"#ed7953\"],[0.7777777777777778,\"#fb9f3a\"],[0.8888888888888888,\"#fdca26\"],[1.0,\"#f0f921\"]]}],\"contourcarpet\":[{\"type\":\"contourcarpet\",\"colorbar\":{\"outlinewidth\":0,\"ticks\":\"\"}}],\"contour\":[{\"type\":\"contour\",\"colorbar\":{\"outlinewidth\":0,\"ticks\":\"\"},\"colorscale\":[[0.0,\"#0d0887\"],[0.1111111111111111,\"#46039f\"],[0.2222222222222222,\"#7201a8\"],[0.3333333333333333,\"#9c179e\"],[0.4444444444444444,\"#bd3786\"],[0.5555555555555556,\"#d8576b\"],[0.6666666666666666,\"#ed7953\"],[0.7777777777777778,\"#fb9f3a\"],[0.8888888888888888,\"#fdca26\"],[1.0,\"#f0f921\"]]}],\"surface\":[{\"type\":\"surface\",\"colorbar\":{\"outlinewidth\":0,\"ticks\":\"\"},\"colorscale\":[[0.0,\"#0d0887\"],[0.1111111111111111,\"#46039f\"],[0.2222222222222222,\"#7201a8\"],[0.3333333333333333,\"#9c179e\"],[0.4444444444444444,\"#bd3786\"],[0.5555555555555556,\"#d8576b\"],[0.6666666666666666,\"#ed7953\"],[0.7777777777777778,\"#fb9f3a\"],[0.8888888888888888,\"#fdca26\"],[1.0,\"#f0f921\"]]}],\"mesh3d\":[{\"type\":\"mesh3d\",\"colorbar\":{\"outlinewidth\":0,\"ticks\":\"\"}}],\"scatter\":[{\"fillpattern\":{\"fillmode\":\"overlay\",\"size\":10,\"solidity\":0.2},\"type\":\"scatter\"}],\"parcoords\":[{\"type\":\"parcoords\",\"line\":{\"colorbar\":{\"outlinewidth\":0,\"ticks\":\"\"}}}],\"scatterpolargl\":[{\"type\":\"scatterpolargl\",\"marker\":{\"colorbar\":{\"outlinewidth\":0,\"ticks\":\"\"}}}],\"bar\":[{\"error_x\":{\"color\":\"#2a3f5f\"},\"error_y\":{\"color\":\"#2a3f5f\"},\"marker\":{\"line\":{\"color\":\"#E5ECF6\",\"width\":0.5},\"pattern\":{\"fillmode\":\"overlay\",\"size\":10,\"solidity\":0.2}},\"type\":\"bar\"}],\"scattergeo\":[{\"type\":\"scattergeo\",\"marker\":{\"colorbar\":{\"outlinewidth\":0,\"ticks\":\"\"}}}],\"scatterpolar\":[{\"type\":\"scatterpolar\",\"marker\":{\"colorbar\":{\"outlinewidth\":0,\"ticks\":\"\"}}}],\"histogram\":[{\"marker\":{\"pattern\":{\"fillmode\":\"overlay\",\"size\":10,\"solidity\":0.2}},\"type\":\"histogram\"}],\"scattergl\":[{\"type\":\"scattergl\",\"marker\":{\"colorbar\":{\"outlinewidth\":0,\"ticks\":\"\"}}}],\"scatter3d\":[{\"type\":\"scatter3d\",\"line\":{\"colorbar\":{\"outlinewidth\":0,\"ticks\":\"\"}},\"marker\":{\"colorbar\":{\"outlinewidth\":0,\"ticks\":\"\"}}}],\"scattermapbox\":[{\"type\":\"scattermapbox\",\"marker\":{\"colorbar\":{\"outlinewidth\":0,\"ticks\":\"\"}}}],\"scatterternary\":[{\"type\":\"scatterternary\",\"marker\":{\"colorbar\":{\"outlinewidth\":0,\"ticks\":\"\"}}}],\"scattercarpet\":[{\"type\":\"scattercarpet\",\"marker\":{\"colorbar\":{\"outlinewidth\":0,\"ticks\":\"\"}}}],\"carpet\":[{\"aaxis\":{\"endlinecolor\":\"#2a3f5f\",\"gridcolor\":\"white\",\"linecolor\":\"white\",\"minorgridcolor\":\"white\",\"startlinecolor\":\"#2a3f5f\"},\"baxis\":{\"endlinecolor\":\"#2a3f5f\",\"gridcolor\":\"white\",\"linecolor\":\"white\",\"minorgridcolor\":\"white\",\"startlinecolor\":\"#2a3f5f\"},\"type\":\"carpet\"}],\"table\":[{\"cells\":{\"fill\":{\"color\":\"#EBF0F8\"},\"line\":{\"color\":\"white\"}},\"header\":{\"fill\":{\"color\":\"#C8D4E3\"},\"line\":{\"color\":\"white\"}},\"type\":\"table\"}],\"barpolar\":[{\"marker\":{\"line\":{\"color\":\"#E5ECF6\",\"width\":0.5},\"pattern\":{\"fillmode\":\"overlay\",\"size\":10,\"solidity\":0.2}},\"type\":\"barpolar\"}],\"pie\":[{\"automargin\":true,\"type\":\"pie\"}]},\"layout\":{\"autotypenumbers\":\"strict\",\"colorway\":[\"#636efa\",\"#EF553B\",\"#00cc96\",\"#ab63fa\",\"#FFA15A\",\"#19d3f3\",\"#FF6692\",\"#B6E880\",\"#FF97FF\",\"#FECB52\"],\"font\":{\"color\":\"#2a3f5f\"},\"hovermode\":\"closest\",\"hoverlabel\":{\"align\":\"left\"},\"paper_bgcolor\":\"white\",\"plot_bgcolor\":\"#E5ECF6\",\"polar\":{\"bgcolor\":\"#E5ECF6\",\"angularaxis\":{\"gridcolor\":\"white\",\"linecolor\":\"white\",\"ticks\":\"\"},\"radialaxis\":{\"gridcolor\":\"white\",\"linecolor\":\"white\",\"ticks\":\"\"}},\"ternary\":{\"bgcolor\":\"#E5ECF6\",\"aaxis\":{\"gridcolor\":\"white\",\"linecolor\":\"white\",\"ticks\":\"\"},\"baxis\":{\"gridcolor\":\"white\",\"linecolor\":\"white\",\"ticks\":\"\"},\"caxis\":{\"gridcolor\":\"white\",\"linecolor\":\"white\",\"ticks\":\"\"}},\"coloraxis\":{\"colorbar\":{\"outlinewidth\":0,\"ticks\":\"\"}},\"colorscale\":{\"sequential\":[[0.0,\"#0d0887\"],[0.1111111111111111,\"#46039f\"],[0.2222222222222222,\"#7201a8\"],[0.3333333333333333,\"#9c179e\"],[0.4444444444444444,\"#bd3786\"],[0.5555555555555556,\"#d8576b\"],[0.6666666666666666,\"#ed7953\"],[0.7777777777777778,\"#fb9f3a\"],[0.8888888888888888,\"#fdca26\"],[1.0,\"#f0f921\"]],\"sequentialminus\":[[0.0,\"#0d0887\"],[0.1111111111111111,\"#46039f\"],[0.2222222222222222,\"#7201a8\"],[0.3333333333333333,\"#9c179e\"],[0.4444444444444444,\"#bd3786\"],[0.5555555555555556,\"#d8576b\"],[0.6666666666666666,\"#ed7953\"],[0.7777777777777778,\"#fb9f3a\"],[0.8888888888888888,\"#fdca26\"],[1.0,\"#f0f921\"]],\"diverging\":[[0,\"#8e0152\"],[0.1,\"#c51b7d\"],[0.2,\"#de77ae\"],[0.3,\"#f1b6da\"],[0.4,\"#fde0ef\"],[0.5,\"#f7f7f7\"],[0.6,\"#e6f5d0\"],[0.7,\"#b8e186\"],[0.8,\"#7fbc41\"],[0.9,\"#4d9221\"],[1,\"#276419\"]]},\"xaxis\":{\"gridcolor\":\"white\",\"linecolor\":\"white\",\"ticks\":\"\",\"title\":{\"standoff\":15},\"zerolinecolor\":\"white\",\"automargin\":true,\"zerolinewidth\":2},\"yaxis\":{\"gridcolor\":\"white\",\"linecolor\":\"white\",\"ticks\":\"\",\"title\":{\"standoff\":15},\"zerolinecolor\":\"white\",\"automargin\":true,\"zerolinewidth\":2},\"scene\":{\"xaxis\":{\"backgroundcolor\":\"#E5ECF6\",\"gridcolor\":\"white\",\"linecolor\":\"white\",\"showbackground\":true,\"ticks\":\"\",\"zerolinecolor\":\"white\",\"gridwidth\":2},\"yaxis\":{\"backgroundcolor\":\"#E5ECF6\",\"gridcolor\":\"white\",\"linecolor\":\"white\",\"showbackground\":true,\"ticks\":\"\",\"zerolinecolor\":\"white\",\"gridwidth\":2},\"zaxis\":{\"backgroundcolor\":\"#E5ECF6\",\"gridcolor\":\"white\",\"linecolor\":\"white\",\"showbackground\":true,\"ticks\":\"\",\"zerolinecolor\":\"white\",\"gridwidth\":2}},\"shapedefaults\":{\"line\":{\"color\":\"#2a3f5f\"}},\"annotationdefaults\":{\"arrowcolor\":\"#2a3f5f\",\"arrowhead\":0,\"arrowwidth\":1},\"geo\":{\"bgcolor\":\"white\",\"landcolor\":\"#E5ECF6\",\"subunitcolor\":\"white\",\"showland\":true,\"showlakes\":true,\"lakecolor\":\"white\"},\"title\":{\"x\":0.05},\"mapbox\":{\"style\":\"light\"}}},\"xaxis\":{\"anchor\":\"y\",\"domain\":[0.0,1.0],\"title\":{\"text\":\"chg\"}},\"yaxis\":{\"anchor\":\"x\",\"domain\":[0.0,1.0],\"title\":{\"text\":\"count\"}},\"legend\":{\"tracegroupgap\":0},\"title\":{\"text\":\"Cuantos d\\u00edas para cada % de suba\\u002fbaja del d\\u00f3lar en uva\"},\"barmode\":\"relative\"},                        {\"responsive\": true}                    ).then(function(){\n",
              "                            \n",
              "var gd = document.getElementById('e392a327-5570-4c37-9a85-364237052f79');\n",
              "var x = new MutationObserver(function (mutations, observer) {{\n",
              "        var display = window.getComputedStyle(gd).display;\n",
              "        if (!display || display === 'none') {{\n",
              "            console.log([gd, 'removed!']);\n",
              "            Plotly.purge(gd);\n",
              "            observer.disconnect();\n",
              "        }}\n",
              "}});\n",
              "\n",
              "// Listen for the removal of the full notebook cells\n",
              "var notebookContainer = gd.closest('#notebook-container');\n",
              "if (notebookContainer) {{\n",
              "    x.observe(notebookContainer, {childList: true});\n",
              "}}\n",
              "\n",
              "// Listen for the clearing of the current output cell\n",
              "var outputEl = gd.closest('.output');\n",
              "if (outputEl) {{\n",
              "    x.observe(outputEl, {childList: true});\n",
              "}}\n",
              "\n",
              "                        })                };                });            </script>        </div>"
            ]
          },
          "metadata": {}
        }
      ]
    }
  ]
}